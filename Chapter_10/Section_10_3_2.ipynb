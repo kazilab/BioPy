{
 "cells": [
  {
   "cell_type": "markdown",
   "id": "782e6274",
   "metadata": {},
   "source": [
    "# Chapter 10"
   ]
  },
  {
   "attachments": {},
   "cell_type": "markdown",
   "id": "8f7abc2e",
   "metadata": {},
   "source": [
    "# 10.3.2. Working with DNA sequences"
   ]
  },
  {
   "attachments": {},
   "cell_type": "markdown",
   "id": "ac54c6c3",
   "metadata": {},
   "source": [
    "Basic sequence manipulation: Reverse complement"
   ]
  },
  {
   "cell_type": "code",
   "execution_count": 1,
   "id": "4257d447",
   "metadata": {},
   "outputs": [
    {
     "name": "stdout",
     "output_type": "stream",
     "text": [
      "Reverse Complement: TAGCTAGCTAGCTACGATCGATCAGCT\n"
     ]
    }
   ],
   "source": [
    "from Bio.Seq import Seq\n",
    "\n",
    "dna_sequence = Seq(\"AGCTGATCGATCGTAGCTAGCTAGCTA\")\n",
    "reverse_complement = dna_sequence.reverse_complement()\n",
    "print(f\"Reverse Complement: {reverse_complement}\")"
   ]
  },
  {
   "attachments": {},
   "cell_type": "markdown",
   "id": "7e7473b4",
   "metadata": {},
   "source": [
    "Basic sequence manipulation: Transcription and translation"
   ]
  },
  {
   "cell_type": "code",
   "execution_count": 3,
   "id": "76d1d9f6",
   "metadata": {},
   "outputs": [
    {
     "name": "stdout",
     "output_type": "stream",
     "text": [
      "RNA Sequence: AGCAGAUCGAUCGUAGCUAGCAAGCUA\n",
      "Protein Sequence: SRSIVASKL\n"
     ]
    }
   ],
   "source": [
    "dna_sequence = Seq(\"AGCAGATCGATCGTAGCTAGCAAGCTA\")\n",
    "rna_sequence = dna_sequence.transcribe()\n",
    "print(f\"RNA Sequence: {rna_sequence}\")\n",
    "\n",
    "protein_sequence = dna_sequence.translate()\n",
    "print(f\"Protein Sequence: {protein_sequence}\")"
   ]
  },
  {
   "cell_type": "markdown",
   "id": "3c719567",
   "metadata": {},
   "source": [
    "Basic sequence manipulation: Searching for motifs"
   ]
  },
  {
   "cell_type": "code",
   "execution_count": 5,
   "id": "099562a5",
   "metadata": {},
   "outputs": [
    {
     "name": "stdout",
     "output_type": "stream",
     "text": [
      "Motif found at positions: [9]\n"
     ]
    }
   ],
   "source": [
    "dna_sequence = Seq(\"AGCAGATCGATGGTAGCTAGCAAGCTA\")\n",
    "\n",
    "motif = \"ATG\"\n",
    "positions = [i for i in range(len(dna_sequence)) if dna_sequence[i:i+len(motif)] == motif]\n",
    "print(f\"Motif found at positions: {positions}\")"
   ]
  }
 ],
 "metadata": {
  "kernelspec": {
   "display_name": "Python 3 (ipykernel)",
   "language": "python",
   "name": "python3"
  },
  "language_info": {
   "codemirror_mode": {
    "name": "ipython",
    "version": 3
   },
   "file_extension": ".py",
   "mimetype": "text/x-python",
   "name": "python",
   "nbconvert_exporter": "python",
   "pygments_lexer": "ipython3",
   "version": "3.11.9"
  }
 },
 "nbformat": 4,
 "nbformat_minor": 5
}
