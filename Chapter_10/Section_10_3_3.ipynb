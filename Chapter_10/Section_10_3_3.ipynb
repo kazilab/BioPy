{
 "cells": [
  {
   "cell_type": "markdown",
   "id": "782e6274",
   "metadata": {},
   "source": [
    "# Chapter 10"
   ]
  },
  {
   "attachments": {},
   "cell_type": "markdown",
   "id": "8f7abc2e",
   "metadata": {},
   "source": [
    "# 10.3.3. Sequence alignment"
   ]
  },
  {
   "attachments": {},
   "cell_type": "markdown",
   "id": "ac54c6c3",
   "metadata": {},
   "source": [
    "Pairwise sequence alignment"
   ]
  },
  {
   "cell_type": "code",
   "execution_count": 6,
   "id": "4257d447",
   "metadata": {},
   "outputs": [
    {
     "name": "stdout",
     "output_type": "stream",
     "text": [
      "target            0 AGCTG-ATCGATCGT- 14\n",
      "                  0 ||||--||||||||-- 16\n",
      "query             0 AGCT-CATCGATCG-A 14\n",
      "\n"
     ]
    }
   ],
   "source": [
    "from Bio.Align import PairwiseAligner\n",
    "\n",
    "# Example sequences\n",
    "seq1 = \"AGCTGATCGATCGT\"\n",
    "seq2 = \"AGCTCATCGATCGA\"\n",
    "\n",
    "# Create an aligner instance\n",
    "aligner = PairwiseAligner()\n",
    "\n",
    "# Perform global alignment\n",
    "alignments = aligner.align(seq1, seq2)\n",
    "\n",
    "# Print the best alignment\n",
    "for alignment in alignments:\n",
    "    print(alignment)\n",
    "    break  # Only print the first (best) alignment"
   ]
  },
  {
   "cell_type": "code",
   "execution_count": null,
   "id": "d378e801",
   "metadata": {},
   "outputs": [],
   "source": []
  }
 ],
 "metadata": {
  "kernelspec": {
   "display_name": "Python 3 (ipykernel)",
   "language": "python",
   "name": "python3"
  },
  "language_info": {
   "codemirror_mode": {
    "name": "ipython",
    "version": 3
   },
   "file_extension": ".py",
   "mimetype": "text/x-python",
   "name": "python",
   "nbconvert_exporter": "python",
   "pygments_lexer": "ipython3",
   "version": "3.11.9"
  }
 },
 "nbformat": 4,
 "nbformat_minor": 5
}
