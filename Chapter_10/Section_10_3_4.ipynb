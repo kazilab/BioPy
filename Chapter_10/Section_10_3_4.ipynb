{
 "cells": [
  {
   "cell_type": "markdown",
   "id": "782e6274",
   "metadata": {},
   "source": [
    "# Chapter 10"
   ]
  },
  {
   "cell_type": "markdown",
   "id": "8f7abc2e",
   "metadata": {},
   "source": [
    "# 10.3.4. DNA motif and pattern searching"
   ]
  },
  {
   "cell_type": "code",
   "execution_count": 1,
   "id": "4257d447",
   "metadata": {},
   "outputs": [
    {
     "name": "stdout",
     "output_type": "stream",
     "text": [
      "Motif found in NM_005030.6 at position 44\n",
      "Motif found in NM_005030.6 at position 201\n",
      "Motif found in NM_005030.6 at position 335\n",
      "Motif found in NM_005030.6 at position 341\n",
      "Motif found in NM_005030.6 at position 597\n",
      "Motif found in NM_005030.6 at position 651\n",
      "Motif found in NM_005030.6 at position 741\n",
      "Motif found in NM_005030.6 at position 764\n",
      "Motif found in NM_005030.6 at position 840\n",
      "Motif found in NM_005030.6 at position 896\n",
      "Motif found in NM_005030.6 at position 945\n",
      "Motif found in NM_005030.6 at position 1172\n",
      "Motif found in NM_005030.6 at position 1197\n",
      "Motif found in NM_005030.6 at position 1353\n",
      "Motif found in NM_005030.6 at position 1380\n",
      "Motif found in NM_005030.6 at position 1383\n",
      "Motif found in NM_005030.6 at position 1460\n",
      "Motif found in NM_005030.6 at position 1499\n",
      "Motif found in NM_005030.6 at position 1551\n",
      "Motif found in NM_005030.6 at position 1682\n",
      "Motif found in NM_005030.6 at position 1799\n",
      "Motif found in NM_005030.6 at position 1937\n",
      "Motif found in NM_005030.6 at position 2026\n",
      "Motif found in NM_005030.6 at position 2079\n",
      "Motif found in NM_005030.6 at position 2133\n",
      "Motif found in NM_005030.6 at position 2148\n",
      "Motif found in NM_001278717.2 at position 43\n",
      "Motif found in NM_001278717.2 at position 102\n",
      "Motif found in NM_001278717.2 at position 150\n",
      "Motif found in NM_001278717.2 at position 278\n",
      "Motif found in NM_001278717.2 at position 322\n",
      "Motif found in NM_001278717.2 at position 395\n"
     ]
    }
   ],
   "source": [
    "import re\n",
    "from Bio import SeqIO\n",
    "\n",
    "# Define the motif (e.g., promoter region pattern)\n",
    "motif_pattern = re.compile(r\"ATG\")\n",
    "\n",
    "# Parse FASTA file and search for the motif in each sequence\n",
    "with open(\"example_data/example_gene.fasta\") as fasta_file:\n",
    "    for record in SeqIO.parse(fasta_file, \"fasta\"):\n",
    "        matches = motif_pattern.finditer(str(record.seq))\n",
    "        for match in matches:\n",
    "            print(f\"Motif found in {record.id} at position {match.start()}\")"
   ]
  },
  {
   "cell_type": "code",
   "execution_count": null,
   "id": "d378e801",
   "metadata": {},
   "outputs": [],
   "source": []
  }
 ],
 "metadata": {
  "kernelspec": {
   "display_name": "Python 3 (ipykernel)",
   "language": "python",
   "name": "python3"
  },
  "language_info": {
   "codemirror_mode": {
    "name": "ipython",
    "version": 3
   },
   "file_extension": ".py",
   "mimetype": "text/x-python",
   "name": "python",
   "nbconvert_exporter": "python",
   "pygments_lexer": "ipython3",
   "version": "3.11.9"
  }
 },
 "nbformat": 4,
 "nbformat_minor": 5
}
