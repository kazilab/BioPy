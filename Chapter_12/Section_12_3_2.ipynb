{
 "cells": [
  {
   "cell_type": "markdown",
   "id": "782e6274",
   "metadata": {},
   "source": [
    "# Chapter 12"
   ]
  },
  {
   "cell_type": "markdown",
   "id": "8f7abc2e",
   "metadata": {},
   "source": [
    "# 12.3.2. Stemming and lemmatization in biomedical texts"
   ]
  },
  {
   "cell_type": "markdown",
   "id": "b012ad8d",
   "metadata": {},
   "source": [
    "Stemming "
   ]
  },
  {
   "cell_type": "code",
   "execution_count": null,
   "id": "0de1c078",
   "metadata": {},
   "outputs": [],
   "source": [
    "import nltk\n",
    "from nltk.stem import PorterStemmer\n",
    "\n",
    "nltk.download('punkt')  # For tokenization\n",
    "nltk.download('stopwords')  # For stopword removal\n",
    "\n",
    "# Create an instance of the PorterStemmer\n",
    "stemmer = PorterStemmer()\n",
    "\n",
    "# List of example words to stem\n",
    "words = [\"running\", \"runner\", \"runs\", \"easily\", \"happily\", \"treatment\", \"treated\", \"treating\"]\n",
    "\n",
    "# Perform stemming on each word\n",
    "stemmed_words = [stemmer.stem(word) for word in words]\n",
    "\n",
    "# Print the original words and their stemmed versions\n",
    "for original, stemmed in zip(words, stemmed_words):\n",
    "    print(f\"Original: {original} -> Stemmed: {stemmed}\")"
   ]
  },
  {
   "cell_type": "markdown",
   "id": "a2aa6696",
   "metadata": {},
   "source": [
    "Lemmatization "
   ]
  },
  {
   "cell_type": "code",
   "execution_count": null,
   "id": "b14db1d5",
   "metadata": {},
   "outputs": [],
   "source": [
    "import nltk\n",
    "from nltk.stem import WordNetLemmatizer\n",
    "# Download WordNet data (if not already done)\n",
    "nltk.download('wordnet')\n",
    "\n",
    "# Initialize the lemmatizer\n",
    "lemmatizer = WordNetLemmatizer()\n",
    "\n",
    "# Example biomedical words\n",
    "words = [\"cells\", \"inhibitors\", \"binding\", \"mice\"]\n",
    "\n",
    "# Lemmatize the words\n",
    "lemmatized_words = [lemmatizer.lemmatize(word) for word in words]\n",
    "print(lemmatized_words)"
   ]
  },
  {
   "cell_type": "code",
   "execution_count": null,
   "id": "f6ca0568",
   "metadata": {},
   "outputs": [],
   "source": []
  }
 ],
 "metadata": {
  "kernelspec": {
   "display_name": "Python 3 (ipykernel)",
   "language": "python",
   "name": "python3"
  },
  "language_info": {
   "codemirror_mode": {
    "name": "ipython",
    "version": 3
   },
   "file_extension": ".py",
   "mimetype": "text/x-python",
   "name": "python",
   "nbconvert_exporter": "python",
   "pygments_lexer": "ipython3",
   "version": "3.11.9"
  }
 },
 "nbformat": 4,
 "nbformat_minor": 5
}
