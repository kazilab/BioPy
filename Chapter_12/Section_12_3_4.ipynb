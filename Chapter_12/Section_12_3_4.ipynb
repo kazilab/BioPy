{
 "cells": [
  {
   "cell_type": "markdown",
   "id": "782e6274",
   "metadata": {},
   "source": [
    "# Chapter 12"
   ]
  },
  {
   "attachments": {},
   "cell_type": "markdown",
   "id": "8f7abc2e",
   "metadata": {},
   "source": [
    "# 12.3.4. Handling abbreviations and acronyms"
   ]
  },
  {
   "cell_type": "markdown",
   "id": "e5b5d746",
   "metadata": {},
   "source": [
    "Using abbreviation dictionaries"
   ]
  },
  {
   "cell_type": "code",
   "execution_count": 1,
   "id": "0de1c078",
   "metadata": {},
   "outputs": [
    {
     "name": "stdout",
     "output_type": "stream",
     "text": [
      "Patient has elevated blood pressure and heart rate; electrocardiogram is abnormal.\n"
     ]
    }
   ],
   "source": [
    "import re\n",
    "import string\n",
    "# Define an abbreviation dictionary\n",
    "abbreviation_dict = {\n",
    "    \"BP\": \"blood pressure\",\n",
    "    \"HR\": \"heart rate\",\n",
    "    \"ECG\": \"electrocardiogram\",\n",
    "    \"AML\": \"acute myeloid leukemia\"\n",
    "}\n",
    "\n",
    "# Function to expand abbreviations\n",
    "def expand_abbreviation(text, abbr_dict):\n",
    "    # Tokenize text using regex to separate words and punctuation\n",
    "    tokens = re.findall(r'\\b\\w+\\b|[^\\s\\w]', text)  # Keeps punctuation as separate tokens\n",
    "    # Expand abbreviations using the dictionary\n",
    "    expanded_tokens = [abbr_dict.get(token, token) for token in tokens]\n",
    "    # Reconstruct the text with spaces\n",
    "    return ''.join(token if token in string.punctuation else ' ' + token for token in expanded_tokens).strip()\n",
    "\n",
    "# Example biomedical text\n",
    "text = \"Patient has elevated BP and HR; ECG is abnormal.\"\n",
    "\n",
    "# Expand abbreviations\n",
    "expanded_text = expand_abbreviation(text, abbreviation_dict)\n",
    "print(expanded_text)"
   ]
  },
  {
   "cell_type": "markdown",
   "id": "91bd3a50",
   "metadata": {},
   "source": [
    "Contextual disambiguation"
   ]
  },
  {
   "cell_type": "code",
   "execution_count": 2,
   "id": "f6ca0568",
   "metadata": {},
   "outputs": [
    {
     "name": "stderr",
     "output_type": "stream",
     "text": [
      "BertForMaskedLM has generative capabilities, as `prepare_inputs_for_generation` is explicitly overwritten. However, it doesn't directly inherit from `GenerationMixin`. From 👉v4.50👈 onwards, `PreTrainedModel` will NOT inherit from `GenerationMixin`, and this model will lose the ability to call `generate` and other related functions.\n",
      "  - If you're using `trust_remote_code=True`, you can get rid of this warning by loading the model with an auto class. See https://huggingface.co/docs/transformers/en/model_doc/auto#auto-classes\n",
      "  - If you are the owner of the model architecture code, please modify your model class such that it inherits from `GenerationMixin` (after `PreTrainedModel`, otherwise you'll get an exception).\n",
      "  - If you are not the owner of the model architecture class, please contact the model code owner to update it.\n",
      "Some weights of the model checkpoint at bert-base-uncased were not used when initializing BertForMaskedLM: ['bert.pooler.dense.bias', 'bert.pooler.dense.weight', 'cls.seq_relationship.bias', 'cls.seq_relationship.weight']\n",
      "- This IS expected if you are initializing BertForMaskedLM from the checkpoint of a model trained on another task or with another architecture (e.g. initializing a BertForSequenceClassification model from a BertForPreTraining model).\n",
      "- This IS NOT expected if you are initializing BertForMaskedLM from the checkpoint of a model that you expect to be exactly identical (initializing a BertForSequenceClassification model from a BertForSequenceClassification model).\n"
     ]
    },
    {
     "name": "stdout",
     "output_type": "stream",
     "text": [
      "Original: AML is a type of cancer affecting the blood and bone marrow.\n",
      "Predictions for '[MASK]':\n",
      "  it is a type of cancer affecting the blood and bone marrow. (0.8779)\n",
      "  this is a type of cancer affecting the blood and bone marrow. (0.0432)\n",
      "  cancer is a type of cancer affecting the blood and bone marrow. (0.0287)\n",
      "\n",
      "Original: He is researching advanced machine learning (AML) techniques.\n",
      "Predictions for '[MASK]':\n",
      "  he is researching advanced machine learning ( cad ) techniques. (0.1885)\n",
      "  he is researching advanced machine learning ( ai ) techniques. (0.1468)\n",
      "  he is researching advanced machine learning ( ada ) techniques. (0.0763)\n",
      "\n"
     ]
    }
   ],
   "source": [
    "from transformers import pipeline\n",
    "\n",
    "# Load a pre-trained model for masked language modeling\n",
    "fill_mask = pipeline(\"fill-mask\", model=\"bert-base-uncased\", device='mps')\n",
    "\n",
    "# Example sentences\n",
    "sentences = [\n",
    "    \"AML is a type of cancer affecting the blood and bone marrow.\",\n",
    "    \"He is researching advanced machine learning (AML) techniques.\"\n",
    "]\n",
    "\n",
    "# Disambiguate \"AML\" using context\n",
    "for sentence in sentences:\n",
    "    print(f\"Original: {sentence}\")\n",
    "    masked_sentence = sentence.replace(\"AML\", \"[MASK]\")\n",
    "    predictions = fill_mask(masked_sentence)\n",
    "    print(\"Predictions for '[MASK]':\")\n",
    "    for pred in predictions[:3]:  # Show top 3 predictions\n",
    "        print(f\"  {pred['sequence']} ({pred['score']:.4f})\")\n",
    "    print()"
   ]
  },
  {
   "cell_type": "markdown",
   "id": "df3c4d51",
   "metadata": {},
   "source": [
    "Rule-based contextual expansion"
   ]
  },
  {
   "cell_type": "code",
   "execution_count": 3,
   "id": "fdebdd64",
   "metadata": {},
   "outputs": [
    {
     "name": "stdout",
     "output_type": "stream",
     "text": [
      "blood pressure was recorded as 120/80 mmHg. The leukemia diagnosis was confirmed as acute myeloid leukemia type.\n"
     ]
    }
   ],
   "source": [
    "# Rule-based context-aware abbreviation expansion\n",
    "def rule_based_expansion(text):\n",
    "    if \"BP\" in text and \"mmHg\" in text:\n",
    "        text = text.replace(\"BP\", \"blood pressure\")\n",
    "    if \"AML\" in text and \"leukemia\" in text:\n",
    "        text = text.replace(\"AML\", \"acute myeloid leukemia\")\n",
    "    return text\n",
    "\n",
    "# Example text\n",
    "clinical_text = \"BP was recorded as 120/80 mmHg. The leukemia diagnosis was confirmed as AML type.\"\n",
    "\n",
    "# Apply rule-based expansion\n",
    "expanded_text = rule_based_expansion(clinical_text)\n",
    "print(expanded_text)"
   ]
  },
  {
   "cell_type": "code",
   "execution_count": null,
   "id": "48723f18",
   "metadata": {},
   "outputs": [],
   "source": []
  }
 ],
 "metadata": {
  "kernelspec": {
   "display_name": "Python 3 (ipykernel)",
   "language": "python",
   "name": "python3"
  },
  "language_info": {
   "codemirror_mode": {
    "name": "ipython",
    "version": 3
   },
   "file_extension": ".py",
   "mimetype": "text/x-python",
   "name": "python",
   "nbconvert_exporter": "python",
   "pygments_lexer": "ipython3",
   "version": "3.11.9"
  }
 },
 "nbformat": 4,
 "nbformat_minor": 5
}
