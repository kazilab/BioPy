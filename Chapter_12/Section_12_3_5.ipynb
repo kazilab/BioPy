{
 "cells": [
  {
   "cell_type": "markdown",
   "id": "782e6274",
   "metadata": {},
   "source": [
    "# Chapter 12"
   ]
  },
  {
   "cell_type": "markdown",
   "id": "8f7abc2e",
   "metadata": {},
   "source": [
    "# 12.3.5. Sentence splitting and paragraph segmentation"
   ]
  },
  {
   "attachments": {},
   "cell_type": "markdown",
   "id": "e5b5d746",
   "metadata": {},
   "source": [
    "Sentence splitting"
   ]
  },
  {
   "cell_type": "code",
   "execution_count": 1,
   "id": "0de1c078",
   "metadata": {},
   "outputs": [
    {
     "name": "stdout",
     "output_type": "stream",
     "text": [
      "['Dr. Smith reported that p53 mutations were observed.', 'The patient was given 3.5 mg of the drug.', 'See Fig.', '2b for details.']\n"
     ]
    },
    {
     "name": "stderr",
     "output_type": "stream",
     "text": [
      "[nltk_data] Downloading package punkt to\n",
      "[nltk_data]     /Users/julhashkazi/nltk_data...\n",
      "[nltk_data]   Package punkt is already up-to-date!\n"
     ]
    }
   ],
   "source": [
    "import nltk\n",
    "nltk.download('punkt')\n",
    "from nltk.tokenize import sent_tokenize\n",
    "\n",
    "# Example biomedical text\n",
    "text = \"Dr. Smith reported that p53 mutations were observed. The patient was given 3.5 mg of the drug. See Fig. 2b for details.\"\n",
    "\n",
    "# Sentence splitting\n",
    "sentences = sent_tokenize(text)\n",
    "print(sentences)"
   ]
  },
  {
   "attachments": {},
   "cell_type": "markdown",
   "id": "91bd3a50",
   "metadata": {},
   "source": [
    "Paragraph segmentation"
   ]
  },
  {
   "cell_type": "code",
   "execution_count": 2,
   "id": "f6ca0568",
   "metadata": {},
   "outputs": [
    {
     "name": "stdout",
     "output_type": "stream",
     "text": [
      "Paragraph 1: Introduction\n",
      "Paragraph 2: p53 mutations are common in cancer. They affect DNA repair pathways.\n",
      "Paragraph 3: Methods\n",
      "Paragraph 4: The study analyzed 100 samples using sequencing.\n"
     ]
    }
   ],
   "source": [
    "# Example biomedical text with paragraph markers\n",
    "text = \"Introduction\\n\\np53 mutations are common in cancer. They affect DNA repair pathways.\\n\\nMethods\\n\\nThe study analyzed 100 samples using sequencing.\"\n",
    "\n",
    "# Paragraph splitting based on double line breaks\n",
    "paragraphs = text.split('\\n\\n')\n",
    "for i, paragraph in enumerate(paragraphs):\n",
    "    print(f\"Paragraph {i + 1}: {paragraph}\")"
   ]
  },
  {
   "cell_type": "code",
   "execution_count": null,
   "id": "8dac169f",
   "metadata": {},
   "outputs": [],
   "source": []
  }
 ],
 "metadata": {
  "kernelspec": {
   "display_name": "Python 3 (ipykernel)",
   "language": "python",
   "name": "python3"
  },
  "language_info": {
   "codemirror_mode": {
    "name": "ipython",
    "version": 3
   },
   "file_extension": ".py",
   "mimetype": "text/x-python",
   "name": "python",
   "nbconvert_exporter": "python",
   "pygments_lexer": "ipython3",
   "version": "3.11.9"
  }
 },
 "nbformat": 4,
 "nbformat_minor": 5
}
