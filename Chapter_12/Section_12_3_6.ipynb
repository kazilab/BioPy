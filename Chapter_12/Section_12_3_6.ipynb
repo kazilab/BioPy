{
 "cells": [
  {
   "cell_type": "markdown",
   "id": "782e6274",
   "metadata": {},
   "source": [
    "# Chapter 12"
   ]
  },
  {
   "attachments": {},
   "cell_type": "markdown",
   "id": "8f7abc2e",
   "metadata": {},
   "source": [
    "# 12.3.6. Normalization of text"
   ]
  },
  {
   "cell_type": "code",
   "execution_count": 6,
   "id": "0de1c078",
   "metadata": {},
   "outputs": [
    {
     "name": "stdout",
     "output_type": "stream",
     "text": [
      "it is common to use 5 μg of anti-tnfα therapies in non-Small cell lung cancer.\n"
     ]
    }
   ],
   "source": [
    "import re\n",
    "import unicodedata\n",
    "from contractions import fix\n",
    "\n",
    "# Function to normalize biomedical text\n",
    "def normalize_text(text):\n",
    "    # Expand contractions\n",
    "    text = fix(text)\n",
    "    # Normalize Unicode\n",
    "    text = unicodedata.normalize('NFKD', text)\n",
    "    # Handle case sensitivity\n",
    "    words = text.split()\n",
    "    text = ' '.join(word if word.isupper() or word[0].islower() else word.lower() for word in words)\n",
    "    # Remove unnecessary spaces and standardize chemical formulas\n",
    "    text = re.sub(r'\\s+', ' ', text).strip()\n",
    "    return text\n",
    "\n",
    "# Example text\n",
    "text = \"It's common to use 5 μg of Anti-TNFα therapies in non-Small Cell Lung Cancer.\"\n",
    "\n",
    "# Normalize the text\n",
    "normalized_text = normalize_text(text)\n",
    "print(normalized_text)"
   ]
  }
 ],
 "metadata": {
  "kernelspec": {
   "display_name": "Python 3 (ipykernel)",
   "language": "python",
   "name": "python3"
  },
  "language_info": {
   "codemirror_mode": {
    "name": "ipython",
    "version": 3
   },
   "file_extension": ".py",
   "mimetype": "text/x-python",
   "name": "python",
   "nbconvert_exporter": "python",
   "pygments_lexer": "ipython3",
   "version": "3.11.9"
  }
 },
 "nbformat": 4,
 "nbformat_minor": 5
}
