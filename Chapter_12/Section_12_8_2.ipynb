{
 "cells": [
  {
   "cell_type": "markdown",
   "id": "782e6274",
   "metadata": {},
   "source": [
    "# Chapter 12"
   ]
  },
  {
   "attachments": {},
   "cell_type": "markdown",
   "id": "8f7abc2e",
   "metadata": {},
   "source": [
    "# 12.8.2. Clustering biomedical research papers by topic"
   ]
  },
  {
   "cell_type": "code",
   "execution_count": 1,
   "id": "1c2010f0",
   "metadata": {},
   "outputs": [
    {
     "name": "stdout",
     "output_type": "stream",
     "text": [
      "Topic 1: 0.037*\"cancer\" + 0.037*\"breast\" + 0.037*\"used\" + 0.037*\"commonly\" + 0.037*\"brca1\"\n",
      "Topic 2: 0.087*\"risk\" + 0.049*\"heart\" + 0.049*\"factor\" + 0.049*\"drug\" + 0.049*\"hypertension\"\n",
      "Topic 3: 0.107*\"cancer\" + 0.061*\"breast\" + 0.060*\"investigates\" + 0.060*\"mutations\" + 0.060*\"study\"\n"
     ]
    }
   ],
   "source": [
    "import gensim\n",
    "from gensim import corpora\n",
    "from nltk.corpus import stopwords\n",
    "from nltk.tokenize import word_tokenize\n",
    "\n",
    "# Example biomedical texts (research papers or clinical notes)\n",
    "documents = [\n",
    "    \"The patient was diagnosed with lung cancer and underwent chemotherapy.\",\n",
    "    \"This study investigates the genetic mutations in breast cancer patients.\",\n",
    "    \"The drug metformin is commonly used for treating diabetes.\",\n",
    "    \"Hypertension is a risk factor for heart disease and stroke.\",\n",
    "    \"The gene BRCA1 is linked to breast cancer risk.\"\n",
    "]\n",
    "\n",
    "# Preprocessing the text: Tokenize and remove stopwords\n",
    "stop_words = set(stopwords.words('english'))\n",
    "texts = [[word for word in word_tokenize(doc.lower()) if word.isalnum() and word not in stop_words] for doc in documents]\n",
    "\n",
    "# Create a dictionary and corpus for LDA\n",
    "dictionary = corpora.Dictionary(texts)\n",
    "corpus = [dictionary.doc2bow(text) for text in texts]\n",
    "\n",
    "# Apply LDA for topic modeling\n",
    "lda_model = gensim.models.LdaModel(corpus, num_topics=3, id2word=dictionary, passes=15)\n",
    "\n",
    "# Print the discovered topics\n",
    "topics = lda_model.print_topics(num_words=5)\n",
    "for i, topic in topics:\n",
    "    print(f\"Topic {i+1}: {topic}\")\n"
   ]
  },
  {
   "cell_type": "code",
   "execution_count": 3,
   "id": "35dd1c06",
   "metadata": {},
   "outputs": [
    {
     "data": {
      "text/html": [
       "\n",
       "<link rel=\"stylesheet\" type=\"text/css\" href=\"https://cdn.jsdelivr.net/gh/bmabey/pyLDAvis@3.4.0/pyLDAvis/js/ldavis.v1.0.0.css\">\n",
       "\n",
       "\n",
       "<div id=\"ldavis_el32519132015687368186352141\" style=\"background-color:white;\"></div>\n",
       "<script type=\"text/javascript\">\n",
       "\n",
       "var ldavis_el32519132015687368186352141_data = {\"mdsDat\": {\"x\": [-0.08531667301733702, 0.08793766486616429, -0.002620991848827308], \"y\": [0.0, 0.0, 0.0], \"topics\": [1, 2, 3], \"cluster\": [1, 1, 1], \"Freq\": [54.23247907803034, 41.049967365134655, 4.7175535568350035]}, \"tinfo\": {\"Term\": [\"risk\", \"underwent\", \"diagnosed\", \"chemotherapy\", \"lung\", \"patient\", \"patients\", \"study\", \"investigates\", \"mutations\", \"genetic\", \"used\", \"commonly\", \"diabetes\", \"metformin\", \"disease\", \"treating\", \"hypertension\", \"stroke\", \"drug\", \"factor\", \"heart\", \"brca1\", \"gene\", \"linked\", \"cancer\", \"breast\", \"risk\", \"heart\", \"hypertension\", \"factor\", \"drug\", \"stroke\", \"diabetes\", \"treating\", \"metformin\", \"used\", \"disease\", \"commonly\", \"linked\", \"gene\", \"brca1\", \"breast\", \"cancer\", \"underwent\", \"diagnosed\", \"chemotherapy\", \"lung\", \"patient\", \"genetic\", \"patients\", \"study\", \"mutations\", \"investigates\", \"investigates\", \"mutations\", \"study\", \"genetic\", \"patients\", \"patient\", \"lung\", \"chemotherapy\", \"diagnosed\", \"underwent\", \"cancer\", \"breast\", \"brca1\", \"gene\", \"linked\", \"commonly\", \"disease\", \"used\", \"metformin\", \"treating\", \"stroke\", \"factor\", \"drug\", \"hypertension\", \"diabetes\", \"heart\", \"risk\", \"underwent\", \"diagnosed\", \"chemotherapy\", \"lung\", \"patient\", \"patients\", \"study\", \"genetic\", \"investigates\", \"mutations\", \"used\", \"brca1\", \"commonly\", \"gene\", \"diabetes\", \"disease\", \"linked\", \"metformin\", \"treating\", \"hypertension\", \"stroke\", \"drug\", \"factor\", \"heart\", \"breast\", \"risk\", \"cancer\"], \"Freq\": [1.0, 1.0, 1.0, 1.0, 1.0, 1.0, 1.0, 1.0, 1.0, 1.0, 1.0, 1.0, 1.0, 1.0, 1.0, 1.0, 1.0, 1.0, 1.0, 1.0, 1.0, 1.0, 1.0, 1.0, 1.0, 2.0, 1.0, 1.4549974092559907, 0.8309742772973859, 0.830968390092909, 0.8309693921702668, 0.8309690790210925, 0.830968390092909, 0.8309640686343037, 0.830965321231001, 0.8309633797061202, 0.8309556762364325, 0.8309544862695701, 0.8309479727667447, 0.8308154480361811, 0.8308102497598877, 0.8308007926548239, 0.8259038284969601, 0.8159039732842129, 0.2082390809202996, 0.20823728031254737, 0.2082356362793823, 0.20823335029040993, 0.20823216032354758, 0.208215876566484, 0.2082129329642456, 0.20821122630124564, 0.20821039645593375, 0.20820914385923656, 0.7696212443261518, 0.7696204858278582, 0.7696151289336604, 0.7696146548722269, 0.7696111468176194, 0.7695127790701802, 0.7695093658278594, 0.7695035822783715, 0.7694995053500439, 0.7694968980121599, 1.3617219362310142, 0.7747498779438438, 0.19300802093648023, 0.19300128926412535, 0.19300019892282844, 0.19287006905934861, 0.19286843354740324, 0.19286131077436577, 0.19286192705422925, 0.19286152410201082, 0.19286169002351253, 0.1928616189142975, 0.19286155965661833, 0.19286075375218148, 0.192859343419417, 0.19285918934945112, 0.19291649152521842, 0.05413372213938633, 0.05413346063445329, 0.0541327523919263, 0.05413170637219414, 0.0541310471618421, 0.054108508705425606, 0.054107816806956935, 0.05410674354712758, 0.05410662913871937, 0.05410651473031117, 0.05417611862665564, 0.05417518156731224, 0.05417565554500338, 0.05417461497329065, 0.054174506012901885, 0.0541744515327075, 0.0541735852976168, 0.054173939418880296, 0.05417356350553905, 0.05417298601547858, 0.054172719062526103, 0.05417257196600127, 0.0541724630056125, 0.05417189641159091, 0.05431991365171168, 0.05416518989966229, 0.054323253287627396], \"Total\": [1.0, 1.0, 1.0, 1.0, 1.0, 1.0, 1.0, 1.0, 1.0, 1.0, 1.0, 1.0, 1.0, 1.0, 1.0, 1.0, 1.0, 1.0, 1.0, 1.0, 1.0, 1.0, 1.0, 1.0, 1.0, 2.0, 1.0, 1.7020790906808714, 1.0780053630584279, 1.078002129860569, 1.0780034740901767, 1.0780032106437123, 1.0780027991789476, 1.0779979180666226, 1.0780004088385509, 1.0779992461792298, 1.0779931056374539, 1.0779973713496807, 1.0779936973710968, 1.0779892322566265, 1.0779861539973037, 1.0779839951586163, 1.6549736200925156, 2.2319491628028545, 1.0318697010718458, 1.0318702462970446, 1.0318719709496802, 1.0318744224904635, 1.03187598655557, 1.0319372749858384, 1.0319325884872907, 1.0319341720418629, 1.0319373970141033, 1.0319370173241076, 1.0319370173241076, 1.0319373970141033, 1.0319341720418629, 1.0319372749858384, 1.0319325884872907, 1.03187598655557, 1.0318744224904635, 1.0318719709496802, 1.0318702462970446, 1.0318697010718458, 2.2319491628028545, 1.6549736200925156, 1.0779839951586163, 1.0779861539973037, 1.0779892322566265, 1.0779936973710968, 1.0779973713496807, 1.0779931056374539, 1.0779992461792298, 1.0780004088385509, 1.0780027991789476, 1.0780034740901767, 1.0780032106437123, 1.078002129860569, 1.0779979180666226, 1.0780053630584279, 1.7020790906808714, 1.0318697010718458, 1.0318702462970446, 1.0318719709496802, 1.0318744224904635, 1.03187598655557, 1.0319325884872907, 1.0319341720418629, 1.0319372749858384, 1.0319370173241076, 1.0319373970141033, 1.0779931056374539, 1.0779839951586163, 1.0779936973710968, 1.0779861539973037, 1.0779979180666226, 1.0779973713496807, 1.0779892322566265, 1.0779992461792298, 1.0780004088385509, 1.078002129860569, 1.0780027991789476, 1.0780032106437123, 1.0780034740901767, 1.0780053630584279, 1.6549736200925156, 1.7020790906808714, 2.2319491628028545], \"Category\": [\"Default\", \"Default\", \"Default\", \"Default\", \"Default\", \"Default\", \"Default\", \"Default\", \"Default\", \"Default\", \"Default\", \"Default\", \"Default\", \"Default\", \"Default\", \"Default\", \"Default\", \"Default\", \"Default\", \"Default\", \"Default\", \"Default\", \"Default\", \"Default\", \"Default\", \"Default\", \"Default\", \"Topic1\", \"Topic1\", \"Topic1\", \"Topic1\", \"Topic1\", \"Topic1\", \"Topic1\", \"Topic1\", \"Topic1\", \"Topic1\", \"Topic1\", \"Topic1\", \"Topic1\", \"Topic1\", \"Topic1\", \"Topic1\", \"Topic1\", \"Topic1\", \"Topic1\", \"Topic1\", \"Topic1\", \"Topic1\", \"Topic1\", \"Topic1\", \"Topic1\", \"Topic1\", \"Topic1\", \"Topic2\", \"Topic2\", \"Topic2\", \"Topic2\", \"Topic2\", \"Topic2\", \"Topic2\", \"Topic2\", \"Topic2\", \"Topic2\", \"Topic2\", \"Topic2\", \"Topic2\", \"Topic2\", \"Topic2\", \"Topic2\", \"Topic2\", \"Topic2\", \"Topic2\", \"Topic2\", \"Topic2\", \"Topic2\", \"Topic2\", \"Topic2\", \"Topic2\", \"Topic2\", \"Topic2\", \"Topic3\", \"Topic3\", \"Topic3\", \"Topic3\", \"Topic3\", \"Topic3\", \"Topic3\", \"Topic3\", \"Topic3\", \"Topic3\", \"Topic3\", \"Topic3\", \"Topic3\", \"Topic3\", \"Topic3\", \"Topic3\", \"Topic3\", \"Topic3\", \"Topic3\", \"Topic3\", \"Topic3\", \"Topic3\", \"Topic3\", \"Topic3\", \"Topic3\", \"Topic3\", \"Topic3\"], \"logprob\": [27.0, 26.0, 25.0, 24.0, 23.0, 22.0, 21.0, 20.0, 19.0, 18.0, 17.0, 16.0, 15.0, 14.0, 13.0, 12.0, 11.0, 10.0, 9.0, 8.0, 7.0, 6.0, 5.0, 4.0, 3.0, 2.0, 1.0, -2.4471, -3.0073, -3.0073, -3.0073, -3.0073, -3.0073, -3.0073, -3.0073, -3.0073, -3.0073, -3.0073, -3.0073, -3.0074, -3.0075, -3.0075, -3.0134, -3.0256, -4.3912, -4.3912, -4.3912, -4.3912, -4.3912, -4.3913, -4.3913, -4.3913, -4.3913, -4.3913, -2.8055, -2.8055, -2.8055, -2.8055, -2.8055, -2.8056, -2.8056, -2.8056, -2.8056, -2.8056, -2.2349, -2.7988, -4.1886, -4.1887, -4.1887, -4.1893, -4.1894, -4.1894, -4.1894, -4.1894, -4.1894, -4.1894, -4.1894, -4.1894, -4.1894, -4.1894, -4.1891, -3.2964, -3.2964, -3.2964, -3.2964, -3.2965, -3.2969, -3.2969, -3.2969, -3.2969, -3.2969, -3.2956, -3.2956, -3.2956, -3.2957, -3.2957, -3.2957, -3.2957, -3.2957, -3.2957, -3.2957, -3.2957, -3.2957, -3.2957, -3.2957, -3.293, -3.2958, -3.2929], \"loglift\": [27.0, 26.0, 25.0, 24.0, 23.0, 22.0, 21.0, 20.0, 19.0, 18.0, 17.0, 16.0, 15.0, 14.0, 13.0, 12.0, 11.0, 10.0, 9.0, 8.0, 7.0, 6.0, 5.0, 4.0, 3.0, 2.0, 1.0, 0.455, 0.3516, 0.3516, 0.3516, 0.3516, 0.3516, 0.3516, 0.3516, 0.3516, 0.3516, 0.3516, 0.3516, 0.3514, 0.3514, 0.3514, -0.0832, -0.3944, -0.9886, -0.9886, -0.9886, -0.9886, -0.9886, -0.9887, -0.9887, -0.9887, -0.9888, -0.9888, 0.5971, 0.5971, 0.5971, 0.5971, 0.5971, 0.597, 0.597, 0.597, 0.597, 0.597, 0.3963, 0.1314, -0.8297, -0.8298, -0.8298, -0.8305, -0.8305, -0.8305, -0.8305, -0.8305, -0.8305, -0.8305, -0.8305, -0.8305, -0.8305, -0.8305, -1.287, 0.1062, 0.1062, 0.1062, 0.1062, 0.1062, 0.1057, 0.1057, 0.1056, 0.1056, 0.1056, 0.0633, 0.0633, 0.0633, 0.0632, 0.0632, 0.0632, 0.0632, 0.0632, 0.0632, 0.0632, 0.0632, 0.0632, 0.0632, 0.0632, -0.3628, -0.3937, -0.6618]}, \"token.table\": {\"Topic\": [1, 1, 2, 1, 2, 2, 1, 1, 2, 1, 1, 1, 1, 2, 1, 1, 2, 1, 2, 1, 2, 2, 2, 1, 1, 2, 1, 2, 1], \"Freq\": [0.9276575575251081, 0.6042392385348707, 0.6042392385348707, 0.4480388786025091, 0.4480388786025091, 0.969112475339022, 0.9276492083754292, 0.9276455763416399, 0.9691140950992494, 0.927646046806194, 0.9276410219621387, 0.9276407952618049, 0.9276556997433394, 0.9690511470415906, 0.92763916977452, 0.9276419519962747, 0.9690513890015083, 0.9276530507699354, 0.9691101729088958, 0.9276444334671997, 0.9690510324497265, 0.9691087039810153, 0.9690555479654919, 0.5875167643355378, 0.927641376035055, 0.9690540609013116, 0.9276434329718025, 0.9691146071652831, 0.9276497175820676], \"Term\": [\"brca1\", \"breast\", \"breast\", \"cancer\", \"cancer\", \"chemotherapy\", \"commonly\", \"diabetes\", \"diagnosed\", \"disease\", \"drug\", \"factor\", \"gene\", \"genetic\", \"heart\", \"hypertension\", \"investigates\", \"linked\", \"lung\", \"metformin\", \"mutations\", \"patient\", \"patients\", \"risk\", \"stroke\", \"study\", \"treating\", \"underwent\", \"used\"]}, \"R\": 27, \"lambda.step\": 0.01, \"plot.opts\": {\"xlab\": \"PC1\", \"ylab\": \"PC2\"}, \"topic.order\": [2, 3, 1]};\n",
       "\n",
       "function LDAvis_load_lib(url, callback){\n",
       "  var s = document.createElement('script');\n",
       "  s.src = url;\n",
       "  s.async = true;\n",
       "  s.onreadystatechange = s.onload = callback;\n",
       "  s.onerror = function(){console.warn(\"failed to load library \" + url);};\n",
       "  document.getElementsByTagName(\"head\")[0].appendChild(s);\n",
       "}\n",
       "\n",
       "if(typeof(LDAvis) !== \"undefined\"){\n",
       "   // already loaded: just create the visualization\n",
       "   !function(LDAvis){\n",
       "       new LDAvis(\"#\" + \"ldavis_el32519132015687368186352141\", ldavis_el32519132015687368186352141_data);\n",
       "   }(LDAvis);\n",
       "}else if(typeof define === \"function\" && define.amd){\n",
       "   // require.js is available: use it to load d3/LDAvis\n",
       "   require.config({paths: {d3: \"https://d3js.org/d3.v5\"}});\n",
       "   require([\"d3\"], function(d3){\n",
       "      window.d3 = d3;\n",
       "      LDAvis_load_lib(\"https://cdn.jsdelivr.net/gh/bmabey/pyLDAvis@3.4.0/pyLDAvis/js/ldavis.v3.0.0.js\", function(){\n",
       "        new LDAvis(\"#\" + \"ldavis_el32519132015687368186352141\", ldavis_el32519132015687368186352141_data);\n",
       "      });\n",
       "    });\n",
       "}else{\n",
       "    // require.js not available: dynamically load d3 & LDAvis\n",
       "    LDAvis_load_lib(\"https://d3js.org/d3.v5.js\", function(){\n",
       "         LDAvis_load_lib(\"https://cdn.jsdelivr.net/gh/bmabey/pyLDAvis@3.4.0/pyLDAvis/js/ldavis.v3.0.0.js\", function(){\n",
       "                 new LDAvis(\"#\" + \"ldavis_el32519132015687368186352141\", ldavis_el32519132015687368186352141_data);\n",
       "            })\n",
       "         });\n",
       "}\n",
       "</script>"
      ],
      "text/plain": [
       "<IPython.core.display.HTML object>"
      ]
     },
     "execution_count": 3,
     "metadata": {},
     "output_type": "execute_result"
    }
   ],
   "source": [
    "import pyLDAvis\n",
    "import pyLDAvis.gensim_models\n",
    "\n",
    "# Visualize the topics\n",
    "lda_visualization = pyLDAvis.gensim_models.prepare(lda_model, corpus, dictionary)\n",
    "pyLDAvis.display(lda_visualization)\n"
   ]
  },
  {
   "cell_type": "code",
   "execution_count": null,
   "id": "4812552e",
   "metadata": {},
   "outputs": [],
   "source": []
  }
 ],
 "metadata": {
  "kernelspec": {
   "display_name": "Python 3 (ipykernel)",
   "language": "python",
   "name": "python3"
  },
  "language_info": {
   "codemirror_mode": {
    "name": "ipython",
    "version": 3
   },
   "file_extension": ".py",
   "mimetype": "text/x-python",
   "name": "python",
   "nbconvert_exporter": "python",
   "pygments_lexer": "ipython3",
   "version": "3.11.9"
  }
 },
 "nbformat": 4,
 "nbformat_minor": 5
}
