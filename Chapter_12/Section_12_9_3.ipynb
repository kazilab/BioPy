{
 "cells": [
  {
   "cell_type": "markdown",
   "id": "782e6274",
   "metadata": {},
   "source": [
    "# Chapter 12"
   ]
  },
  {
   "attachments": {},
   "cell_type": "markdown",
   "id": "8f7abc2e",
   "metadata": {},
   "source": [
    "# 12.9.3. Analyzing sentiments in patient reviews of drugs"
   ]
  },
  {
   "cell_type": "markdown",
   "id": "1b10550f",
   "metadata": {},
   "source": [
    "Using NLTK"
   ]
  },
  {
   "cell_type": "code",
   "execution_count": 1,
   "id": "1c2010f0",
   "metadata": {},
   "outputs": [
    {
     "name": "stdout",
     "output_type": "stream",
     "text": [
      "Review: This medication worked wonderfully for my migraine.\n",
      "Sentiment Scores: {'neg': 0.0, 'neu': 0.606, 'pos': 0.394, 'compound': 0.5994}\n",
      "--------------------------------------------------\n",
      "Review: I had terrible side effects, including nausea and dizziness. Not recommended.\n",
      "Sentiment Scores: {'neg': 0.37, 'neu': 0.63, 'pos': 0.0, 'compound': -0.5707}\n",
      "--------------------------------------------------\n",
      "Review: The drug was okay, no side effects, but symptoms remain.\n",
      "Sentiment Scores: {'neg': 0.145, 'neu': 0.724, 'pos': 0.131, 'compound': -0.0387}\n",
      "--------------------------------------------------\n"
     ]
    },
    {
     "name": "stderr",
     "output_type": "stream",
     "text": [
      "[nltk_data] Downloading package vader_lexicon to\n",
      "[nltk_data]     /Users/julhashkazi/nltk_data...\n",
      "[nltk_data]   Package vader_lexicon is already up-to-date!\n"
     ]
    }
   ],
   "source": [
    "from nltk.sentiment import SentimentIntensityAnalyzer\n",
    "import nltk\n",
    "\n",
    "# Download the VADER lexicon\n",
    "nltk.download('vader_lexicon')\n",
    "\n",
    "# Initialize VADER sentiment analyzer\n",
    "sia = SentimentIntensityAnalyzer()\n",
    "\n",
    "# Example patient reviews of drugs\n",
    "reviews = [\n",
    "    \"This medication worked wonderfully for my migraine.\",\n",
    "    \"I had terrible side effects, including nausea and dizziness. Not recommended.\",\n",
    "    \"The drug was okay, no side effects, but symptoms remain.\"\n",
    "]\n",
    "\n",
    "# Analyze the sentiment for each review\n",
    "for review in reviews:\n",
    "    sentiment = sia.polarity_scores(review)\n",
    "    print(f\"Review: {review}\")\n",
    "    print(f\"Sentiment Scores: {sentiment}\")\n",
    "    print(\"-\" * 50)"
   ]
  },
  {
   "cell_type": "markdown",
   "id": "95ca69a2",
   "metadata": {},
   "source": [
    "Using vaderSentiment"
   ]
  },
  {
   "cell_type": "code",
   "execution_count": 4,
   "id": "4812552e",
   "metadata": {},
   "outputs": [
    {
     "name": "stdout",
     "output_type": "stream",
     "text": [
      "Review: This medication worked perfectly and completely resolved my symptoms.\n",
      "Sentiment Scores: {'neg': 0.0, 'neu': 0.531, 'pos': 0.469, 'compound': 0.7346}\n",
      "Overall Sentiment: Positive\n",
      "\n",
      "Review: I experienced severe nausea and headaches after taking this drug, with no improvement.",
      "Sentiment Scores: {'neg': 0.316, 'neu': 0.684, 'pos': 0.0, 'compound': -0.6224}\n",
      "Overall Sentiment: Negative\n",
      "\n",
      "Review: The patient did not show any major changes during the treatment.\n",
      "Sentiment Scores: {'neg': 0.0, 'neu': 1.0, 'pos': 0.0, 'compound': 0.0}\n",
      "Overall Sentiment: Negative\n",
      "\n"
     ]
    }
   ],
   "source": [
    "from vaderSentiment.vaderSentiment import SentimentIntensityAnalyzer\n",
    "\n",
    "# Initialize the VADER sentiment analyzer\n",
    "analyzer = SentimentIntensityAnalyzer()\n",
    "\n",
    "# Example patient reviews\n",
    "reviews = [\n",
    "    \"This medication worked perfectly and completely resolved my symptoms.\",\n",
    "    \"I experienced severe nausea and headaches after taking this drug, with no improvement.\",\n",
    "    \"The patient did not show any major changes during the treatment.\"\n",
    "]\n",
    "\n",
    "# Analyze the sentiment of each review\n",
    "for review in reviews:\n",
    "    sentiment_scores = analyzer.polarity_scores(review)\n",
    "    print(f\"Review: {review}\")\n",
    "    print(f\"Sentiment Scores: {sentiment_scores}\")\n",
    "    if sentiment_scores['compound'] >= 0.5:\n",
    "        print(\"Overall Sentiment: Positive\")\n",
    "    elif sentiment_scores['compound'] <= -0.5:\n",
    "        print(\"Overall Sentiment: Negative\")\n",
    "    else:\n",
    "        print(\"Overall Sentiment: Neutral\")\n",
    "    print()"
   ]
  }
 ],
 "metadata": {
  "kernelspec": {
   "display_name": "Python 3 (ipykernel)",
   "language": "python",
   "name": "python3"
  },
  "language_info": {
   "codemirror_mode": {
    "name": "ipython",
    "version": 3
   },
   "file_extension": ".py",
   "mimetype": "text/x-python",
   "name": "python",
   "nbconvert_exporter": "python",
   "pygments_lexer": "ipython3",
   "version": "3.11.9"
  }
 },
 "nbformat": 4,
 "nbformat_minor": 5
}
