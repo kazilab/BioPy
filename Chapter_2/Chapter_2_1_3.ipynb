{
 "cells": [
  {
   "cell_type": "markdown",
   "id": "782e6274",
   "metadata": {},
   "source": [
    "# Chapter 2"
   ]
  },
  {
   "cell_type": "markdown",
   "id": "2859eb40",
   "metadata": {},
   "source": [
    "# 2.1.3. Arithmetic Operations"
   ]
  },
  {
   "cell_type": "code",
   "execution_count": null,
   "id": "75dabe32",
   "metadata": {},
   "outputs": [],
   "source": [
    "# Addition\n",
    "print(5 + 3)"
   ]
  },
  {
   "cell_type": "code",
   "execution_count": null,
   "id": "762c5447",
   "metadata": {},
   "outputs": [],
   "source": [
    "# Subtraction\n",
    "print(10 - 2) "
   ]
  },
  {
   "cell_type": "code",
   "execution_count": null,
   "id": "6fa90dcc",
   "metadata": {},
   "outputs": [],
   "source": [
    "# Multiplication\n",
    "print(4 * 2)"
   ]
  },
  {
   "cell_type": "code",
   "execution_count": null,
   "id": "e2b61629",
   "metadata": {},
   "outputs": [],
   "source": [
    "# Division\n",
    "print(16 / 2)"
   ]
  },
  {
   "cell_type": "code",
   "execution_count": null,
   "id": "cba069b6",
   "metadata": {},
   "outputs": [],
   "source": [
    "# Exponentiation\n",
    "print(2 ** 3) "
   ]
  },
  {
   "cell_type": "code",
   "execution_count": null,
   "id": "ea4d6648",
   "metadata": {},
   "outputs": [],
   "source": []
  }
 ],
 "metadata": {
  "kernelspec": {
   "display_name": "Python 3 (ipykernel)",
   "language": "python",
   "name": "python3"
  },
  "language_info": {
   "codemirror_mode": {
    "name": "ipython",
    "version": 3
   },
   "file_extension": ".py",
   "mimetype": "text/x-python",
   "name": "python",
   "nbconvert_exporter": "python",
   "pygments_lexer": "ipython3",
   "version": "3.11.5"
  }
 },
 "nbformat": 4,
 "nbformat_minor": 5
}
