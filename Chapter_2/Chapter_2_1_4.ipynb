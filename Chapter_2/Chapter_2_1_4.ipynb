{
 "cells": [
  {
   "cell_type": "markdown",
   "id": "782e6274",
   "metadata": {},
   "source": [
    "# Chapter 2"
   ]
  },
  {
   "cell_type": "markdown",
   "id": "370afe22",
   "metadata": {},
   "source": [
    "# 2.1.4. Assignment Operators"
   ]
  },
  {
   "cell_type": "code",
   "execution_count": null,
   "id": "eb1a0167",
   "metadata": {},
   "outputs": [],
   "source": [
    "# Basic Assignment\n",
    "count = 100          # Assigning an integer\n",
    "name = \"Aspirin\"     # Assigning a string\n",
    "concentration = 1.5  # Assigning a float"
   ]
  },
  {
   "cell_type": "code",
   "execution_count": null,
   "id": "0726a003",
   "metadata": {},
   "outputs": [],
   "source": [
    "# Addition Assignment\n",
    "total_dose = 0\n",
    "total_dose += 50\n",
    "print(total_dose)"
   ]
  },
  {
   "cell_type": "code",
   "execution_count": null,
   "id": "3c9a61bc",
   "metadata": {},
   "outputs": [],
   "source": [
    "# Subtraction Assignment\n",
    "total_dose = 0\n",
    "total_dose -= 10\n",
    "print(total_dose)"
   ]
  },
  {
   "cell_type": "code",
   "execution_count": null,
   "id": "57b33c65",
   "metadata": {},
   "outputs": [],
   "source": [
    "# Multiplication Assignment\n",
    "x = 2\n",
    "x *= 2\n",
    "print('(x *= 2): ', x)\n",
    "x = 2\n",
    "x = x * 2\n",
    "print('(x = x * 2): ', x)"
   ]
  },
  {
   "cell_type": "code",
   "execution_count": null,
   "id": "e393b6fc",
   "metadata": {},
   "outputs": [],
   "source": [
    "# Division Assignment\n",
    "x = 2\n",
    "x /= 2\n",
    "print('(x /= 2): ', x)\n",
    "x = 2\n",
    "x = x / 2\n",
    "print('(x = x / 2): ', x)"
   ]
  },
  {
   "cell_type": "code",
   "execution_count": null,
   "id": "7332a7e8",
   "metadata": {},
   "outputs": [],
   "source": [
    "# Exponentiation Assignment\n",
    "x = 2\n",
    "x **= 2\n",
    "print('(x **= 2): ', x)\n",
    "x = 2\n",
    "x = x ** 2\n",
    "print('(x = x ** 2): ', x)"
   ]
  },
  {
   "cell_type": "code",
   "execution_count": null,
   "id": "ea4d6648",
   "metadata": {},
   "outputs": [],
   "source": []
  }
 ],
 "metadata": {
  "kernelspec": {
   "display_name": "Python 3 (ipykernel)",
   "language": "python",
   "name": "python3"
  },
  "language_info": {
   "codemirror_mode": {
    "name": "ipython",
    "version": 3
   },
   "file_extension": ".py",
   "mimetype": "text/x-python",
   "name": "python",
   "nbconvert_exporter": "python",
   "pygments_lexer": "ipython3",
   "version": "3.11.5"
  }
 },
 "nbformat": 4,
 "nbformat_minor": 5
}
