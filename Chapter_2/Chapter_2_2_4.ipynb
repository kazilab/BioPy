{
 "cells": [
  {
   "cell_type": "markdown",
   "id": "782e6274",
   "metadata": {},
   "source": [
    "# Chapter 2"
   ]
  },
  {
   "cell_type": "markdown",
   "id": "7c0fb17a",
   "metadata": {},
   "source": [
    "# 2.2.4. Complex Data Types"
   ]
  },
  {
   "cell_type": "markdown",
   "id": "15b3a159",
   "metadata": {},
   "source": [
    "A. Lists"
   ]
  },
  {
   "cell_type": "markdown",
   "id": "e1e58b4b",
   "metadata": {},
   "source": [
    "Creating and Accessing Lists in Python"
   ]
  },
  {
   "cell_type": "code",
   "execution_count": null,
   "id": "300332b4",
   "metadata": {},
   "outputs": [],
   "source": [
    "# Creating a list with different types of elements\n",
    "my_list = [1, \"Python\", 3.14, [2, 4, 6]]\n",
    "print(my_list)\n",
    "\n",
    "# Accessing elements using positive indexing\n",
    "first_element = my_list[0]  # First element (1)\n",
    "second_element = my_list[1]  # Second element (\"Python\")\n",
    "print(\"First element:\", first_element)\n",
    "print(\"Second element:\", second_element)\n",
    "\n",
    "# Accessing elements using negative indexing\n",
    "last_element = my_list[-1]  # Last element ([2, 4, 6])\n",
    "second_last_element = my_list[-2]  # Second to last element (3.14)\n",
    "print(\"Last element:\", last_element)\n",
    "print(\"Second to last element:\", second_last_element)"
   ]
  },
  {
   "cell_type": "code",
   "execution_count": null,
   "id": "ea4d6648",
   "metadata": {},
   "outputs": [],
   "source": [
    "# Concatenation\n",
    "list1 = [1, 2, 3]\n",
    "list2 = [4, 5, 6]\n",
    "combined_list = list1 + list2\n",
    "print(\"Concatenated List:\", combined_list)\n",
    "# Replication\n",
    "replicated_list = list1 * 2\n",
    "print(\"Replicated List:\", replicated_list)"
   ]
  },
  {
   "cell_type": "code",
   "execution_count": null,
   "id": "1ea89024",
   "metadata": {},
   "outputs": [],
   "source": [
    "# append()\n",
    "list1.append(7)\n",
    "print(\"After append:\", list1)\n",
    "\n",
    "# remove()\n",
    "list1.remove(7)\n",
    "print(\"After remove:\", list1)\n",
    "\n",
    "# sort()\n",
    "unsorted_list = [3, 1, 4, 2]\n",
    "unsorted_list.sort()\n",
    "print(\"Sorted List:\", unsorted_list)\n",
    "\n",
    "# reverse()\n",
    "unsorted_list.reverse()\n",
    "print(\"Reversed List:\", unsorted_list)"
   ]
  },
  {
   "cell_type": "code",
   "execution_count": null,
   "id": "ad3d05b1",
   "metadata": {},
   "outputs": [],
   "source": [
    "# Creating a list for slicing\n",
    "slice_list = [0, 1, 2, 3, 4, 5, 6, 7, 8, 9]\n",
    "\n",
    "# Slicing - getting elements from index 2 to 5\n",
    "sub_list = slice_list[2:6]\n",
    "print(\"Sliced List (2 to 5):\", sub_list)\n",
    "\n",
    "# Slicing - getting elements from the beginning to index 3\n",
    "start_slice = slice_list[:4]\n",
    "print(\"Sliced from Start to 3:\", start_slice)\n",
    "\n",
    "# Slicing - getting elements from index 5 to the end\n",
    "end_slice = slice_list[5:]\n",
    "print(\"Sliced from 5 to End:\", end_slice)"
   ]
  },
  {
   "cell_type": "code",
   "execution_count": null,
   "id": "f9cf68be",
   "metadata": {},
   "outputs": [],
   "source": [
    "# Basic Iteration Over a List\n",
    "# Define a list\n",
    "numbers = [1, 2, 3, 4, 5]\n",
    "# Iterate over the list\n",
    "for num in numbers:\n",
    "    print(num)"
   ]
  },
  {
   "cell_type": "code",
   "execution_count": null,
   "id": "3399231d",
   "metadata": {},
   "outputs": [],
   "source": [
    "# Performing Operations on Each Element\n",
    "# List of numbers\n",
    "numbers = [1, 2, 3, 4, 5]\n",
    "# Iterating and performing an operation (e.g., squaring)\n",
    "for num in numbers:\n",
    "    squared = num ** 2\n",
    "    print(f\"Square of {num} is {squared}\")"
   ]
  },
  {
   "cell_type": "code",
   "execution_count": null,
   "id": "797ed987",
   "metadata": {},
   "outputs": [],
   "source": [
    "# Creating a New List from an Existing One\n",
    "# Original list\n",
    "original_list = [1, 2, 3, 4, 5]\n",
    "# Creating a new list with doubled values\n",
    "doubled_list = []\n",
    "for num in original_list:\n",
    "    doubled_list.append(num * 2)\n",
    "print(\"Doubled List:\", doubled_list)"
   ]
  },
  {
   "cell_type": "code",
   "execution_count": null,
   "id": "90a2f935",
   "metadata": {},
   "outputs": [],
   "source": [
    "# Iterating with Index and Element Using enumerate()\n",
    "# List of items\n",
    "items = ['apple', 'banana', 'cherry']\n",
    "# Iterating over the list with index and element\n",
    "for index, item in enumerate(items):\n",
    "    print(f\"Item {index}: {item}\")"
   ]
  },
  {
   "cell_type": "code",
   "execution_count": null,
   "id": "2cf4a683",
   "metadata": {},
   "outputs": [],
   "source": [
    "# Nested Loops for Multidimensional Lists\n",
    "# 2D list (list of lists)\n",
    "matrix = [[1, 2, 3], [4, 5, 6], [7, 8, 9]]\n",
    "# Iterating over each sublist\n",
    "for sublist in matrix:\n",
    "    # Iterating over each element in the sublist\n",
    "    for element in sublist:\n",
    "        print(element, end=' ')\n",
    "    print()  # Newline after each sublist"
   ]
  },
  {
   "cell_type": "code",
   "execution_count": null,
   "id": "f80656ec",
   "metadata": {},
   "outputs": [],
   "source": [
    "# Creating a Tuple\n",
    "my_tuple = (1, \"hello\", 3.14)\n",
    "print(\"This is a tuple:\", my_tuple)"
   ]
  },
  {
   "cell_type": "code",
   "execution_count": null,
   "id": "141870c0",
   "metadata": {},
   "outputs": [],
   "source": [
    "# Tuple Immutability\n",
    "# Attempting to change a tuple's element (will raise an error)\n",
    "my_tuple = (1, \"hello\", 3.14)\n",
    "try:\n",
    "    my_tuple[1] = \"world\"\n",
    "except TypeError as e:\n",
    "    print(e)"
   ]
  },
  {
   "cell_type": "code",
   "execution_count": null,
   "id": "c0203044",
   "metadata": {},
   "outputs": [],
   "source": [
    "#Using Tuples over Lists\n",
    "# Using a tuple for constant values\n",
    "days_of_week = ('Monday', 'Tuesday', 'Wednesday', 'Thursday', 'Friday', 'Saturday', 'Sunday')\n",
    "# Iterating over a tuple (read-only operation)\n",
    "for day in days_of_week:\n",
    "    print(day)"
   ]
  },
  {
   "cell_type": "code",
   "execution_count": null,
   "id": "9b841f58",
   "metadata": {},
   "outputs": [],
   "source": [
    "# Creating a Set\n",
    "# Creating a set with curly braces\n",
    "fruits = {'apple', 'banana', 'cherry'}\n",
    "print(\"Fruits Set:\", fruits)\n",
    "\n",
    "# Creating a set from a list to remove duplicates\n",
    "numbers_list = [1, 2, 2, 3, 4, 4, 4]\n",
    "numbers_set = set(numbers_list)\n",
    "print(\"Numbers Set:\", numbers_set)"
   ]
  },
  {
   "cell_type": "code",
   "execution_count": null,
   "id": "4f9c04ed",
   "metadata": {},
   "outputs": [],
   "source": [
    "# Using Set Operations\n",
    "# Union of two sets\n",
    "set_a = {1, 2, 3}\n",
    "set_b = {3, 4, 5}\n",
    "set_union = set_a | set_b\n",
    "print(\"Union:\", set_union)\n",
    "\n",
    "# Intersection of two sets\n",
    "set_intersection = set_a & set_b\n",
    "print(\"Intersection:\", set_intersection)\n",
    "\n",
    "# Difference of two sets\n",
    "set_difference = set_a - set_b\n",
    "print(\"Difference:\", set_difference)\n",
    "\n",
    "# Symmetric difference of two sets\n",
    "set_sym_diff = set_a ^ set_b\n",
    "print(\"Symmetric Difference:\", set_sym_diff)"
   ]
  },
  {
   "cell_type": "code",
   "execution_count": null,
   "id": "ac034445",
   "metadata": {},
   "outputs": [],
   "source": [
    "# Modifying a Set with Methods\n",
    "# Adding an element to the set\n",
    "fruits.add('mango')\n",
    "print(\"After add:\", fruits)\n",
    "# Removing an element from the set\n",
    "fruits.remove('banana')\n",
    "print(\"After remove:\", fruits)\n",
    "# Clearing the set\n",
    "fruits.clear()\n",
    "print(\"After clear:\", fruits)"
   ]
  },
  {
   "cell_type": "code",
   "execution_count": null,
   "id": "44506f1a",
   "metadata": {},
   "outputs": [],
   "source": [
    "# Creating and Accessing a Dictionary\n",
    "bio_data = {'name': 'John Doe', 'age': 30, 'occupation': 'Biologist'}\n",
    "# Accessing dictionary values\n",
    "print(\"Name:\", bio_data['name'])\n",
    "print(\"Age:\", bio_data.get('age'))  # Using get() for safe access"
   ]
  },
  {
   "cell_type": "code",
   "execution_count": null,
   "id": "3e9fcec3",
   "metadata": {},
   "outputs": [],
   "source": [
    "# Adding and Modifying Dictionary Elements\n",
    "# Adding a new key-value pair\n",
    "bio_data = {'name': 'John Doe', 'age': 30, 'occupation': 'Biologist'}\n",
    "bio_data['location'] = 'New York'\n",
    "print(\"Added location:\", bio_data)\n",
    "# Modifying an existing key's value\n",
    "bio_data['age'] = 31\n",
    "print(\"Updated age:\", bio_data)"
   ]
  },
  {
   "cell_type": "code",
   "execution_count": null,
   "id": "b963ba7a",
   "metadata": {},
   "outputs": [],
   "source": [
    "# Using Dictionary Methods\n",
    "bio_data = {'name': 'John Doe', 'age': 30, 'occupation': 'Biologist'}\n",
    "# Printing all keys\n",
    "print(\"Keys:\", bio_data.keys())\n",
    "# Printing all values\n",
    "print(\"Values:\", bio_data.values())\n",
    "# Printing all key-value pairs\n",
    "print(\"Items:\", bio_data.items())"
   ]
  },
  {
   "cell_type": "code",
   "execution_count": null,
   "id": "4d9645a8",
   "metadata": {},
   "outputs": [],
   "source": [
    "# Iterating Over a Dictionary\n",
    "# Iterating over keys\n",
    "for key in bio_data:\n",
    "    print(key)\n",
    "# Iterating over key-value pairs\n",
    "for key, value in bio_data.items():\n",
    "    print(f\"{key}: {value}\")"
   ]
  },
  {
   "cell_type": "code",
   "execution_count": null,
   "id": "4d56fd0a",
   "metadata": {},
   "outputs": [],
   "source": []
  }
 ],
 "metadata": {
  "kernelspec": {
   "display_name": "Python 3 (ipykernel)",
   "language": "python",
   "name": "python3"
  },
  "language_info": {
   "codemirror_mode": {
    "name": "ipython",
    "version": 3
   },
   "file_extension": ".py",
   "mimetype": "text/x-python",
   "name": "python",
   "nbconvert_exporter": "python",
   "pygments_lexer": "ipython3",
   "version": "3.11.5"
  }
 },
 "nbformat": 4,
 "nbformat_minor": 5
}
