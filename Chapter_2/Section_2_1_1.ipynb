{
 "cells": [
  {
   "cell_type": "markdown",
   "id": "782e6274",
   "metadata": {},
   "source": [
    "# Chapter 2"
   ]
  },
  {
   "cell_type": "markdown",
   "id": "8f7abc2e",
   "metadata": {},
   "source": [
    "# 2.1.1. Printing output"
   ]
  },
  {
   "cell_type": "code",
   "execution_count": 1,
   "id": "d1b91d8d",
   "metadata": {},
   "outputs": [
    {
     "name": "stdout",
     "output_type": "stream",
     "text": [
      "Print this text!\n"
     ]
    }
   ],
   "source": [
    "print(\"Print this text!\")"
   ]
  },
  {
   "cell_type": "markdown",
   "id": "6730721a",
   "metadata": {},
   "source": [
    "Printing strings"
   ]
  },
  {
   "cell_type": "code",
   "execution_count": 2,
   "id": "82b53405",
   "metadata": {},
   "outputs": [
    {
     "name": "stdout",
     "output_type": "stream",
     "text": [
      "Learning Python is fun!\n"
     ]
    }
   ],
   "source": [
    "print(\"Learning Python is fun!\")"
   ]
  },
  {
   "cell_type": "markdown",
   "id": "423dfee2",
   "metadata": {},
   "source": [
    "Printing numbers and expressions"
   ]
  },
  {
   "cell_type": "code",
   "execution_count": 3,
   "id": "c289f88a",
   "metadata": {},
   "outputs": [
    {
     "name": "stdout",
     "output_type": "stream",
     "text": [
      "15\n"
     ]
    }
   ],
   "source": [
    "print(5 + 10)"
   ]
  },
  {
   "cell_type": "markdown",
   "id": "3f95651c",
   "metadata": {},
   "source": [
    "Printing multiple items"
   ]
  },
  {
   "cell_type": "code",
   "execution_count": 4,
   "id": "df3adaa3",
   "metadata": {},
   "outputs": [
    {
     "name": "stdout",
     "output_type": "stream",
     "text": [
      "The answer is: 42\n"
     ]
    }
   ],
   "source": [
    "print(\"The answer is:\", 42)"
   ]
  },
  {
   "cell_type": "markdown",
   "id": "386759e8",
   "metadata": {},
   "source": [
    "String concatenation"
   ]
  },
  {
   "cell_type": "code",
   "execution_count": 5,
   "id": "a819296d",
   "metadata": {},
   "outputs": [
    {
     "name": "stdout",
     "output_type": "stream",
     "text": [
      "I am Jerry\n"
     ]
    }
   ],
   "source": [
    "name = \"Jerry\"\n",
    "print(\"I am \" + name)"
   ]
  }
 ],
 "metadata": {
  "kernelspec": {
   "display_name": "Python 3 (ipykernel)",
   "language": "python",
   "name": "python3"
  },
  "language_info": {
   "codemirror_mode": {
    "name": "ipython",
    "version": 3
   },
   "file_extension": ".py",
   "mimetype": "text/x-python",
   "name": "python",
   "nbconvert_exporter": "python",
   "pygments_lexer": "ipython3",
   "version": "3.11.9"
  }
 },
 "nbformat": 4,
 "nbformat_minor": 5
}
