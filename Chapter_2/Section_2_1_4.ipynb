{
 "cells": [
  {
   "cell_type": "markdown",
   "id": "782e6274",
   "metadata": {},
   "source": [
    "# Chapter 2"
   ]
  },
  {
   "cell_type": "markdown",
   "id": "370afe22",
   "metadata": {},
   "source": [
    "# 2.1.4. Assignment operators"
   ]
  },
  {
   "cell_type": "markdown",
   "id": "36daed7b",
   "metadata": {},
   "source": [
    "Basic assignment"
   ]
  },
  {
   "cell_type": "code",
   "execution_count": 1,
   "id": "ac9dfe89",
   "metadata": {},
   "outputs": [],
   "source": [
    "count = 100          # Assigning an integer\n",
    "name = \"Aspirin\"     # Assigning a string\n",
    "concentration = 1.5  # Assigning a float"
   ]
  },
  {
   "cell_type": "markdown",
   "id": "63a1a5c8",
   "metadata": {},
   "source": [
    "Addition assignment"
   ]
  },
  {
   "cell_type": "code",
   "execution_count": 2,
   "id": "217df7b4",
   "metadata": {},
   "outputs": [
    {
     "name": "stdout",
     "output_type": "stream",
     "text": [
      "50\n"
     ]
    }
   ],
   "source": [
    "total_dose = 0      # Initialize total_dose to 0\n",
    "total_dose += 50    # Increment total_dose by 50\n",
    "print(total_dose)"
   ]
  },
  {
   "cell_type": "markdown",
   "id": "5aa7ddd8",
   "metadata": {},
   "source": [
    "Subtraction assignment"
   ]
  },
  {
   "cell_type": "code",
   "execution_count": 3,
   "id": "b481a726",
   "metadata": {},
   "outputs": [
    {
     "name": "stdout",
     "output_type": "stream",
     "text": [
      "40\n"
     ]
    }
   ],
   "source": [
    "total_dose = 50      # Initialize total_dose to 50\n",
    "total_dose -= 10     # Decrement total_dose by 10\n",
    "print(total_dose)"
   ]
  },
  {
   "cell_type": "markdown",
   "id": "753001af",
   "metadata": {},
   "source": [
    "Multiplication assignment"
   ]
  },
  {
   "cell_type": "code",
   "execution_count": 4,
   "id": "57b33c65",
   "metadata": {},
   "outputs": [
    {
     "name": "stdout",
     "output_type": "stream",
     "text": [
      "6\n"
     ]
    }
   ],
   "source": [
    "total_dose = 3      # Initialize total_dose to 3\n",
    "total_dose *= 2     # Multiplying total_dose by 2\n",
    "print(total_dose)"
   ]
  },
  {
   "cell_type": "markdown",
   "id": "2bb2ff9e",
   "metadata": {},
   "source": [
    "Division assignment"
   ]
  },
  {
   "cell_type": "code",
   "execution_count": 5,
   "id": "c1231924",
   "metadata": {},
   "outputs": [
    {
     "name": "stdout",
     "output_type": "stream",
     "text": [
      "1.5\n"
     ]
    }
   ],
   "source": [
    "total_dose = 3      # Initialize total_dose to 3\n",
    "total_dose /= 2     # Dividing total_dose by 2\n",
    "print(total_dose)"
   ]
  },
  {
   "cell_type": "markdown",
   "id": "219f2129",
   "metadata": {},
   "source": [
    "Exponentiation assignment"
   ]
  },
  {
   "cell_type": "code",
   "execution_count": 6,
   "id": "ea4d6648",
   "metadata": {},
   "outputs": [
    {
     "name": "stdout",
     "output_type": "stream",
     "text": [
      "9\n"
     ]
    }
   ],
   "source": [
    "total_dose = 3       # Initialize total_dose to 3\n",
    "total_dose **= 2     # Square total_dose\n",
    "print(total_dose)"
   ]
  }
 ],
 "metadata": {
  "kernelspec": {
   "display_name": "Python 3 (ipykernel)",
   "language": "python",
   "name": "python3"
  },
  "language_info": {
   "codemirror_mode": {
    "name": "ipython",
    "version": 3
   },
   "file_extension": ".py",
   "mimetype": "text/x-python",
   "name": "python",
   "nbconvert_exporter": "python",
   "pygments_lexer": "ipython3",
   "version": "3.11.9"
  }
 },
 "nbformat": 4,
 "nbformat_minor": 5
}
