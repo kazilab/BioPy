{
 "cells": [
  {
   "cell_type": "markdown",
   "id": "782e6274",
   "metadata": {},
   "source": [
    "# Chapter 2"
   ]
  },
  {
   "cell_type": "markdown",
   "id": "4c2fbb82",
   "metadata": {},
   "source": [
    "# 2.1.5. Comparison Operators"
   ]
  },
  {
   "cell_type": "code",
   "execution_count": null,
   "id": "88a14256",
   "metadata": {},
   "outputs": [],
   "source": [
    "# Equal to\n",
    "print(2 == 3)"
   ]
  },
  {
   "cell_type": "code",
   "execution_count": null,
   "id": "83b71270",
   "metadata": {},
   "outputs": [],
   "source": [
    "# Not equal to\n",
    "print(7 != 2)"
   ]
  },
  {
   "cell_type": "code",
   "execution_count": null,
   "id": "36bff268",
   "metadata": {},
   "outputs": [],
   "source": [
    "# Greater than\n",
    "print(5 > 3)  "
   ]
  },
  {
   "cell_type": "code",
   "execution_count": null,
   "id": "50a7c994",
   "metadata": {},
   "outputs": [],
   "source": [
    "# Less than \n",
    "print(5 < 3)"
   ]
  },
  {
   "cell_type": "code",
   "execution_count": null,
   "id": "bc74e5a7",
   "metadata": {},
   "outputs": [],
   "source": [
    "# Greater than or equal to\n",
    "print(8 >= 8)"
   ]
  },
  {
   "cell_type": "code",
   "execution_count": null,
   "id": "880ef997",
   "metadata": {},
   "outputs": [],
   "source": [
    "# Less than or equal to\n",
    "print(8 <= 8)"
   ]
  }
 ],
 "metadata": {
  "kernelspec": {
   "display_name": "Python 3 (ipykernel)",
   "language": "python",
   "name": "python3"
  },
  "language_info": {
   "codemirror_mode": {
    "name": "ipython",
    "version": 3
   },
   "file_extension": ".py",
   "mimetype": "text/x-python",
   "name": "python",
   "nbconvert_exporter": "python",
   "pygments_lexer": "ipython3",
   "version": "3.11.5"
  }
 },
 "nbformat": 4,
 "nbformat_minor": 5
}
