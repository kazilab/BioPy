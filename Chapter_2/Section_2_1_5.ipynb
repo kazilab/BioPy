{
 "cells": [
  {
   "cell_type": "markdown",
   "id": "782e6274",
   "metadata": {},
   "source": [
    "# Chapter 2"
   ]
  },
  {
   "cell_type": "markdown",
   "id": "4c2fbb82",
   "metadata": {},
   "source": [
    "# 2.1.5. Comparison operators"
   ]
  },
  {
   "cell_type": "markdown",
   "id": "506a6efd",
   "metadata": {},
   "source": [
    "Equal to"
   ]
  },
  {
   "cell_type": "code",
   "execution_count": 1,
   "id": "e04c4662",
   "metadata": {},
   "outputs": [
    {
     "name": "stdout",
     "output_type": "stream",
     "text": [
      "False\n"
     ]
    }
   ],
   "source": [
    "print(2 == 3)"
   ]
  },
  {
   "cell_type": "markdown",
   "id": "5e4bc5c7",
   "metadata": {},
   "source": [
    "Not equal to"
   ]
  },
  {
   "cell_type": "code",
   "execution_count": 2,
   "id": "863d65af",
   "metadata": {},
   "outputs": [
    {
     "name": "stdout",
     "output_type": "stream",
     "text": [
      "True\n"
     ]
    }
   ],
   "source": [
    "print(7 != 2)"
   ]
  },
  {
   "cell_type": "markdown",
   "id": "0196309a",
   "metadata": {},
   "source": [
    "Greater than "
   ]
  },
  {
   "cell_type": "code",
   "execution_count": 3,
   "id": "3ff10b03",
   "metadata": {},
   "outputs": [
    {
     "name": "stdout",
     "output_type": "stream",
     "text": [
      "True\n"
     ]
    }
   ],
   "source": [
    "print(5 > 3) "
   ]
  },
  {
   "cell_type": "markdown",
   "id": "af8af751",
   "metadata": {},
   "source": [
    "Less than "
   ]
  },
  {
   "cell_type": "code",
   "execution_count": 4,
   "id": "d8a67e5b",
   "metadata": {},
   "outputs": [
    {
     "name": "stdout",
     "output_type": "stream",
     "text": [
      "False\n"
     ]
    }
   ],
   "source": [
    "print(5 < 3)"
   ]
  },
  {
   "cell_type": "markdown",
   "id": "2d4636b3",
   "metadata": {},
   "source": [
    "Greater than or equal to"
   ]
  },
  {
   "cell_type": "code",
   "execution_count": 5,
   "id": "66dedc01",
   "metadata": {},
   "outputs": [
    {
     "name": "stdout",
     "output_type": "stream",
     "text": [
      "True\n"
     ]
    }
   ],
   "source": [
    "print(8 >= 8)"
   ]
  },
  {
   "cell_type": "markdown",
   "id": "5f76baee",
   "metadata": {},
   "source": [
    "Less than or equal to"
   ]
  },
  {
   "cell_type": "code",
   "execution_count": 6,
   "id": "a15ba742",
   "metadata": {},
   "outputs": [
    {
     "name": "stdout",
     "output_type": "stream",
     "text": [
      "True\n"
     ]
    }
   ],
   "source": [
    "print(8 <= 8)"
   ]
  }
 ],
 "metadata": {
  "kernelspec": {
   "display_name": "Python 3 (ipykernel)",
   "language": "python",
   "name": "python3"
  },
  "language_info": {
   "codemirror_mode": {
    "name": "ipython",
    "version": 3
   },
   "file_extension": ".py",
   "mimetype": "text/x-python",
   "name": "python",
   "nbconvert_exporter": "python",
   "pygments_lexer": "ipython3",
   "version": "3.11.9"
  }
 },
 "nbformat": 4,
 "nbformat_minor": 5
}
