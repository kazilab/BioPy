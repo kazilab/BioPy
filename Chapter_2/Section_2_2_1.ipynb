{
 "cells": [
  {
   "cell_type": "markdown",
   "id": "782e6274",
   "metadata": {},
   "source": [
    "# Chapter 2"
   ]
  },
  {
   "attachments": {},
   "cell_type": "markdown",
   "id": "66387e5a",
   "metadata": {},
   "source": [
    "# 2.2.1. Introduction to variables"
   ]
  },
  {
   "attachments": {},
   "cell_type": "markdown",
   "id": "ca3d1eba",
   "metadata": {},
   "source": [
    "Arithmetic calculations"
   ]
  },
  {
   "cell_type": "code",
   "execution_count": 1,
   "id": "cb889cd2",
   "metadata": {},
   "outputs": [
    {
     "name": "stdout",
     "output_type": "stream",
     "text": [
      "1000\n"
     ]
    }
   ],
   "source": [
    "price_per_item = 10\n",
    "quantity = 100\n",
    "total_cost = price_per_item * quantity\n",
    "print(total_cost)"
   ]
  },
  {
   "cell_type": "markdown",
   "id": "0922f72c",
   "metadata": {},
   "source": [
    "String concatenation"
   ]
  },
  {
   "cell_type": "code",
   "execution_count": 2,
   "id": "515759e8",
   "metadata": {},
   "outputs": [
    {
     "name": "stdout",
     "output_type": "stream",
     "text": [
      "Tom Hanks\n"
     ]
    }
   ],
   "source": [
    "first_name = 'Tom'\n",
    "last_name = 'Hanks'\n",
    "full_name = first_name + \" \" + last_name\n",
    "print(full_name)"
   ]
  },
  {
   "cell_type": "markdown",
   "id": "9717c291",
   "metadata": {},
   "source": [
    "Storing and manipulating data"
   ]
  },
  {
   "cell_type": "code",
   "execution_count": 3,
   "id": "af438180",
   "metadata": {},
   "outputs": [
    {
     "name": "stdout",
     "output_type": "stream",
     "text": [
      "82.0\n"
     ]
    }
   ],
   "source": [
    "heart_rates = [72, 78, 85, 95, 76, 88, 82, 80]\n",
    "average_heart_rate = sum(heart_rates) / len(heart_rates)\n",
    "print(average_heart_rate)"
   ]
  }
 ],
 "metadata": {
  "kernelspec": {
   "display_name": "Python 3 (ipykernel)",
   "language": "python",
   "name": "python3"
  },
  "language_info": {
   "codemirror_mode": {
    "name": "ipython",
    "version": 3
   },
   "file_extension": ".py",
   "mimetype": "text/x-python",
   "name": "python",
   "nbconvert_exporter": "python",
   "pygments_lexer": "ipython3",
   "version": "3.11.9"
  }
 },
 "nbformat": 4,
 "nbformat_minor": 5
}
