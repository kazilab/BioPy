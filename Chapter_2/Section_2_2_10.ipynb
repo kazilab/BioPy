{
 "cells": [
  {
   "cell_type": "markdown",
   "id": "782e6274",
   "metadata": {},
   "source": [
    "# Chapter 2"
   ]
  },
  {
   "attachments": {},
   "cell_type": "markdown",
   "id": "7c0fb17a",
   "metadata": {},
   "source": [
    "# 2.2.10. Complex data types - Iterating over lists"
   ]
  },
  {
   "cell_type": "markdown",
   "id": "2d749dba",
   "metadata": {},
   "source": [
    "Basic iteration over a list"
   ]
  },
  {
   "cell_type": "code",
   "execution_count": 1,
   "id": "f9cf68be",
   "metadata": {},
   "outputs": [
    {
     "name": "stdout",
     "output_type": "stream",
     "text": [
      "10\n",
      "12\n",
      "23\n"
     ]
    }
   ],
   "source": [
    "numbers = [10, 12, 23] # Define a list of numbers\n",
    "# Iterate over the list using a for loop\n",
    "for num in numbers:\n",
    "    print(num)"
   ]
  },
  {
   "cell_type": "markdown",
   "id": "0eef3c4f",
   "metadata": {},
   "source": [
    "Performing operations on each element"
   ]
  },
  {
   "cell_type": "code",
   "execution_count": 2,
   "id": "0a32179b",
   "metadata": {},
   "outputs": [
    {
     "name": "stdout",
     "output_type": "stream",
     "text": [
      "Square of 2 is 4\n",
      "Square of 4 is 16\n",
      "Square of 5 is 25\n"
     ]
    }
   ],
   "source": [
    "numbers = [2, 4, 5] # Define a list of numbers\n",
    "# Iterate over the list and perform an operation (e.g., squaring each number)\n",
    "for num in numbers:\n",
    "    squared = num ** 2  # Square the current number\n",
    "    print(f\"Square of {num} is {squared}\")"
   ]
  },
  {
   "cell_type": "markdown",
   "id": "feb9e4df",
   "metadata": {},
   "source": [
    "Creating a new list from an existing list"
   ]
  },
  {
   "cell_type": "code",
   "execution_count": 3,
   "id": "797ed987",
   "metadata": {},
   "outputs": [
    {
     "name": "stdout",
     "output_type": "stream",
     "text": [
      "Doubled List: [22, 4, 20, 8, 10]\n"
     ]
    }
   ],
   "source": [
    "original_list = [11, 2, 10, 4, 5] # Define the original list with integers\n",
    "# Initialize an empty list to hold modified values\n",
    "modified_list = []\n",
    "# Iterate over each number in the original list\n",
    "for num in original_list:\n",
    "    # Double the current number and append it to the new list\n",
    "    modified_list.append(num * 2)\n",
    "# Print the new list that contains doubled values\n",
    "print(\"Doubled List:\", modified_list)"
   ]
  },
  {
   "cell_type": "markdown",
   "id": "f52c2990",
   "metadata": {},
   "source": [
    "Iterating with index and element"
   ]
  },
  {
   "cell_type": "code",
   "execution_count": 4,
   "id": "90a2f935",
   "metadata": {},
   "outputs": [
    {
     "name": "stdout",
     "output_type": "stream",
     "text": [
      "Item 0: apple\n",
      "Item 1: banana\n",
      "Item 2: cherry\n"
     ]
    }
   ],
   "source": [
    "items = ['apple', 'banana', 'cherry']  # Define a list of fruit items\n",
    "# Use enumerate() to iterate over the list, to obtain both the index and the element\n",
    "for index, item in enumerate(items):\n",
    "    # Print the index and the corresponding item from the list\n",
    "    print(f\"Item {index}: {item}\")"
   ]
  },
  {
   "cell_type": "markdown",
   "id": "8075139b",
   "metadata": {},
   "source": [
    "Nested loops for multidimensional lists"
   ]
  },
  {
   "cell_type": "code",
   "execution_count": 5,
   "id": "2cf4a683",
   "metadata": {},
   "outputs": [
    {
     "name": "stdout",
     "output_type": "stream",
     "text": [
      "1 2 3 \n",
      "4 5 6 \n",
      "7 8 9 \n"
     ]
    }
   ],
   "source": [
    "# Define a 2D list (list of lists) representing a matrix\n",
    "matrix = [[1, 2, 3], [4, 5, 6], [7, 8, 9]]\n",
    "\n",
    "# Iterating over each sublist in the matrix\n",
    "for sublist in matrix:\n",
    "    # Iterating over each element in the sublist\n",
    "    for element in sublist:\n",
    "        # Print each element followed by a space, \n",
    "        #without moving to a new line immediately\n",
    "        print(element, end=' ')\n",
    "    # Print a newline after each sublist to separate rows of the matrix\n",
    "    print()"
   ]
  }
 ],
 "metadata": {
  "kernelspec": {
   "display_name": "Python 3 (ipykernel)",
   "language": "python",
   "name": "python3"
  },
  "language_info": {
   "codemirror_mode": {
    "name": "ipython",
    "version": 3
   },
   "file_extension": ".py",
   "mimetype": "text/x-python",
   "name": "python",
   "nbconvert_exporter": "python",
   "pygments_lexer": "ipython3",
   "version": "3.11.9"
  }
 },
 "nbformat": 4,
 "nbformat_minor": 5
}
