{
 "cells": [
  {
   "cell_type": "markdown",
   "id": "782e6274",
   "metadata": {},
   "source": [
    "# Chapter 2"
   ]
  },
  {
   "cell_type": "markdown",
   "id": "7c0fb17a",
   "metadata": {},
   "source": [
    "# 2.2.11. Complex data types - Tuple"
   ]
  },
  {
   "attachments": {},
   "cell_type": "markdown",
   "id": "2d749dba",
   "metadata": {},
   "source": [
    "Creating a tuple"
   ]
  },
  {
   "cell_type": "code",
   "execution_count": 1,
   "id": "f9cf68be",
   "metadata": {},
   "outputs": [
    {
     "name": "stdout",
     "output_type": "stream",
     "text": [
      "This is a tuple: (1, 'Python', 3.14)\n"
     ]
    }
   ],
   "source": [
    "my_tuple = (1, \"Python\", 3.14)\n",
    "print(\"This is a tuple:\", my_tuple)"
   ]
  },
  {
   "cell_type": "markdown",
   "id": "0eef3c4f",
   "metadata": {},
   "source": [
    "Performing operations on each element"
   ]
  },
  {
   "cell_type": "code",
   "execution_count": 2,
   "id": "0a32179b",
   "metadata": {},
   "outputs": [
    {
     "name": "stdout",
     "output_type": "stream",
     "text": [
      "'tuple' object does not support item assignment\n"
     ]
    }
   ],
   "source": [
    "my_tuple = (1, \"Python\", 3.14)\n",
    "try:\n",
    "    my_tuple[1] = \"world\"\n",
    "except TypeError as e:\n",
    "    print(e)"
   ]
  },
  {
   "attachments": {},
   "cell_type": "markdown",
   "id": "feb9e4df",
   "metadata": {},
   "source": [
    "Using tuples over lists"
   ]
  },
  {
   "cell_type": "code",
   "execution_count": 3,
   "id": "797ed987",
   "metadata": {},
   "outputs": [
    {
     "name": "stdout",
     "output_type": "stream",
     "text": [
      "Monday\n",
      "Tuesday\n",
      "Wednesday\n",
      "Thursday\n",
      "Friday\n",
      "Saturday\n",
      "Sunday\n"
     ]
    }
   ],
   "source": [
    "# Using a tuple for constant values\n",
    "days_of_week = ('Monday', 'Tuesday', 'Wednesday', 'Thursday', 'Friday', 'Saturday', 'Sunday')\n",
    "# Iterating over a tuple (read-only operation)\n",
    "for day in days_of_week:\n",
    "    print(day)"
   ]
  }
 ],
 "metadata": {
  "kernelspec": {
   "display_name": "Python 3 (ipykernel)",
   "language": "python",
   "name": "python3"
  },
  "language_info": {
   "codemirror_mode": {
    "name": "ipython",
    "version": 3
   },
   "file_extension": ".py",
   "mimetype": "text/x-python",
   "name": "python",
   "nbconvert_exporter": "python",
   "pygments_lexer": "ipython3",
   "version": "3.11.9"
  }
 },
 "nbformat": 4,
 "nbformat_minor": 5
}
