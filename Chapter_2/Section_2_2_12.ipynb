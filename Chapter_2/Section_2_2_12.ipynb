{
 "cells": [
  {
   "cell_type": "markdown",
   "id": "782e6274",
   "metadata": {},
   "source": [
    "# Chapter 2"
   ]
  },
  {
   "cell_type": "markdown",
   "id": "7c0fb17a",
   "metadata": {},
   "source": [
    "# 2.2.12. Complex data types - Sets"
   ]
  },
  {
   "cell_type": "markdown",
   "id": "4e257914",
   "metadata": {},
   "source": [
    "Define a set of fruits using curly braces"
   ]
  },
  {
   "cell_type": "code",
   "execution_count": 1,
   "id": "1860050c",
   "metadata": {},
   "outputs": [
    {
     "name": "stdout",
     "output_type": "stream",
     "text": [
      "Fruits Set: {'banana', 'apple', 'cherry'}\n"
     ]
    }
   ],
   "source": [
    "fruits = {'apple', 'banana', 'cherry'} # Creating a set with curly braces\n",
    "print(\"Fruits Set:\", fruits)"
   ]
  },
  {
   "cell_type": "markdown",
   "id": "45fad00c",
   "metadata": {},
   "source": [
    "Creating a set from a list to remove duplicates"
   ]
  },
  {
   "cell_type": "code",
   "execution_count": 2,
   "id": "e4d20a95",
   "metadata": {},
   "outputs": [
    {
     "name": "stdout",
     "output_type": "stream",
     "text": [
      "Numbers Set: {2, 3, 4, 5}\n"
     ]
    }
   ],
   "source": [
    "numbers_list = [5, 3, 2, 3, 4, 2, 4, 5] # Define a list with duplicate numbers\n",
    "# Convert the list to a set, which automatically removes duplicates\n",
    "numbers_set = set(numbers_list)\n",
    "print(\"Numbers Set:\", numbers_set)"
   ]
  }
 ],
 "metadata": {
  "kernelspec": {
   "display_name": "Python 3 (ipykernel)",
   "language": "python",
   "name": "python3"
  },
  "language_info": {
   "codemirror_mode": {
    "name": "ipython",
    "version": 3
   },
   "file_extension": ".py",
   "mimetype": "text/x-python",
   "name": "python",
   "nbconvert_exporter": "python",
   "pygments_lexer": "ipython3",
   "version": "3.11.9"
  }
 },
 "nbformat": 4,
 "nbformat_minor": 5
}
