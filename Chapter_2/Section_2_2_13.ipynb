{
 "cells": [
  {
   "cell_type": "markdown",
   "id": "782e6274",
   "metadata": {},
   "source": [
    "# Chapter 2"
   ]
  },
  {
   "attachments": {},
   "cell_type": "markdown",
   "id": "7c0fb17a",
   "metadata": {},
   "source": [
    "# 2.2.13. Complex data types - Basic set operations"
   ]
  },
  {
   "attachments": {},
   "cell_type": "markdown",
   "id": "4e257914",
   "metadata": {},
   "source": [
    "Union of two sets"
   ]
  },
  {
   "cell_type": "code",
   "execution_count": 1,
   "id": "1860050c",
   "metadata": {},
   "outputs": [
    {
     "name": "stdout",
     "output_type": "stream",
     "text": [
      "Union: {1, 2, 3, 4, 5}\n"
     ]
    }
   ],
   "source": [
    "set_a = {1, 2, 3}\n",
    "set_b = {3, 4, 5}\n",
    "set_union = set_a | set_b\n",
    "print(\"Union:\", set_union)"
   ]
  },
  {
   "attachments": {},
   "cell_type": "markdown",
   "id": "45fad00c",
   "metadata": {},
   "source": [
    "Intersection of two sets"
   ]
  },
  {
   "cell_type": "code",
   "execution_count": 2,
   "id": "e4d20a95",
   "metadata": {},
   "outputs": [
    {
     "name": "stdout",
     "output_type": "stream",
     "text": [
      "Intersection: {3}\n"
     ]
    }
   ],
   "source": [
    "set_a = {1, 2, 3}\n",
    "set_b = {3, 4, 5}\n",
    "set_intersection = set_a & set_b\n",
    "print(\"Intersection:\", set_intersection)"
   ]
  },
  {
   "cell_type": "markdown",
   "id": "7aac70c0",
   "metadata": {},
   "source": [
    "Difference of two sets"
   ]
  },
  {
   "cell_type": "code",
   "execution_count": 3,
   "id": "24b3fe99",
   "metadata": {},
   "outputs": [
    {
     "name": "stdout",
     "output_type": "stream",
     "text": [
      "Difference: {1, 2}\n"
     ]
    }
   ],
   "source": [
    "set_a = {1, 2, 3}\n",
    "set_b = {3, 4, 5}\n",
    "set_difference = set_a - set_b\n",
    "print(\"Difference:\", set_difference)"
   ]
  },
  {
   "cell_type": "markdown",
   "id": "9d7c9acb",
   "metadata": {},
   "source": [
    "Symmetric difference of two sets"
   ]
  },
  {
   "cell_type": "code",
   "execution_count": 4,
   "id": "4f9c04ed",
   "metadata": {},
   "outputs": [
    {
     "name": "stdout",
     "output_type": "stream",
     "text": [
      "Symmetric difference: {1, 2, 4, 5}\n"
     ]
    }
   ],
   "source": [
    "set_a = {1, 2, 3}\n",
    "set_b = {3, 4, 5}\n",
    "set_sym_diff = set_a ^ set_b\n",
    "print(\"Symmetric difference:\", set_sym_diff)"
   ]
  }
 ],
 "metadata": {
  "kernelspec": {
   "display_name": "Python 3 (ipykernel)",
   "language": "python",
   "name": "python3"
  },
  "language_info": {
   "codemirror_mode": {
    "name": "ipython",
    "version": 3
   },
   "file_extension": ".py",
   "mimetype": "text/x-python",
   "name": "python",
   "nbconvert_exporter": "python",
   "pygments_lexer": "ipython3",
   "version": "3.11.9"
  }
 },
 "nbformat": 4,
 "nbformat_minor": 5
}
