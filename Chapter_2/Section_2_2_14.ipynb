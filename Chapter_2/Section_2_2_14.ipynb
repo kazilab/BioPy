{
 "cells": [
  {
   "cell_type": "markdown",
   "id": "782e6274",
   "metadata": {},
   "source": [
    "# Chapter 2"
   ]
  },
  {
   "attachments": {},
   "cell_type": "markdown",
   "id": "7c0fb17a",
   "metadata": {},
   "source": [
    "# 2.2.14. Complex data types - Methods to modify sets"
   ]
  },
  {
   "cell_type": "markdown",
   "id": "7bc96a50",
   "metadata": {},
   "source": [
    "Adding an element to the set"
   ]
  },
  {
   "cell_type": "code",
   "execution_count": 1,
   "id": "ee46d0d3",
   "metadata": {},
   "outputs": [
    {
     "name": "stdout",
     "output_type": "stream",
     "text": [
      "After add: {'cherry', 'banana', 'mango', 'apple'}\n"
     ]
    }
   ],
   "source": [
    "fruits = {'apple', 'banana', 'cherry'}\n",
    "fruits.add('mango')  # Adds 'mango' to the set\n",
    "print(\"After add:\", fruits)"
   ]
  },
  {
   "cell_type": "markdown",
   "id": "987f049b",
   "metadata": {},
   "source": [
    "Removing an element from the set"
   ]
  },
  {
   "cell_type": "code",
   "execution_count": 2,
   "id": "07d1aa11",
   "metadata": {},
   "outputs": [
    {
     "name": "stdout",
     "output_type": "stream",
     "text": [
      "After remove: {'cherry', 'apple'}\n"
     ]
    }
   ],
   "source": [
    "fruits = {'apple', 'banana', 'cherry'}\n",
    "fruits.remove('banana')  # Removes 'banana' from the set\n",
    "print(\"After remove:\", fruits)  "
   ]
  },
  {
   "cell_type": "markdown",
   "id": "bd588642",
   "metadata": {},
   "source": [
    "Attempt to remove an item which is not in the set"
   ]
  },
  {
   "cell_type": "code",
   "execution_count": 3,
   "id": "3d63e2de",
   "metadata": {},
   "outputs": [
    {
     "name": "stdout",
     "output_type": "stream",
     "text": [
      "Error: 'mango'\n"
     ]
    }
   ],
   "source": [
    "fruits = {'apple', 'banana', 'cherry'}\n",
    "try:\n",
    "    fruits.remove('mango')  # Attempt to remove 'mango', which is not in the set\n",
    "except KeyError as e:\n",
    "    print(f\"Error: {e}\")"
   ]
  },
  {
   "cell_type": "markdown",
   "id": "80274c07",
   "metadata": {},
   "source": [
    "Removing an element from the set using discard()"
   ]
  },
  {
   "cell_type": "code",
   "execution_count": 4,
   "id": "5fdbf73f",
   "metadata": {},
   "outputs": [
    {
     "name": "stdout",
     "output_type": "stream",
     "text": [
      "After discard: {'cherry', 'apple'}\n"
     ]
    }
   ],
   "source": [
    "fruits = {'apple', 'banana', 'cherry'}\n",
    "fruits.discard('banana')  # Successfully removes 'banana'\n",
    "print(\"After discard:\", fruits)"
   ]
  },
  {
   "cell_type": "code",
   "execution_count": 5,
   "id": "cf962baa",
   "metadata": {},
   "outputs": [
    {
     "name": "stdout",
     "output_type": "stream",
     "text": [
      "After discard: {'cherry', 'banana', 'apple'}\n"
     ]
    }
   ],
   "source": [
    "fruits = {'apple', 'banana', 'cherry'}\n",
    "fruits.discard('mango')  \n",
    "# Does nothing and no error is raised, even though 'mango' is not in the set\n",
    "print(\"After discard:\", fruits)"
   ]
  },
  {
   "cell_type": "markdown",
   "id": "8e76a71f",
   "metadata": {},
   "source": [
    "Removing an element from the set using pop()"
   ]
  },
  {
   "cell_type": "code",
   "execution_count": 6,
   "id": "6163fc6d",
   "metadata": {},
   "outputs": [
    {
     "name": "stdout",
     "output_type": "stream",
     "text": [
      "Element: cherry\n",
      "Set: {'banana', 'apple'}\n"
     ]
    }
   ],
   "source": [
    "fruits = {'apple', 'banana', 'cherry'}\n",
    "element = fruits.pop()  # Removes and returns a random element from the set\n",
    "print('Element:', element)\n",
    "print('Set:', fruits)"
   ]
  },
  {
   "cell_type": "markdown",
   "id": "7bd1c8af",
   "metadata": {},
   "source": [
    "Clearing the set"
   ]
  },
  {
   "cell_type": "code",
   "execution_count": 7,
   "id": "dbb0c8b6",
   "metadata": {},
   "outputs": [
    {
     "name": "stdout",
     "output_type": "stream",
     "text": [
      "After clear: set()\n"
     ]
    }
   ],
   "source": [
    "fruits = {'apple', 'banana', 'cherry'}\n",
    "fruits.clear()  # Removes all elements, resulting in an empty set\n",
    "print(\"After clear:\", fruits)"
   ]
  },
  {
   "cell_type": "markdown",
   "id": "7f177601",
   "metadata": {},
   "source": [
    "Update a set using another set"
   ]
  },
  {
   "cell_type": "code",
   "execution_count": 8,
   "id": "d81acde3",
   "metadata": {},
   "outputs": [
    {
     "name": "stdout",
     "output_type": "stream",
     "text": [
      "{'banana', 'grape', 'orange', 'apple'}\n"
     ]
    }
   ],
   "source": [
    "fruits = {'apple', 'banana'}\n",
    "fruits.update({'banana', 'orange', 'grape'})  # Duplicate 'banana' is ignored\n",
    "print(fruits)"
   ]
  },
  {
   "cell_type": "markdown",
   "id": "b98fdac6",
   "metadata": {},
   "source": [
    "Equivalent to"
   ]
  },
  {
   "cell_type": "code",
   "execution_count": 9,
   "id": "ac747af5",
   "metadata": {},
   "outputs": [
    {
     "name": "stdout",
     "output_type": "stream",
     "text": [
      "{'banana', 'grape', 'orange', 'apple'}\n"
     ]
    }
   ],
   "source": [
    "fruits = {'apple', 'banana'}\n",
    "fruits |= {'banana', 'orange', 'grape'}\n",
    "print(fruits)"
   ]
  },
  {
   "cell_type": "markdown",
   "id": "e6786aa2",
   "metadata": {},
   "source": [
    "Update a set using a list"
   ]
  },
  {
   "cell_type": "code",
   "execution_count": 10,
   "id": "9d53987b",
   "metadata": {},
   "outputs": [
    {
     "name": "stdout",
     "output_type": "stream",
     "text": [
      "{'grape', 'banana', 'orange', 'apple'}\n"
     ]
    }
   ],
   "source": [
    "fruits = {'apple', 'banana'}\n",
    "fruits.update(['banana', 'orange', 'grape'])  # Duplicate 'banana' is ignored\n",
    "print(fruits)"
   ]
  },
  {
   "cell_type": "markdown",
   "id": "0051623e",
   "metadata": {},
   "source": [
    "intersection_update a set using another set"
   ]
  },
  {
   "cell_type": "code",
   "execution_count": 11,
   "id": "5fc4c568",
   "metadata": {},
   "outputs": [
    {
     "name": "stdout",
     "output_type": "stream",
     "text": [
      "{'banana'}\n"
     ]
    }
   ],
   "source": [
    "fruits = {'apple', 'banana'}\n",
    "fruits.intersection_update({'banana', 'orange', 'grape'})\n",
    "print(fruits)"
   ]
  },
  {
   "cell_type": "markdown",
   "id": "cd3f7fed",
   "metadata": {},
   "source": [
    "Equivalent to &="
   ]
  },
  {
   "cell_type": "code",
   "execution_count": 12,
   "id": "df06bbb6",
   "metadata": {},
   "outputs": [
    {
     "name": "stdout",
     "output_type": "stream",
     "text": [
      "{'banana'}\n"
     ]
    }
   ],
   "source": [
    "fruits = {'apple', 'banana'}\n",
    "fruits &= {'banana', 'orange', 'grape'}\n",
    "print(fruits)"
   ]
  },
  {
   "cell_type": "markdown",
   "id": "98f03b5f",
   "metadata": {},
   "source": [
    "Update a set using a list"
   ]
  },
  {
   "cell_type": "code",
   "execution_count": 13,
   "id": "e674c9d7",
   "metadata": {},
   "outputs": [
    {
     "name": "stdout",
     "output_type": "stream",
     "text": [
      "{'banana'}\n"
     ]
    }
   ],
   "source": [
    "fruits = {'apple', 'banana'}\n",
    "fruits.intersection_update(['banana', 'orange', 'grape'])\n",
    "print(fruits)"
   ]
  },
  {
   "cell_type": "markdown",
   "id": "9a6da556",
   "metadata": {},
   "source": [
    "Attempting to use &= with a list"
   ]
  },
  {
   "cell_type": "code",
   "execution_count": 14,
   "id": "5efb1e70",
   "metadata": {},
   "outputs": [
    {
     "name": "stdout",
     "output_type": "stream",
     "text": [
      "Error: unsupported operand type(s) for &=: 'set' and 'list'\n"
     ]
    }
   ],
   "source": [
    "fruits = {'apple', 'banana'}\n",
    "try:\n",
    "    fruits &= ['banana', 'orange', 'grape']\n",
    "except TypeError as e:\n",
    "    print(\"Error:\", e)"
   ]
  },
  {
   "cell_type": "markdown",
   "id": "332638cb",
   "metadata": {},
   "source": [
    "Using difference_update with another set"
   ]
  },
  {
   "cell_type": "code",
   "execution_count": 15,
   "id": "80587c07",
   "metadata": {},
   "outputs": [
    {
     "name": "stdout",
     "output_type": "stream",
     "text": [
      "{'apple'}\n"
     ]
    }
   ],
   "source": [
    "fruits = {'apple', 'banana'}\n",
    "fruits.difference_update({'banana'})\n",
    "print(fruits)"
   ]
  },
  {
   "cell_type": "markdown",
   "id": "d40492e5",
   "metadata": {},
   "source": [
    "Using difference_update with a list"
   ]
  },
  {
   "cell_type": "code",
   "execution_count": 16,
   "id": "785052b1",
   "metadata": {},
   "outputs": [
    {
     "name": "stdout",
     "output_type": "stream",
     "text": [
      "{'apple'}\n"
     ]
    }
   ],
   "source": [
    "fruits = {'apple', 'banana'}\n",
    "fruits.difference_update(['banana'])\n",
    "print(fruits)"
   ]
  },
  {
   "cell_type": "markdown",
   "id": "d9e124f5",
   "metadata": {},
   "source": [
    "Correct use of -= with a set"
   ]
  },
  {
   "cell_type": "code",
   "execution_count": 17,
   "id": "a3b82b69",
   "metadata": {},
   "outputs": [
    {
     "name": "stdout",
     "output_type": "stream",
     "text": [
      "{'apple'}\n"
     ]
    }
   ],
   "source": [
    "fruits = {'apple', 'banana'}\n",
    "fruits -= {'banana'}\n",
    "print(fruits)"
   ]
  },
  {
   "cell_type": "markdown",
   "id": "d5f5a64e",
   "metadata": {},
   "source": [
    "Creating and accessing a dictionary"
   ]
  },
  {
   "cell_type": "code",
   "execution_count": 18,
   "id": "0f229854",
   "metadata": {},
   "outputs": [
    {
     "name": "stdout",
     "output_type": "stream",
     "text": [
      "Name: John Doe\n",
      "Age: 30\n"
     ]
    }
   ],
   "source": [
    "bio_data = {'name': 'John Doe', 'age': 30, 'occupation': 'Biologist'}\n",
    "# Accessing dictionary values\n",
    "print(\"Name:\", bio_data['name'])\n",
    "print(\"Age:\", bio_data.get('age'))  # Using get() for safe access"
   ]
  },
  {
   "cell_type": "markdown",
   "id": "21f840f3",
   "metadata": {},
   "source": [
    "Using symmetric_difference_update() with a set"
   ]
  },
  {
   "cell_type": "code",
   "execution_count": 19,
   "id": "78de1f0e",
   "metadata": {},
   "outputs": [
    {
     "name": "stdout",
     "output_type": "stream",
     "text": [
      "{'cherry', 'orange'}\n"
     ]
    }
   ],
   "source": [
    "fruits = {'apple', 'banana', 'cherry'}  # Define the original set\n",
    "# Update the set using symmetric_difference_update with another set\n",
    "fruits.symmetric_difference_update({'banana', 'orange', 'apple'})\n",
    "print(fruits)"
   ]
  },
  {
   "cell_type": "markdown",
   "id": "b6d52999",
   "metadata": {},
   "source": [
    "Equivalent operation using ^= operator"
   ]
  },
  {
   "cell_type": "code",
   "execution_count": 20,
   "id": "e9470a73",
   "metadata": {},
   "outputs": [
    {
     "name": "stdout",
     "output_type": "stream",
     "text": [
      "{'cherry', 'orange'}\n"
     ]
    }
   ],
   "source": [
    "fruits = {'apple', 'banana', 'cherry'} # Reset fruits set\n",
    "# Using ^= operator with another set\n",
    "fruits ^= {'banana', 'orange', 'apple'}\n",
    "print(fruits)"
   ]
  },
  {
   "cell_type": "markdown",
   "id": "c1d1659f",
   "metadata": {},
   "source": [
    "Using symmetric_difference_update() with a list"
   ]
  },
  {
   "cell_type": "code",
   "execution_count": 21,
   "id": "d770280a",
   "metadata": {},
   "outputs": [
    {
     "name": "stdout",
     "output_type": "stream",
     "text": [
      "{'cherry', 'orange', 'apple'}\n"
     ]
    }
   ],
   "source": [
    "fruits = {'apple', 'banana', 'cherry'} # Reset fruits set\n",
    "# Update using a list\n",
    "fruits.symmetric_difference_update(['banana', 'orange'])\n",
    "print(fruits)"
   ]
  }
 ],
 "metadata": {
  "kernelspec": {
   "display_name": "Python 3 (ipykernel)",
   "language": "python",
   "name": "python3"
  },
  "language_info": {
   "codemirror_mode": {
    "name": "ipython",
    "version": 3
   },
   "file_extension": ".py",
   "mimetype": "text/x-python",
   "name": "python",
   "nbconvert_exporter": "python",
   "pygments_lexer": "ipython3",
   "version": "3.11.9"
  }
 },
 "nbformat": 4,
 "nbformat_minor": 5
}
