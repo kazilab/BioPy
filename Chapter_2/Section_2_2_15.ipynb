{
 "cells": [
  {
   "cell_type": "markdown",
   "id": "782e6274",
   "metadata": {},
   "source": [
    "# Chapter 2"
   ]
  },
  {
   "cell_type": "markdown",
   "id": "7c0fb17a",
   "metadata": {},
   "source": [
    "# 2.2.15. Complex data types - Dictionaries"
   ]
  },
  {
   "cell_type": "markdown",
   "id": "11581d34",
   "metadata": {},
   "source": [
    "Create a dictionary"
   ]
  },
  {
   "cell_type": "code",
   "execution_count": 1,
   "id": "44506f1a",
   "metadata": {},
   "outputs": [],
   "source": [
    "biodata = {'name': 'John Doe', 'age': 30, 'occupation': 'Biologist'}"
   ]
  },
  {
   "cell_type": "markdown",
   "id": "da44fd6f",
   "metadata": {},
   "source": [
    "Accessing values from a dictionary"
   ]
  },
  {
   "cell_type": "code",
   "execution_count": 2,
   "id": "3e9fcec3",
   "metadata": {},
   "outputs": [
    {
     "name": "stdout",
     "output_type": "stream",
     "text": [
      "Name: John Doe\n"
     ]
    }
   ],
   "source": [
    "print(\"Name:\", biodata['name'])"
   ]
  },
  {
   "cell_type": "markdown",
   "id": "79384f9a",
   "metadata": {},
   "source": [
    "Add or modify values in a dictionary"
   ]
  },
  {
   "cell_type": "code",
   "execution_count": 3,
   "id": "f16d458e",
   "metadata": {},
   "outputs": [
    {
     "name": "stdout",
     "output_type": "stream",
     "text": [
      "Biodata: {'name': 'John Doe', 'age': 31, 'occupation': 'Biologist', 'city': 'New York'}\n",
      "Age: 31\n"
     ]
    }
   ],
   "source": [
    "biodata = {'name': 'John Doe', 'age': 30, 'occupation': 'Biologist'}\n",
    "biodata['city'] = 'New York'  # Adds a new key-value pair\n",
    "biodata['age'] = 31  # Updates the existing key 'age'\n",
    "print(\"Biodata:\", biodata)\n",
    "print(\"Age:\", biodata['age'])"
   ]
  },
  {
   "cell_type": "code",
   "execution_count": null,
   "id": "7f792bbd",
   "metadata": {},
   "outputs": [],
   "source": []
  }
 ],
 "metadata": {
  "kernelspec": {
   "display_name": "Python 3 (ipykernel)",
   "language": "python",
   "name": "python3"
  },
  "language_info": {
   "codemirror_mode": {
    "name": "ipython",
    "version": 3
   },
   "file_extension": ".py",
   "mimetype": "text/x-python",
   "name": "python",
   "nbconvert_exporter": "python",
   "pygments_lexer": "ipython3",
   "version": "3.11.9"
  }
 },
 "nbformat": 4,
 "nbformat_minor": 5
}
