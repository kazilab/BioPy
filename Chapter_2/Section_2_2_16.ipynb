{
 "cells": [
  {
   "cell_type": "markdown",
   "id": "782e6274",
   "metadata": {},
   "source": [
    "# Chapter 2"
   ]
  },
  {
   "cell_type": "markdown",
   "id": "7c0fb17a",
   "metadata": {},
   "source": [
    "# 2.2.16. Complex data types - Dictionary methods"
   ]
  },
  {
   "attachments": {},
   "cell_type": "markdown",
   "id": "11581d34",
   "metadata": {},
   "source": [
    "Clearing all items in a dictionary"
   ]
  },
  {
   "cell_type": "code",
   "execution_count": 1,
   "id": "44506f1a",
   "metadata": {},
   "outputs": [
    {
     "name": "stdout",
     "output_type": "stream",
     "text": [
      "{}\n"
     ]
    }
   ],
   "source": [
    "biodata = {'name': 'John Doe', 'age': 30, 'occupation': 'Biologist'}\n",
    "biodata.clear() \n",
    "print(biodata)"
   ]
  },
  {
   "cell_type": "markdown",
   "id": "da44fd6f",
   "metadata": {},
   "source": [
    "To copy all items to a new dictionary"
   ]
  },
  {
   "cell_type": "code",
   "execution_count": 2,
   "id": "3e9fcec3",
   "metadata": {},
   "outputs": [
    {
     "name": "stdout",
     "output_type": "stream",
     "text": [
      "New dictionary: {'name': 'John Doe', 'age': 30, 'occupation': 'Biologist'}\n"
     ]
    }
   ],
   "source": [
    "biodata = {'name': 'John Doe', 'age': 30, 'occupation': 'Biologist'}\n",
    "copy_biodata = biodata.copy() \n",
    "print(\"New dictionary:\", copy_biodata)  "
   ]
  },
  {
   "cell_type": "markdown",
   "id": "1381de4b",
   "metadata": {},
   "source": [
    "Create a new dictionary with same initial values"
   ]
  },
  {
   "cell_type": "code",
   "execution_count": 3,
   "id": "32997f82",
   "metadata": {},
   "outputs": [
    {
     "name": "stdout",
     "output_type": "stream",
     "text": [
      "New dictionary: {'name': 'None', 'age': 'None', 'occupation': 'None'}\n"
     ]
    }
   ],
   "source": [
    "keys = ['name', 'age', 'occupation']\n",
    "new_dict = dict.fromkeys(keys, \"None\")\n",
    "print(\"New dictionary:\", new_dict)  "
   ]
  },
  {
   "attachments": {},
   "cell_type": "markdown",
   "id": "79384f9a",
   "metadata": {},
   "source": [
    "Retrieve a specific item using a key"
   ]
  },
  {
   "cell_type": "code",
   "execution_count": 4,
   "id": "f16d458e",
   "metadata": {},
   "outputs": [
    {
     "name": "stdout",
     "output_type": "stream",
     "text": [
      "Age: 30\n"
     ]
    }
   ],
   "source": [
    "biodata = {'name': 'John Doe', 'age': 30, 'occupation': 'Biologist'}\n",
    "print(\"Age:\", biodata.get('age'))"
   ]
  },
  {
   "cell_type": "markdown",
   "id": "a67d8ffe",
   "metadata": {},
   "source": [
    "View all items in a dictionary using items() methods"
   ]
  },
  {
   "cell_type": "code",
   "execution_count": 5,
   "id": "4d9645a8",
   "metadata": {},
   "outputs": [
    {
     "name": "stdout",
     "output_type": "stream",
     "text": [
      "All items: [('name', 'John Doe'), ('age', 30), ('occupation', 'Biologist')]\n"
     ]
    }
   ],
   "source": [
    "biodata = {'name': 'John Doe', 'age': 30, 'occupation': 'Biologist'}\n",
    "print(\"All items:\", list(biodata.items()))  "
   ]
  },
  {
   "cell_type": "markdown",
   "id": "7933c663",
   "metadata": {},
   "source": [
    "Retrieve all keys in a dictionary using keys() method"
   ]
  },
  {
   "cell_type": "code",
   "execution_count": 6,
   "id": "02da9a1c",
   "metadata": {},
   "outputs": [
    {
     "name": "stdout",
     "output_type": "stream",
     "text": [
      "All keys: ['name', 'age', 'occupation']\n"
     ]
    }
   ],
   "source": [
    "biodata = {'name': 'John Doe', 'age': 30, 'occupation': 'Biologist'}\n",
    "print(\"All keys:\", list(biodata.keys()))  "
   ]
  },
  {
   "cell_type": "markdown",
   "id": "fd948fcb",
   "metadata": {},
   "source": [
    "Getting all values from a dictionary by using value() method."
   ]
  },
  {
   "cell_type": "code",
   "execution_count": 7,
   "id": "eae5b9ed",
   "metadata": {},
   "outputs": [
    {
     "name": "stdout",
     "output_type": "stream",
     "text": [
      "All values: ['John Doe', 30, 'Biologist']\n"
     ]
    }
   ],
   "source": [
    "biodata = {'name': 'John Doe', 'age': 30, 'occupation': 'Biologist'}\n",
    "print(\"All values:\", list(biodata.values()))  "
   ]
  },
  {
   "cell_type": "markdown",
   "id": "0761a4bd",
   "metadata": {},
   "source": [
    "Removing and returning a value using a key"
   ]
  },
  {
   "cell_type": "code",
   "execution_count": 8,
   "id": "9343e2aa",
   "metadata": {},
   "outputs": [
    {
     "name": "stdout",
     "output_type": "stream",
     "text": [
      "Value removed: Biologist\n",
      "Current dictionary: {'name': 'John Doe', 'age': 30}\n"
     ]
    }
   ],
   "source": [
    "biodata = {'name': 'John Doe', 'age': 30, 'occupation': 'Biologist'}\n",
    "print(\"Value removed:\", biodata.pop('occupation'))  \n",
    "print(\"Current dictionary:\", biodata)  "
   ]
  },
  {
   "cell_type": "markdown",
   "id": "213bdd58",
   "metadata": {},
   "source": [
    "Inserting a default value if key not present"
   ]
  },
  {
   "cell_type": "code",
   "execution_count": 9,
   "id": "192d46e6",
   "metadata": {},
   "outputs": [
    {
     "name": "stdout",
     "output_type": "stream",
     "text": [
      "New data: Chemist\n",
      "Updated dictionary: {'name': 'John Doe', 'age': 30, 'occupation': 'Chemist'}\n"
     ]
    }
   ],
   "source": [
    "biodata = {'name': 'John Doe', 'age': 30}\n",
    "print(\"New data:\", biodata.setdefault('occupation', 'Chemist')) \n",
    "print(\"Updated dictionary:\", biodata) "
   ]
  },
  {
   "cell_type": "markdown",
   "id": "5472277e",
   "metadata": {},
   "source": [
    "Removing and returning the last item"
   ]
  },
  {
   "cell_type": "code",
   "execution_count": 10,
   "id": "81f6bc3c",
   "metadata": {},
   "outputs": [
    {
     "name": "stdout",
     "output_type": "stream",
     "text": [
      "Removed item: ('occupation', 'Chemist')\n",
      "Current dictionary: {'name': 'John Doe', 'age': 30}\n"
     ]
    }
   ],
   "source": [
    "biodata = {'name': 'John Doe', 'age': 30, 'occupation': 'Chemist'}\n",
    "print(\"Removed item:\", biodata.popitem())\n",
    "print(\"Current dictionary:\", biodata)"
   ]
  },
  {
   "cell_type": "markdown",
   "id": "132552f1",
   "metadata": {},
   "source": [
    "Updating a dictionary using another dictionary"
   ]
  },
  {
   "cell_type": "code",
   "execution_count": 11,
   "id": "0b839fd0",
   "metadata": {},
   "outputs": [
    {
     "name": "stdout",
     "output_type": "stream",
     "text": [
      "Updated dictionary: {'name': 'John Doe', 'age': 40, 'occupation': 'Biologist', 'education': 'MS'}\n"
     ]
    }
   ],
   "source": [
    "biodata = {'name': 'John Doe', 'age': 30, 'occupation': 'Biologist'}\n",
    "biodata.update({'age': 40, 'education': 'MS'})\n",
    "print(\"Updated dictionary:\", biodata)"
   ]
  },
  {
   "cell_type": "code",
   "execution_count": null,
   "id": "5c90260b",
   "metadata": {},
   "outputs": [],
   "source": []
  }
 ],
 "metadata": {
  "kernelspec": {
   "display_name": "Python 3 (ipykernel)",
   "language": "python",
   "name": "python3"
  },
  "language_info": {
   "codemirror_mode": {
    "name": "ipython",
    "version": 3
   },
   "file_extension": ".py",
   "mimetype": "text/x-python",
   "name": "python",
   "nbconvert_exporter": "python",
   "pygments_lexer": "ipython3",
   "version": "3.11.9"
  }
 },
 "nbformat": 4,
 "nbformat_minor": 5
}
