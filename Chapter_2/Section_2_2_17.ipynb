{
 "cells": [
  {
   "cell_type": "markdown",
   "id": "782e6274",
   "metadata": {},
   "source": [
    "# Chapter 2"
   ]
  },
  {
   "attachments": {},
   "cell_type": "markdown",
   "id": "7c0fb17a",
   "metadata": {},
   "source": [
    "# 2.2.17. Complex data types - Iterating over dictionaries"
   ]
  },
  {
   "attachments": {},
   "cell_type": "markdown",
   "id": "11581d34",
   "metadata": {},
   "source": [
    "Iterating over keys"
   ]
  },
  {
   "cell_type": "code",
   "execution_count": 1,
   "id": "44506f1a",
   "metadata": {},
   "outputs": [
    {
     "name": "stdout",
     "output_type": "stream",
     "text": [
      "name\n",
      "age\n",
      "occupation\n"
     ]
    }
   ],
   "source": [
    "biodata = {'name': 'John Doe', 'age': 30, 'occupation': 'Biologist'}\n",
    "for key in biodata:\n",
    "    print(key)"
   ]
  },
  {
   "attachments": {},
   "cell_type": "markdown",
   "id": "da44fd6f",
   "metadata": {},
   "source": [
    "Iterating over values"
   ]
  },
  {
   "cell_type": "code",
   "execution_count": 2,
   "id": "3e9fcec3",
   "metadata": {},
   "outputs": [
    {
     "name": "stdout",
     "output_type": "stream",
     "text": [
      "John Doe\n",
      "30\n",
      "Biologist\n"
     ]
    }
   ],
   "source": [
    "biodata = {'name': 'John Doe', 'age': 30, 'occupation': 'Biologist'}\n",
    "for value in biodata.values():\n",
    "    print(value)"
   ]
  },
  {
   "attachments": {},
   "cell_type": "markdown",
   "id": "1381de4b",
   "metadata": {},
   "source": [
    "Iterating over key-value pairs"
   ]
  },
  {
   "cell_type": "code",
   "execution_count": 3,
   "id": "32997f82",
   "metadata": {},
   "outputs": [
    {
     "name": "stdout",
     "output_type": "stream",
     "text": [
      "name: John Doe\n",
      "age: 30\n",
      "occupation: Biologist\n"
     ]
    }
   ],
   "source": [
    "biodata = {'name': 'John Doe', 'age': 30, 'occupation': 'Biologist'}\n",
    "for key, value in biodata.items():\n",
    "    print(f\"{key}: {value}\") "
   ]
  },
  {
   "cell_type": "code",
   "execution_count": null,
   "id": "5c90260b",
   "metadata": {},
   "outputs": [],
   "source": []
  }
 ],
 "metadata": {
  "kernelspec": {
   "display_name": "Python 3 (ipykernel)",
   "language": "python",
   "name": "python3"
  },
  "language_info": {
   "codemirror_mode": {
    "name": "ipython",
    "version": 3
   },
   "file_extension": ".py",
   "mimetype": "text/x-python",
   "name": "python",
   "nbconvert_exporter": "python",
   "pygments_lexer": "ipython3",
   "version": "3.11.9"
  }
 },
 "nbformat": 4,
 "nbformat_minor": 5
}
