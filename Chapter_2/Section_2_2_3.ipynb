{
 "cells": [
  {
   "cell_type": "markdown",
   "id": "782e6274",
   "metadata": {},
   "source": [
    "# Chapter 2"
   ]
  },
  {
   "cell_type": "markdown",
   "id": "66387e5a",
   "metadata": {},
   "source": [
    "# 2.2.2. Basic Data Types"
   ]
  },
  {
   "cell_type": "markdown",
   "id": "ca3d1eba",
   "metadata": {},
   "source": [
    "B. Strings\n",
    "Basics of String Manipulation"
   ]
  },
  {
   "cell_type": "code",
   "execution_count": null,
   "id": "cb889cd2",
   "metadata": {},
   "outputs": [],
   "source": [
    "# Example of string concatenation:\n",
    "string1 = \"Hello\"\n",
    "string2 = \"World\"\n",
    "# Concatenating strings\n",
    "concatenated_string = string1 + \" \" + string2\n",
    "print(concatenated_string)"
   ]
  },
  {
   "cell_type": "code",
   "execution_count": null,
   "id": "a5994c02",
   "metadata": {},
   "outputs": [],
   "source": [
    "# Example of string repetition:\n",
    "string = \"Repeat\"\n",
    "# Repeating the string 3 times\n",
    "repeated_string = string * 3\n",
    "print(repeated_string)"
   ]
  },
  {
   "cell_type": "code",
   "execution_count": null,
   "id": "515759e8",
   "metadata": {},
   "outputs": [],
   "source": [
    "# Example of string indexing:\n",
    "string = \"Python\"\n",
    "# Accessing characters by index\n",
    "first_character = string[0]  # 'P'\n",
    "third_character = string[2]  # 't'\n",
    "print(\"First character:\", first_character)\n",
    "print(\"Third character:\", third_character)"
   ]
  },
  {
   "cell_type": "code",
   "execution_count": null,
   "id": "16b9dcdc",
   "metadata": {},
   "outputs": [],
   "source": [
    "# Negative indexing example:\n",
    "string = \"Python\"\n",
    "last_character = string[-1]  # 'n'\n",
    "second_last_character = string[-2]  # 'o'\n",
    "print(\"Last character:\", last_character)\n",
    "print(\"Second last character:\", second_last_character)"
   ]
  },
  {
   "cell_type": "code",
   "execution_count": null,
   "id": "af438180",
   "metadata": {},
   "outputs": [],
   "source": [
    "# Example of string slicing:\n",
    "string = \"Python\"\n",
    "substring = string[1:4]  # \"yth\" (characters at indices 1, 2, and 3)\n",
    "print(\"Substring from index 1 to 3:\", substring)"
   ]
  },
  {
   "cell_type": "code",
   "execution_count": null,
   "id": "1d652648",
   "metadata": {},
   "outputs": [],
   "source": [
    "# Advanced slicing examples:\n",
    "string = \"Python\"\n",
    "every_second_character = string[::2]  # \"Pto\" (every second character)\n",
    "reverse_string = string[::-1]  # \"nohtyP\" (reverses the string)\n",
    "print(\"Every second character:\", every_second_character)\n",
    "print(\"Reversed string:\", reverse_string)"
   ]
  },
  {
   "cell_type": "markdown",
   "id": "79a3679d",
   "metadata": {},
   "source": [
    "Common String Methods"
   ]
  },
  {
   "cell_type": "code",
   "execution_count": null,
   "id": "a9f8a4da",
   "metadata": {},
   "outputs": [],
   "source": [
    "# UPPER\n",
    "string = \"Hello World\"\n",
    "uppercase_string = string.upper()\n",
    "print(uppercase_string)  "
   ]
  },
  {
   "cell_type": "code",
   "execution_count": null,
   "id": "011a8f5a",
   "metadata": {},
   "outputs": [],
   "source": [
    "# Lower\n",
    "string = \"Hello World\"\n",
    "lowercase_string = string.lower()\n",
    "print(lowercase_string) "
   ]
  },
  {
   "cell_type": "code",
   "execution_count": null,
   "id": "73b7801e",
   "metadata": {},
   "outputs": [],
   "source": [
    "# Strip\n",
    "string = \"   Hello World   \"\n",
    "stripped_string = string.strip()\n",
    "print(stripped_string)"
   ]
  },
  {
   "cell_type": "code",
   "execution_count": null,
   "id": "17be210c",
   "metadata": {},
   "outputs": [],
   "source": [
    "# Replace\n",
    "string = \"Hello World\"\n",
    "replaced_string = string.replace(\"World\", \"Python\")\n",
    "print(replaced_string)"
   ]
  },
  {
   "cell_type": "code",
   "execution_count": null,
   "id": "a9caf34d",
   "metadata": {},
   "outputs": [],
   "source": [
    "# Split\n",
    "string = \"Hello World\"\n",
    "split_list = string.split()\n",
    "print(split_list)"
   ]
  },
  {
   "cell_type": "code",
   "execution_count": null,
   "id": "4f9f9da2",
   "metadata": {},
   "outputs": [],
   "source": [
    "string = \"apple,banana,cherry\"\n",
    "split_list = string.split(',')\n",
    "print(split_list)  # Output: ['apple', 'banana', 'cherry']"
   ]
  },
  {
   "cell_type": "code",
   "execution_count": null,
   "id": "02aaedb8",
   "metadata": {},
   "outputs": [],
   "source": [
    "# Example with the format() method\n",
    "name = \"Alice\"\n",
    "greeting = \"Hello, {}!\".format(name)\n",
    "print(greeting)\n",
    "# More complex example with multiple placeholders\n",
    "age = 30\n",
    "intro = \"My name is {} and I am {} years old.\".format(name, age)\n",
    "print(intro)\n",
    "# Formatting with positional arguments\n",
    "product = \"book\"\n",
    "price = 19.99\n",
    "order = \"I bought a {0} for ${1:.2f}. It's a great {0}!\".format(product, price)\n",
    "print(order)"
   ]
  },
  {
   "cell_type": "code",
   "execution_count": null,
   "id": "bb043a44",
   "metadata": {},
   "outputs": [],
   "source": [
    "# Basic example with f-strings\n",
    "greeting_f = f\"Hello, {name}!\"\n",
    "print(greeting_f)\n",
    "# Complex example with multiple variables\n",
    "intro_f = f\"My name is {name} and I am {age} years old.\"\n",
    "print(intro_f)\n",
    "# Inline expressions within f-strings\n",
    "hours = 7\n",
    "minutes = 45\n",
    "time_message = f\"The current time is {hours}:{minutes:02d} AM.\"\n",
    "print(time_message)\n",
    "# Using f-strings with calculations\n",
    "total_cost = 150.75\n",
    "discount = 20.25\n",
    "final_price = f\"After a discount of ${discount}, the total cost is ${total_cost - discount:.2f}.\"\n",
    "print(final_price)"
   ]
  },
  {
   "cell_type": "code",
   "execution_count": null,
   "id": "554fd470",
   "metadata": {},
   "outputs": [],
   "source": [
    "# Boolean values from comparisons\n",
    "a = 5\n",
    "b = 3\n",
    "print(a > b)  # True, since 5 is greater than 3\n",
    "# Numerical treatment of True and False\n",
    "print(True + True)  # 2 (True is treated as 1)\n",
    "print(True * 10)    # 10 (True is treated as 1)\n",
    "print(False * 10)   # 0 (False is treated as 0)\n",
    "# Non-zero/non-null values as True\n",
    "print(bool(10))  # True, non-zero number\n",
    "print(bool(\"Python\"))  # True, non-empty string\n",
    "# Zero, None, empty collections as False\n",
    "print(bool(0))  # False, zero is treated as False\n",
    "print(bool(None))  # False, None is treated as False\n",
    "print(bool([]))  # False, empty list is treated as False\n",
    "# Boolean expressions with logical operators\n",
    "print(True and False)  # False\n",
    "print(True or False)  # True\n",
    "print(not True)  # False"
   ]
  }
 ],
 "metadata": {
  "kernelspec": {
   "display_name": "Python 3 (ipykernel)",
   "language": "python",
   "name": "python3"
  },
  "language_info": {
   "codemirror_mode": {
    "name": "ipython",
    "version": 3
   },
   "file_extension": ".py",
   "mimetype": "text/x-python",
   "name": "python",
   "nbconvert_exporter": "python",
   "pygments_lexer": "ipython3",
   "version": "3.11.5"
  }
 },
 "nbformat": 4,
 "nbformat_minor": 5
}
