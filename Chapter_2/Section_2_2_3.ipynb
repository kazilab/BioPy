{
 "cells": [
  {
   "cell_type": "markdown",
   "id": "782e6274",
   "metadata": {},
   "source": [
    "# Chapter 2"
   ]
  },
  {
   "cell_type": "markdown",
   "id": "66387e5a",
   "metadata": {},
   "source": [
    "# 2.2.3. Basics of string manipulations"
   ]
  },
  {
   "cell_type": "markdown",
   "id": "c4fc4e53",
   "metadata": {},
   "source": [
    "Concatenation is used to join multiple strings."
   ]
  },
  {
   "cell_type": "code",
   "execution_count": 1,
   "id": "cb889cd2",
   "metadata": {},
   "outputs": [
    {
     "name": "stdout",
     "output_type": "stream",
     "text": [
      "String concatenation!\n"
     ]
    }
   ],
   "source": [
    "string1 = \"String\"                 # Define the first string\n",
    "string2 = \"concatenation!\"         # Define the second string\n",
    "\n",
    "# Concatenating strings by adding a space between them\n",
    "concatenated_string = string1 + \" \" + string2\n",
    "\n",
    "# Print the concatenated string\n",
    "print(concatenated_string)"
   ]
  },
  {
   "cell_type": "markdown",
   "id": "b044a06e",
   "metadata": {},
   "source": [
    "Repetition method for creating repeated text."
   ]
  },
  {
   "cell_type": "code",
   "execution_count": 2,
   "id": "aaf86327",
   "metadata": {},
   "outputs": [
    {
     "name": "stdout",
     "output_type": "stream",
     "text": [
      "RepeatRepeatRepeat\n"
     ]
    }
   ],
   "source": [
    "string = \"Repeat\"                 # Define the string to be repeated\n",
    "\n",
    "# Repeating the string 3 times\n",
    "repeated_string = string * 3\n",
    "\n",
    "# Print the repeated string\n",
    "print(repeated_string)"
   ]
  },
  {
   "cell_type": "markdown",
   "id": "e6c2e7e4",
   "metadata": {},
   "source": [
    "Indexing"
   ]
  },
  {
   "cell_type": "code",
   "execution_count": 3,
   "id": "4c8a0397",
   "metadata": {},
   "outputs": [
    {
     "name": "stdout",
     "output_type": "stream",
     "text": [
      "First character: P\n",
      "Third character: t\n"
     ]
    }
   ],
   "source": [
    "string = \"Python\"                 # Define the string\n",
    "\n",
    "# Accessing characters by index\n",
    "first_character = string[0]       # Access the first character 'P'\n",
    "third_character = string[2]       # Access the third character 't'\n",
    "\n",
    "# Print the accessed characters with descriptive messages\n",
    "print(\"First character:\", first_character)\n",
    "print(\"Third character:\", third_character)"
   ]
  },
  {
   "cell_type": "markdown",
   "id": "c9bbc7e9",
   "metadata": {},
   "source": [
    "Negative indexing"
   ]
  },
  {
   "cell_type": "code",
   "execution_count": 4,
   "id": "54f32fb1",
   "metadata": {},
   "outputs": [
    {
     "name": "stdout",
     "output_type": "stream",
     "text": [
      "Last character: n\n",
      "Second last character: o\n"
     ]
    }
   ],
   "source": [
    "string = \"Python\"                   # Define the string\n",
    "# Accessing characters using negative indices\n",
    "last_character = string[-1]         # Access the last character 'n'\n",
    "second_last_character = string[-2]  # Access the second-to-last character 'o'\n",
    "\n",
    "# Print the accessed characters with descriptive messages\n",
    "print(\"Last character:\", last_character)\n",
    "print(\"Second last character:\", second_last_character)  "
   ]
  },
  {
   "cell_type": "markdown",
   "id": "10a71eca",
   "metadata": {},
   "source": [
    "String slicing"
   ]
  },
  {
   "cell_type": "code",
   "execution_count": 5,
   "id": "3004e270",
   "metadata": {},
   "outputs": [
    {
     "name": "stdout",
     "output_type": "stream",
     "text": [
      "Substring: yth\n"
     ]
    }
   ],
   "source": [
    "string = \"Python\"           # Define the string\n",
    "\n",
    "# Slicing the string to get a substring\n",
    "substring = string[1:4]     # Extracts \"yth\" from \"Python\"\n",
    "\n",
    "# Print the sliced substring with a descriptive message\n",
    "print(\"Substring:\", substring)"
   ]
  },
  {
   "cell_type": "markdown",
   "id": "8616bf47",
   "metadata": {},
   "source": [
    "Advanced slicing"
   ]
  },
  {
   "cell_type": "code",
   "execution_count": 6,
   "id": "42f512f9",
   "metadata": {},
   "outputs": [
    {
     "name": "stdout",
     "output_type": "stream",
     "text": [
      "Every second character: Pto\n",
      "Reversed string: nohtyP\n"
     ]
    }
   ],
   "source": [
    "string = \"Python\"            # Define the string\n",
    "\n",
    "# Slicing the string to get every second character\n",
    "every_second_character = string[::2]  # \"Pto\" (every second character)\n",
    "\n",
    "# Reversing the string using slicing\n",
    "reverse_string = string[::-1]  # \"nohtyP\" (reverses the string)\n",
    "\n",
    "# Print the results of the slicing operations with descriptive messages\n",
    "print(\"Every second character:\", every_second_character)  \n",
    "print(\"Reversed string:\", reverse_string)"
   ]
  },
  {
   "cell_type": "markdown",
   "id": "79a3679d",
   "metadata": {},
   "source": [
    "Common string methods - UPPER"
   ]
  },
  {
   "cell_type": "code",
   "execution_count": 7,
   "id": "a9f8a4da",
   "metadata": {},
   "outputs": [
    {
     "name": "stdout",
     "output_type": "stream",
     "text": [
      "LEARNING PYTHON IS FUN\n"
     ]
    }
   ],
   "source": [
    "string = \"Learning Python is fun\"     # Define the initial string\n",
    "# Using the .upper() method to convert the entire string to uppercase\n",
    "uppercase_string = string.upper()\n",
    "# Print the converted uppercase string\n",
    "print(uppercase_string) "
   ]
  },
  {
   "cell_type": "markdown",
   "id": "f556f6d6",
   "metadata": {},
   "source": [
    "Common string methods - lower"
   ]
  },
  {
   "cell_type": "code",
   "execution_count": 8,
   "id": "011a8f5a",
   "metadata": {},
   "outputs": [
    {
     "name": "stdout",
     "output_type": "stream",
     "text": [
      "learning python is fun\n"
     ]
    }
   ],
   "source": [
    "string = \"Learning Python is fun\"  # Define the initial string\n",
    "# Using the .lower() method to convert the entire string to lowercase\n",
    "lowercase_string = string.lower()\n",
    "# Print the converted lowercase string\n",
    "print(lowercase_string) "
   ]
  },
  {
   "cell_type": "markdown",
   "id": "934179c5",
   "metadata": {},
   "source": [
    "Common string methods - Strip"
   ]
  },
  {
   "cell_type": "code",
   "execution_count": 9,
   "id": "73b7801e",
   "metadata": {},
   "outputs": [
    {
     "name": "stdout",
     "output_type": "stream",
     "text": [
      "Learning Python is fun\n"
     ]
    }
   ],
   "source": [
    "string = \"   Learning Python is fun   \"  # Define the initial string with extra spaces\n",
    "# Using the .strip() method to remove all leading and trailing spaces\n",
    "stripped_string = string.strip()\n",
    "# Print the string after stripping whitespace\n",
    "print(stripped_string)"
   ]
  },
  {
   "cell_type": "markdown",
   "id": "068dbdfa",
   "metadata": {},
   "source": [
    "Common string methods - Replace"
   ]
  },
  {
   "cell_type": "code",
   "execution_count": 10,
   "id": "17be210c",
   "metadata": {},
   "outputs": [
    {
     "name": "stdout",
     "output_type": "stream",
     "text": [
      "Learning Programming is fun\n"
     ]
    }
   ],
   "source": [
    "string = \"Learning Python is fun\"\n",
    "# Replace the substring 'Python' with 'Programming'\n",
    "replaced_string = string.replace(\"Python\", \"Programming\")\n",
    "# Print the string after replacement\n",
    "print(replaced_string)"
   ]
  },
  {
   "cell_type": "markdown",
   "id": "33f14a40",
   "metadata": {},
   "source": [
    "Common string methods - split"
   ]
  },
  {
   "cell_type": "code",
   "execution_count": 11,
   "id": "a9caf34d",
   "metadata": {},
   "outputs": [
    {
     "name": "stdout",
     "output_type": "stream",
     "text": [
      "['Learning', 'Python', 'is', 'fun']\n"
     ]
    }
   ],
   "source": [
    "string = \"Learning Python is fun\"  # Define the initial string\n",
    "# Using the .split() method without specifying a delimiter to split the string by whitespace\n",
    "split_list = string.split()\n",
    "# Print the list of words\n",
    "print(split_list)"
   ]
  },
  {
   "cell_type": "markdown",
   "id": "f6a705cb",
   "metadata": {},
   "source": [
    "Common string methods - split"
   ]
  },
  {
   "cell_type": "code",
   "execution_count": 12,
   "id": "4f9f9da2",
   "metadata": {},
   "outputs": [
    {
     "name": "stdout",
     "output_type": "stream",
     "text": [
      "['apple', 'banana', 'cherry']\n"
     ]
    }
   ],
   "source": [
    "# Define the initial string containing comma-separated items\n",
    "string = \"apple,banana,cherry\"  \n",
    "\n",
    "# Using the .split() method with ',' as the delimiter\n",
    "split_list = string.split(',') \n",
    "# Print the list of separated words\n",
    "print(split_list)"
   ]
  },
  {
   "cell_type": "markdown",
   "id": "a75e059f",
   "metadata": {},
   "source": [
    "Example with the format() method"
   ]
  },
  {
   "cell_type": "code",
   "execution_count": 13,
   "id": "55960e21",
   "metadata": {},
   "outputs": [
    {
     "name": "stdout",
     "output_type": "stream",
     "text": [
      "Hello, Jerry!\n"
     ]
    }
   ],
   "source": [
    "# Basic usage of the format() method\n",
    "name = \"Jerry\"\n",
    "greeting = \"Hello, {}!\".format(name)  # Substitute {} with the value of 'name'\n",
    "print(greeting)"
   ]
  },
  {
   "cell_type": "code",
   "execution_count": 14,
   "id": "d0f5a356",
   "metadata": {},
   "outputs": [
    {
     "name": "stdout",
     "output_type": "stream",
     "text": [
      "My name is Jerry and I am 30 years old.\n"
     ]
    }
   ],
   "source": [
    "# More complex example with multiple placeholders\n",
    "name = \"Jerry\"\n",
    "age = 30\n",
    "# Substitute the first {} with 'name' and the second with 'age'\n",
    "intro = \"My name is {} and I am {} years old.\".format(name, age)\n",
    "print(intro)"
   ]
  },
  {
   "cell_type": "code",
   "execution_count": 15,
   "id": "a5c82331",
   "metadata": {},
   "outputs": [
    {
     "name": "stdout",
     "output_type": "stream",
     "text": [
      "I bought a book for $19.99. It's a great book!\n"
     ]
    }
   ],
   "source": [
    "# Formatting with positional arguments\n",
    "product = \"book\"\n",
    "price = 19.99\n",
    "# Using positional arguments to format strings.\n",
    "# {0} is reused, {1:.2f} formats the price to 2 decimal places.\n",
    "order = \"I bought a {0} for ${1:.2f}. It's a great {0}!\".format(product, price)\n",
    "print(order)"
   ]
  },
  {
   "cell_type": "markdown",
   "id": "c89b08f8",
   "metadata": {},
   "source": [
    "Basic example with f-strings"
   ]
  },
  {
   "cell_type": "code",
   "execution_count": 16,
   "id": "bb043a44",
   "metadata": {},
   "outputs": [
    {
     "name": "stdout",
     "output_type": "stream",
     "text": [
      "Hello, Jerry!\n"
     ]
    }
   ],
   "source": [
    "# Basic example with f-strings\n",
    "name = \"Jerry\"\n",
    "greeting_f = f\"Hello, {name}!\"  # Directly insert the value of 'name' into the string\n",
    "print(greeting_f)"
   ]
  },
  {
   "cell_type": "code",
   "execution_count": 17,
   "id": "32dc3e81",
   "metadata": {},
   "outputs": [
    {
     "name": "stdout",
     "output_type": "stream",
     "text": [
      "My name is Jerry and I am 30 years old.\n"
     ]
    }
   ],
   "source": [
    "# Complex example with multiple variables\n",
    "name = \"Jerry\"\n",
    "age = 30\n",
    "intro_f = f\"My name is {name} and I am {age} years old.\"  # Insert 'name' and 'age' into the string\n",
    "print(intro_f)"
   ]
  },
  {
   "cell_type": "code",
   "execution_count": 18,
   "id": "5bcc7cd0",
   "metadata": {},
   "outputs": [
    {
     "name": "stdout",
     "output_type": "stream",
     "text": [
      "The current time is 7:45 AM.\n"
     ]
    }
   ],
   "source": [
    "# Inline expressions within f-strings\n",
    "hours = 7\n",
    "minutes = 45\n",
    "time_message = f\"The current time is {hours}:{minutes:02d} AM.\"  # Format 'minutes' to always show two digits\n",
    "print(time_message)"
   ]
  },
  {
   "cell_type": "code",
   "execution_count": 19,
   "id": "cd2557ef",
   "metadata": {},
   "outputs": [
    {
     "name": "stdout",
     "output_type": "stream",
     "text": [
      "After a discount of $20.25, the total cost is $130.50.\n"
     ]
    }
   ],
   "source": [
    "# Using f-strings with calculations\n",
    "total_cost = 150.75\n",
    "discount = 20.25\n",
    "# Perform the calculation inside the f-string and format the result to two decimal places\n",
    "final_price = f\"After a discount of ${discount}, the total cost is ${total_cost - discount:.2f}.\"\n",
    "print(final_price)"
   ]
  }
 ],
 "metadata": {
  "kernelspec": {
   "display_name": "Python 3 (ipykernel)",
   "language": "python",
   "name": "python3"
  },
  "language_info": {
   "codemirror_mode": {
    "name": "ipython",
    "version": 3
   },
   "file_extension": ".py",
   "mimetype": "text/x-python",
   "name": "python",
   "nbconvert_exporter": "python",
   "pygments_lexer": "ipython3",
   "version": "3.11.9"
  }
 },
 "nbformat": 4,
 "nbformat_minor": 5
}
