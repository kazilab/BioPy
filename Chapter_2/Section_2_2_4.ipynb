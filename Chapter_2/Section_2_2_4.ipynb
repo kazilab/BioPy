{
 "cells": [
  {
   "cell_type": "markdown",
   "id": "782e6274",
   "metadata": {},
   "source": [
    "# Chapter 2"
   ]
  },
  {
   "attachments": {},
   "cell_type": "markdown",
   "id": "7c0fb17a",
   "metadata": {},
   "source": [
    "# 2.2.4. Boolean expressions and logical operators"
   ]
  },
  {
   "attachments": {},
   "cell_type": "markdown",
   "id": "e1e58b4b",
   "metadata": {},
   "source": [
    "Boolean values from comparisons"
   ]
  },
  {
   "cell_type": "code",
   "execution_count": 1,
   "id": "300332b4",
   "metadata": {},
   "outputs": [
    {
     "name": "stdout",
     "output_type": "stream",
     "text": [
      "True\n"
     ]
    }
   ],
   "source": [
    "a = 5\n",
    "b = 3\n",
    "print(a > b)  # True, since 5 is greater than 3"
   ]
  },
  {
   "cell_type": "markdown",
   "id": "8eb3f2d1",
   "metadata": {},
   "source": [
    "Numerical treatment of True and False"
   ]
  },
  {
   "cell_type": "code",
   "execution_count": 2,
   "id": "a7e75972",
   "metadata": {},
   "outputs": [
    {
     "name": "stdout",
     "output_type": "stream",
     "text": [
      "2\n"
     ]
    }
   ],
   "source": [
    "print(True + True)  # True is treated as 1"
   ]
  },
  {
   "cell_type": "code",
   "execution_count": 3,
   "id": "1cfefc8b",
   "metadata": {},
   "outputs": [
    {
     "name": "stdout",
     "output_type": "stream",
     "text": [
      "10\n"
     ]
    }
   ],
   "source": [
    "print(True * 10)    # True is treated as 1"
   ]
  },
  {
   "cell_type": "code",
   "execution_count": 4,
   "id": "9e71cb3c",
   "metadata": {},
   "outputs": [
    {
     "name": "stdout",
     "output_type": "stream",
     "text": [
      "0\n"
     ]
    }
   ],
   "source": [
    "print(False * 10)   # False is treated as 0"
   ]
  },
  {
   "cell_type": "markdown",
   "id": "61540c01",
   "metadata": {},
   "source": [
    "Non-zero/non-null values as True"
   ]
  },
  {
   "cell_type": "code",
   "execution_count": 5,
   "id": "ad3d05b1",
   "metadata": {},
   "outputs": [
    {
     "name": "stdout",
     "output_type": "stream",
     "text": [
      "True\n"
     ]
    }
   ],
   "source": [
    "print(bool(10))  # True, because a non-zero number is considered True"
   ]
  },
  {
   "cell_type": "code",
   "execution_count": 6,
   "id": "f9cf68be",
   "metadata": {},
   "outputs": [
    {
     "name": "stdout",
     "output_type": "stream",
     "text": [
      "True\n"
     ]
    }
   ],
   "source": [
    "print(bool(\"Python\"))  # True, because a non-empty string is considered True"
   ]
  },
  {
   "cell_type": "markdown",
   "id": "d9929337",
   "metadata": {},
   "source": [
    "Zero, none, and empty collections as False"
   ]
  },
  {
   "cell_type": "code",
   "execution_count": 7,
   "id": "797ed987",
   "metadata": {},
   "outputs": [
    {
     "name": "stdout",
     "output_type": "stream",
     "text": [
      "False\n"
     ]
    }
   ],
   "source": [
    "print(bool(0))  # False, because zero is treated as False"
   ]
  },
  {
   "cell_type": "code",
   "execution_count": 8,
   "id": "90a2f935",
   "metadata": {},
   "outputs": [
    {
     "name": "stdout",
     "output_type": "stream",
     "text": [
      "False\n"
     ]
    }
   ],
   "source": [
    "print(bool(None))  # False, because None is a null value, thus False"
   ]
  },
  {
   "cell_type": "code",
   "execution_count": 9,
   "id": "2cf4a683",
   "metadata": {},
   "outputs": [
    {
     "name": "stdout",
     "output_type": "stream",
     "text": [
      "False\n"
     ]
    }
   ],
   "source": [
    "print(bool([]))  # False, because an empty list is considered False"
   ]
  },
  {
   "cell_type": "markdown",
   "id": "f2ba6862",
   "metadata": {},
   "source": [
    "Boolean expressions with logical operators"
   ]
  },
  {
   "cell_type": "code",
   "execution_count": 10,
   "id": "141870c0",
   "metadata": {},
   "outputs": [
    {
     "name": "stdout",
     "output_type": "stream",
     "text": [
      "False\n"
     ]
    }
   ],
   "source": [
    "print(True and False)  # False, because the and operator returns True only if both operands are True"
   ]
  },
  {
   "cell_type": "code",
   "execution_count": 11,
   "id": "c0203044",
   "metadata": {},
   "outputs": [
    {
     "name": "stdout",
     "output_type": "stream",
     "text": [
      "True\n"
     ]
    }
   ],
   "source": [
    "print(True or False)  # True, because the or operator returns True if at least one operand is True"
   ]
  },
  {
   "cell_type": "code",
   "execution_count": 12,
   "id": "9b841f58",
   "metadata": {},
   "outputs": [
    {
     "name": "stdout",
     "output_type": "stream",
     "text": [
      "False\n"
     ]
    }
   ],
   "source": [
    "print(not True)  # False, because not negates True to False"
   ]
  }
 ],
 "metadata": {
  "kernelspec": {
   "display_name": "Python 3 (ipykernel)",
   "language": "python",
   "name": "python3"
  },
  "language_info": {
   "codemirror_mode": {
    "name": "ipython",
    "version": 3
   },
   "file_extension": ".py",
   "mimetype": "text/x-python",
   "name": "python",
   "nbconvert_exporter": "python",
   "pygments_lexer": "ipython3",
   "version": "3.11.9"
  }
 },
 "nbformat": 4,
 "nbformat_minor": 5
}
