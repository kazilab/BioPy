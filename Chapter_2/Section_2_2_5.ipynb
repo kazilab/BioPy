{
 "cells": [
  {
   "cell_type": "markdown",
   "id": "782e6274",
   "metadata": {},
   "source": [
    "# Chapter 2"
   ]
  },
  {
   "attachments": {},
   "cell_type": "markdown",
   "id": "7c0fb17a",
   "metadata": {},
   "source": [
    "# 2.2.5. Type conversion"
   ]
  },
  {
   "cell_type": "markdown",
   "id": "c43338d6",
   "metadata": {},
   "source": [
    "Implicit type conversion"
   ]
  },
  {
   "cell_type": "markdown",
   "id": "d5dbc4d0",
   "metadata": {},
   "source": [
    "Adding an integer to a floating-point number"
   ]
  },
  {
   "cell_type": "code",
   "execution_count": 1,
   "id": "a7e75972",
   "metadata": {},
   "outputs": [
    {
     "name": "stdout",
     "output_type": "stream",
     "text": [
      "8.2\n"
     ]
    }
   ],
   "source": [
    "print(5 + 3.2)  # int + float returns float"
   ]
  },
  {
   "cell_type": "markdown",
   "id": "67b8c67a",
   "metadata": {},
   "source": [
    "Combining a string with a number using print"
   ]
  },
  {
   "cell_type": "code",
   "execution_count": 2,
   "id": "9e71cb3c",
   "metadata": {},
   "outputs": [
    {
     "ename": "TypeError",
     "evalue": "can only concatenate str (not \"int\") to str",
     "output_type": "error",
     "traceback": [
      "\u001b[0;31m---------------------------------------------------------------------------\u001b[0m",
      "\u001b[0;31mTypeError\u001b[0m                                 Traceback (most recent call last)",
      "Cell \u001b[0;32mIn[2], line 1\u001b[0m\n\u001b[0;32m----> 1\u001b[0m \u001b[38;5;28mprint\u001b[39m(\u001b[38;5;124m\"\u001b[39m\u001b[38;5;124mThe value is \u001b[39m\u001b[38;5;124m\"\u001b[39m \u001b[38;5;241m+\u001b[39m \u001b[38;5;241m42\u001b[39m)\n",
      "\u001b[0;31mTypeError\u001b[0m: can only concatenate str (not \"int\") to str"
     ]
    }
   ],
   "source": [
    "print(\"The value is \" + 42)"
   ]
  },
  {
   "cell_type": "code",
   "execution_count": 3,
   "id": "7dd79d4c",
   "metadata": {},
   "outputs": [
    {
     "name": "stdout",
     "output_type": "stream",
     "text": [
      "The value is 42\n"
     ]
    }
   ],
   "source": [
    "print(\"The value is\", 42)"
   ]
  },
  {
   "attachments": {},
   "cell_type": "markdown",
   "id": "61540c01",
   "metadata": {},
   "source": [
    "Explicit type conversion"
   ]
  },
  {
   "cell_type": "markdown",
   "id": "ba513d0c",
   "metadata": {},
   "source": [
    "Converting a float to an integer"
   ]
  },
  {
   "cell_type": "code",
   "execution_count": 4,
   "id": "f9cf68be",
   "metadata": {},
   "outputs": [
    {
     "data": {
      "text/plain": [
       "5"
      ]
     },
     "execution_count": 4,
     "metadata": {},
     "output_type": "execute_result"
    }
   ],
   "source": [
    "int(5.7)"
   ]
  },
  {
   "cell_type": "markdown",
   "id": "1b681bab",
   "metadata": {},
   "source": [
    "Converting an integer to a string"
   ]
  },
  {
   "cell_type": "code",
   "execution_count": 5,
   "id": "90a2f935",
   "metadata": {},
   "outputs": [
    {
     "data": {
      "text/plain": [
       "'100'"
      ]
     },
     "execution_count": 5,
     "metadata": {},
     "output_type": "execute_result"
    }
   ],
   "source": [
    "str(100)"
   ]
  }
 ],
 "metadata": {
  "kernelspec": {
   "display_name": "Python 3 (ipykernel)",
   "language": "python",
   "name": "python3"
  },
  "language_info": {
   "codemirror_mode": {
    "name": "ipython",
    "version": 3
   },
   "file_extension": ".py",
   "mimetype": "text/x-python",
   "name": "python",
   "nbconvert_exporter": "python",
   "pygments_lexer": "ipython3",
   "version": "3.11.9"
  }
 },
 "nbformat": 4,
 "nbformat_minor": 5
}
