{
 "cells": [
  {
   "cell_type": "markdown",
   "id": "782e6274",
   "metadata": {},
   "source": [
    "# Chapter 2"
   ]
  },
  {
   "cell_type": "markdown",
   "id": "7c0fb17a",
   "metadata": {},
   "source": [
    "# 2.2.7. Complex data types - List"
   ]
  },
  {
   "cell_type": "markdown",
   "id": "054f28d1",
   "metadata": {},
   "source": [
    "Creating a list with different types of elements"
   ]
  },
  {
   "cell_type": "code",
   "execution_count": 1,
   "id": "02d47376",
   "metadata": {},
   "outputs": [
    {
     "name": "stdout",
     "output_type": "stream",
     "text": [
      "[1, 'Python', 3.14, [2, 4, 6]]\n"
     ]
    }
   ],
   "source": [
    "# A list containing an integer, a string, a float, and another list\n",
    "my_list = [1, \"Python\", 3.14, [2, 4, 6]]  \n",
    "print(my_list)  "
   ]
  },
  {
   "cell_type": "markdown",
   "id": "4b37a17c",
   "metadata": {},
   "source": [
    "Accessing elements using positive indexing"
   ]
  },
  {
   "cell_type": "code",
   "execution_count": 2,
   "id": "f55821fd",
   "metadata": {},
   "outputs": [
    {
     "name": "stdout",
     "output_type": "stream",
     "text": [
      "First element: 1\n",
      "Second element: Python\n"
     ]
    }
   ],
   "source": [
    "first_element = my_list[0]  # Access the first element (1)\n",
    "second_element = my_list[1]  # Access the second element (\"Python\")\n",
    "print(\"First element:\", first_element)\n",
    "print(\"Second element:\", second_element)  "
   ]
  },
  {
   "cell_type": "markdown",
   "id": "3bf7f6f3",
   "metadata": {},
   "source": [
    "Accessing elements using negative indexing"
   ]
  },
  {
   "cell_type": "code",
   "execution_count": 3,
   "id": "ea4d6648",
   "metadata": {},
   "outputs": [
    {
     "name": "stdout",
     "output_type": "stream",
     "text": [
      "Last element: [2, 4, 6]\n",
      "Second to last element: 3.14\n"
     ]
    }
   ],
   "source": [
    "last_element = my_list[-1]  # Access the last element ([2, 4, 6])\n",
    "second_last_element = my_list[-2]  # Access the second to last element (3.14)\n",
    "print(\"Last element:\", last_element)\n",
    "print(\"Second to last element:\", second_last_element)"
   ]
  },
  {
   "cell_type": "code",
   "execution_count": null,
   "id": "4d56fd0a",
   "metadata": {},
   "outputs": [],
   "source": []
  }
 ],
 "metadata": {
  "kernelspec": {
   "display_name": "Python 3 (ipykernel)",
   "language": "python",
   "name": "python3"
  },
  "language_info": {
   "codemirror_mode": {
    "name": "ipython",
    "version": 3
   },
   "file_extension": ".py",
   "mimetype": "text/x-python",
   "name": "python",
   "nbconvert_exporter": "python",
   "pygments_lexer": "ipython3",
   "version": "3.11.9"
  }
 },
 "nbformat": 4,
 "nbformat_minor": 5
}
