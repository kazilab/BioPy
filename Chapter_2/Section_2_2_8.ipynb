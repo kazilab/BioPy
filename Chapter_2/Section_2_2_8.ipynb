{
 "cells": [
  {
   "cell_type": "markdown",
   "id": "782e6274",
   "metadata": {},
   "source": [
    "# Chapter 2"
   ]
  },
  {
   "cell_type": "markdown",
   "id": "7c0fb17a",
   "metadata": {},
   "source": [
    "# 2.2.8. Complex data types - List operations"
   ]
  },
  {
   "attachments": {},
   "cell_type": "markdown",
   "id": "054f28d1",
   "metadata": {},
   "source": [
    "List concatenation"
   ]
  },
  {
   "cell_type": "code",
   "execution_count": 1,
   "id": "02d47376",
   "metadata": {},
   "outputs": [
    {
     "name": "stdout",
     "output_type": "stream",
     "text": [
      "Concatenated List: [1, 2, 3, 4, 5, 6]\n"
     ]
    }
   ],
   "source": [
    "list1 = [1, 2, 3]                # Define the first list\n",
    "list2 = [4, 5, 6]                # Define the second list\n",
    "combined_list = list1 + list2    # Concatenate list1 and list2\n",
    "print(\"Concatenated List:\", combined_list) "
   ]
  },
  {
   "attachments": {},
   "cell_type": "markdown",
   "id": "4b37a17c",
   "metadata": {},
   "source": [
    "List replication"
   ]
  },
  {
   "cell_type": "code",
   "execution_count": 2,
   "id": "f55821fd",
   "metadata": {},
   "outputs": [
    {
     "name": "stdout",
     "output_type": "stream",
     "text": [
      "Replicated List: [1, 2, 3, 1, 2, 3]\n"
     ]
    }
   ],
   "source": [
    "list1 = [1, 2, 3]               # Define the first list\n",
    "replicated_list = list1 * 2     # Replicate list1 two times\n",
    "print(\"Replicated List:\", replicated_list)   "
   ]
  },
  {
   "attachments": {},
   "cell_type": "markdown",
   "id": "3bf7f6f3",
   "metadata": {},
   "source": [
    "To add an element"
   ]
  },
  {
   "cell_type": "code",
   "execution_count": 3,
   "id": "ea4d6648",
   "metadata": {},
   "outputs": [
    {
     "name": "stdout",
     "output_type": "stream",
     "text": [
      "After append: [1, 2, 3, 7]\n"
     ]
    }
   ],
   "source": [
    "list1 = [1, 2, 3]                # Define the initial list\n",
    "list1.append(7)                  # Append the number 7 to the end of list1\n",
    "print(\"After append:\", list1)  "
   ]
  },
  {
   "cell_type": "markdown",
   "id": "ad6a5a33",
   "metadata": {},
   "source": [
    "To remove an element"
   ]
  },
  {
   "cell_type": "code",
   "execution_count": 4,
   "id": "1ea89024",
   "metadata": {},
   "outputs": [
    {
     "name": "stdout",
     "output_type": "stream",
     "text": [
      "After remove: [1, 2, 3, 7]\n"
     ]
    }
   ],
   "source": [
    "list1 = [1, 2, 7, 3, 7]  # Define the initial list with the element 7 included\n",
    "list1.remove(7)       # Remove the first occurrence of the number 7 from list1\n",
    "print(\"After remove:\", list1) "
   ]
  },
  {
   "cell_type": "markdown",
   "id": "50c8c6e1",
   "metadata": {},
   "source": [
    "To sort the list"
   ]
  },
  {
   "cell_type": "code",
   "execution_count": 5,
   "id": "ad3d05b1",
   "metadata": {},
   "outputs": [
    {
     "name": "stdout",
     "output_type": "stream",
     "text": [
      "Sorted List: [1, 2, 3, 4]\n"
     ]
    }
   ],
   "source": [
    "unsorted_list = [3, 1, 4, 2]       # Define the initial unsorted list\n",
    "unsorted_list.sort()               # Sorts the list in place in ascending order\n",
    "# Print the Sorted List\n",
    "print(\"Sorted List:\", unsorted_list)"
   ]
  },
  {
   "cell_type": "markdown",
   "id": "aefa33e7",
   "metadata": {},
   "source": [
    "Sorting in descending order"
   ]
  },
  {
   "cell_type": "code",
   "execution_count": 6,
   "id": "3399231d",
   "metadata": {},
   "outputs": [
    {
     "name": "stdout",
     "output_type": "stream",
     "text": [
      "Descending Sorted List: [4, 3, 2, 1]\n"
     ]
    }
   ],
   "source": [
    "unsorted_list.sort(reverse=True)\n",
    "print(\"Descending Sorted List:\", unsorted_list)"
   ]
  },
  {
   "cell_type": "markdown",
   "id": "25208474",
   "metadata": {},
   "source": [
    "To reverse the order of list elements"
   ]
  },
  {
   "cell_type": "code",
   "execution_count": 7,
   "id": "90a2f935",
   "metadata": {},
   "outputs": [
    {
     "name": "stdout",
     "output_type": "stream",
     "text": [
      "Reversed List: [2, 4, 1, 3]\n"
     ]
    }
   ],
   "source": [
    "unsorted_list = [3, 1, 4, 2]  # Define an unsorted list\n",
    "unsorted_list.reverse()       # Reverses the order of elements in the list\n",
    "print(\"Reversed List:\", unsorted_list)"
   ]
  }
 ],
 "metadata": {
  "kernelspec": {
   "display_name": "Python 3 (ipykernel)",
   "language": "python",
   "name": "python3"
  },
  "language_info": {
   "codemirror_mode": {
    "name": "ipython",
    "version": 3
   },
   "file_extension": ".py",
   "mimetype": "text/x-python",
   "name": "python",
   "nbconvert_exporter": "python",
   "pygments_lexer": "ipython3",
   "version": "3.11.9"
  }
 },
 "nbformat": 4,
 "nbformat_minor": 5
}
