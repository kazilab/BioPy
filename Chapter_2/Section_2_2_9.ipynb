{
 "cells": [
  {
   "cell_type": "markdown",
   "id": "782e6274",
   "metadata": {},
   "source": [
    "# Chapter 2"
   ]
  },
  {
   "attachments": {},
   "cell_type": "markdown",
   "id": "7c0fb17a",
   "metadata": {},
   "source": [
    "# 2.2.9. Complex data types - Slicing a list"
   ]
  },
  {
   "cell_type": "code",
   "execution_count": 1,
   "id": "02d47376",
   "metadata": {},
   "outputs": [
    {
     "name": "stdout",
     "output_type": "stream",
     "text": [
      "[1, 10, 20, 30, 40, 50, 60, 70, 80, 90]\n"
     ]
    }
   ],
   "source": [
    "# Create a list for slicing\n",
    "slice_list = [1, 10, 20, 30, 40, 50, 60, 70, 80, 90]  \n",
    "\n",
    "print(slice_list)"
   ]
  },
  {
   "cell_type": "code",
   "execution_count": 2,
   "id": "f55821fd",
   "metadata": {},
   "outputs": [
    {
     "name": "stdout",
     "output_type": "stream",
     "text": [
      "Sliced List (2 to 5): [20, 30, 40, 50]\n"
     ]
    }
   ],
   "source": [
    "# Slicing - getting elements from index 2 to 5\n",
    "sub_list = slice_list[2:6] \n",
    "print(\"Sliced List (2 to 5):\", sub_list) "
   ]
  },
  {
   "cell_type": "code",
   "execution_count": 3,
   "id": "ea4d6648",
   "metadata": {},
   "outputs": [
    {
     "name": "stdout",
     "output_type": "stream",
     "text": [
      "Sliced from Start to 3: [1, 10, 20, 30]\n"
     ]
    }
   ],
   "source": [
    "# Slicing - getting elements from the beginning to index 3\n",
    "start_slice = slice_list[:4] \n",
    "print(\"Sliced from Start to 3:\", start_slice) "
   ]
  },
  {
   "cell_type": "code",
   "execution_count": 4,
   "id": "1ea89024",
   "metadata": {},
   "outputs": [
    {
     "name": "stdout",
     "output_type": "stream",
     "text": [
      "Sliced from 5 to End: [50, 60, 70, 80, 90]\n"
     ]
    }
   ],
   "source": [
    "# Slicing - getting elements from index 5 to the End\n",
    "end_slice = slice_list[5:] \n",
    "print(\"Sliced from 5 to End:\", end_slice)"
   ]
  }
 ],
 "metadata": {
  "kernelspec": {
   "display_name": "Python 3 (ipykernel)",
   "language": "python",
   "name": "python3"
  },
  "language_info": {
   "codemirror_mode": {
    "name": "ipython",
    "version": 3
   },
   "file_extension": ".py",
   "mimetype": "text/x-python",
   "name": "python",
   "nbconvert_exporter": "python",
   "pygments_lexer": "ipython3",
   "version": "3.11.9"
  }
 },
 "nbformat": 4,
 "nbformat_minor": 5
}
