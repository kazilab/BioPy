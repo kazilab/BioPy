{
 "cells": [
  {
   "cell_type": "markdown",
   "id": "437932ea",
   "metadata": {},
   "source": [
    "# Chapter 2"
   ]
  },
  {
   "attachments": {},
   "cell_type": "markdown",
   "id": "8f7abc2e",
   "metadata": {},
   "source": [
    "# 2.3.2. Usage of conditional statements"
   ]
  },
  {
   "cell_type": "markdown",
   "id": "c41c9917",
   "metadata": {},
   "source": [
    "if statements"
   ]
  },
  {
   "cell_type": "code",
   "execution_count": 5,
   "id": "bfb2fcb3",
   "metadata": {},
   "outputs": [
    {
     "name": "stdout",
     "output_type": "stream",
     "text": [
      "Adult\n"
     ]
    }
   ],
   "source": [
    "age = 21\n",
    "if age > 18:\n",
    "    print(\"Adult\")"
   ]
  },
  {
   "cell_type": "markdown",
   "id": "98f054d1",
   "metadata": {},
   "source": [
    "if + elif statements"
   ]
  },
  {
   "cell_type": "code",
   "execution_count": 8,
   "id": "d1b91d8d",
   "metadata": {},
   "outputs": [
    {
     "name": "stdout",
     "output_type": "stream",
     "text": [
      "Just turned adult\n"
     ]
    }
   ],
   "source": [
    "age = 18\n",
    "if age > 18:\n",
    "     print(\"Adult\")\n",
    "elif age == 18: \n",
    "     print(\"Just turned adult\")"
   ]
  },
  {
   "cell_type": "markdown",
   "id": "617940b9",
   "metadata": {},
   "source": [
    "if + elif + else statements"
   ]
  },
  {
   "cell_type": "code",
   "execution_count": 10,
   "id": "c7e0e25e",
   "metadata": {},
   "outputs": [
    {
     "name": "stdout",
     "output_type": "stream",
     "text": [
      "Minor\n"
     ]
    }
   ],
   "source": [
    "age = 16\n",
    "\n",
    "if age > 18:\n",
    "     print(\"Adult\")\n",
    "elif age == 18: \n",
    "     print(\"Just turned adult\")\n",
    "else:\n",
    "     print(\"Minor\")"
   ]
  },
  {
   "cell_type": "markdown",
   "id": "f112f9a6",
   "metadata": {},
   "source": [
    "Function with if, elif and else conditions"
   ]
  },
  {
   "cell_type": "code",
   "execution_count": 11,
   "id": "a3219dfa",
   "metadata": {},
   "outputs": [
    {
     "name": "stdout",
     "output_type": "stream",
     "text": [
      "Adult\n",
      "Just turned adult\n",
      "Minor\n"
     ]
    }
   ],
   "source": [
    "def check_age(age):\n",
    "    if age > 18:\n",
    "        print(\"Adult\")\n",
    "    elif age == 18:\n",
    "        print(\"Just turned adult\")\n",
    "    else:\n",
    "        print(\"Minor\")\n",
    "# Example usage of the function\n",
    "check_age(20)  # This should print \"Adult\"\n",
    "check_age(18)  # This should print \"Just turned adult\"\n",
    "check_age(16)  # This should print \"Minor\""
   ]
  },
  {
   "cell_type": "markdown",
   "id": "566aacb3",
   "metadata": {},
   "source": [
    "Nested Conditional Statements"
   ]
  },
  {
   "cell_type": "code",
   "execution_count": 3,
   "id": "82b53405",
   "metadata": {},
   "outputs": [
    {
     "name": "stdout",
     "output_type": "stream",
     "text": [
      "Adult patient with Hypertension\n",
      "Adult patient with Diabetes\n",
      "Adult patient with no specified condition\n",
      "Not an adult, no further checks required\n"
     ]
    }
   ],
   "source": [
    "def patient_check(age, medical_condition):\n",
    "    if age >= 18:\n",
    "        # This is the first level of nesting\n",
    "        if medical_condition == \"Hypertension\":\n",
    "            print(\"Adult patient with Hypertension\")\n",
    "        elif medical_condition == \"Diabetes\":\n",
    "            print(\"Adult patient with Diabetes\")\n",
    "        else:\n",
    "            print(\"Adult patient with no specified condition\")\n",
    "    else:\n",
    "        print(\"Not an adult, no further checks required\")\n",
    "\n",
    "# Example usage of the function\n",
    "patient_check(25, \"Hypertension\")  # Adult patient with Hypertension\n",
    "patient_check(20, \"Diabetes\")      # Adult patient with Diabetes\n",
    "patient_check(25, \"Other\")         # Adult patient with no specified condition\n",
    "patient_check(16, \"Hypertension\")  # Not an adult, no further checks required"
   ]
  },
  {
   "cell_type": "code",
   "execution_count": null,
   "id": "ea4d6648",
   "metadata": {},
   "outputs": [],
   "source": []
  }
 ],
 "metadata": {
  "kernelspec": {
   "display_name": "Python 3 (ipykernel)",
   "language": "python",
   "name": "python3"
  },
  "language_info": {
   "codemirror_mode": {
    "name": "ipython",
    "version": 3
   },
   "file_extension": ".py",
   "mimetype": "text/x-python",
   "name": "python",
   "nbconvert_exporter": "python",
   "pygments_lexer": "ipython3",
   "version": "3.11.9"
  }
 },
 "nbformat": 4,
 "nbformat_minor": 5
}
