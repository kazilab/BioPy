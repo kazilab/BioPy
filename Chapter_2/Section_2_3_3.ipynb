{
 "cells": [
  {
   "cell_type": "markdown",
   "id": "782e6274",
   "metadata": {},
   "source": [
    "# Chapter 2"
   ]
  },
  {
   "cell_type": "markdown",
   "id": "8f7abc2e",
   "metadata": {},
   "source": [
    "# 2.3.3. Looping Structures"
   ]
  },
  {
   "cell_type": "markdown",
   "id": "92a573e2",
   "metadata": {},
   "source": [
    "for Loops"
   ]
  },
  {
   "cell_type": "code",
   "execution_count": 1,
   "id": "d1b91d8d",
   "metadata": {},
   "outputs": [
    {
     "name": "stdout",
     "output_type": "stream",
     "text": [
      "0\n",
      "1\n",
      "2\n",
      "3\n",
      "4\n"
     ]
    }
   ],
   "source": [
    "for i in range(5):\n",
    "    print(i) \n",
    "# prints numbers 0 to 4."
   ]
  },
  {
   "cell_type": "code",
   "execution_count": 2,
   "id": "8c2953ce",
   "metadata": {},
   "outputs": [
    {
     "name": "stdout",
     "output_type": "stream",
     "text": [
      "1\n",
      "2\n",
      "3\n",
      "4\n",
      "5\n"
     ]
    }
   ],
   "source": [
    "# To iterate over the elements of a list:\n",
    "my_list = [1, 2, 3, 4, 5]\n",
    "for item in my_list:\n",
    "    print(item)\n",
    "# This prints each item in the list"
   ]
  },
  {
   "cell_type": "code",
   "execution_count": 3,
   "id": "82b53405",
   "metadata": {},
   "outputs": [
    {
     "name": "stdout",
     "output_type": "stream",
     "text": [
      "a\n",
      "b\n",
      "c\n"
     ]
    }
   ],
   "source": [
    "# Iterating over a tuple follows a similar pattern:\n",
    "my_tuple = ('a', 'b', 'c')\n",
    "for item in my_tuple:\n",
    "    print(item)\n",
    "# This prints each character in the tuple"
   ]
  },
  {
   "cell_type": "code",
   "execution_count": 4,
   "id": "ea4d6648",
   "metadata": {},
   "outputs": [
    {
     "name": "stdout",
     "output_type": "stream",
     "text": [
      "P\n",
      "y\n",
      "t\n",
      "h\n",
      "o\n",
      "n\n"
     ]
    }
   ],
   "source": [
    "# Strings can be iterated character by character:\n",
    "my_string = \"Python\"\n",
    "for char in my_string:\n",
    "    print(char)\n",
    "# This prints each character in the string"
   ]
  },
  {
   "cell_type": "code",
   "execution_count": 5,
   "id": "75ea75ce",
   "metadata": {},
   "outputs": [
    {
     "name": "stdout",
     "output_type": "stream",
     "text": [
      "[2, 4, 6]\n"
     ]
    }
   ],
   "source": [
    "# Filtering Values from a List.\n",
    "numbers = [1, 2, 3, 4, 5, 6]\n",
    "even_numbers = []\n",
    "for number in numbers:\n",
    "    if number % 2 == 0:\n",
    "        even_numbers.append(number)\n",
    "print(even_numbers)\n",
    "# This will output only the even numbers: [2, 4, 6]"
   ]
  },
  {
   "cell_type": "code",
   "execution_count": 6,
   "id": "033c3ffb",
   "metadata": {},
   "outputs": [
    {
     "name": "stdout",
     "output_type": "stream",
     "text": [
      "1 2 3 \n",
      "4 5 6 \n",
      "7 8 9 \n"
     ]
    }
   ],
   "source": [
    "# Iterating Through a Matrix.\n",
    "matrix = [[1, 2, 3], [4, 5, 6], [7, 8, 9]]\n",
    "for row in matrix:\n",
    "    for element in row:\n",
    "        print(element, end=' ')\n",
    "    print()  # For a new line after each row\n",
    "# This will print each element of the matrix, row by row"
   ]
  },
  {
   "cell_type": "markdown",
   "id": "383dff7d",
   "metadata": {},
   "source": [
    "while Loops"
   ]
  },
  {
   "cell_type": "code",
   "execution_count": 7,
   "id": "3e58a1b7",
   "metadata": {},
   "outputs": [
    {
     "name": "stdout",
     "output_type": "stream",
     "text": [
      "0\n",
      "1\n",
      "2\n",
      "3\n",
      "4\n"
     ]
    }
   ],
   "source": [
    "count = 0\n",
    "while count < 5:\n",
    "    print(count)\n",
    "    count += 1\n",
    "# This prints numbers 0 to 4"
   ]
  },
  {
   "cell_type": "code",
   "execution_count": 8,
   "id": "1c248d8c",
   "metadata": {},
   "outputs": [
    {
     "name": "stdout",
     "output_type": "stream",
     "text": [
      "0\n",
      "1\n",
      "2\n",
      "3\n",
      "4\n"
     ]
    }
   ],
   "source": [
    "# Infinite Loops and Break Conditions: \n",
    "count = 0\n",
    "while True:  # Potentially infinite loop\n",
    "    if count >= 5:\n",
    "        break  # Break out of the loop when count reaches 5\n",
    "    print(count)\n",
    "    count += 1\n",
    "# This will print numbers 0 to 4 and then break out of the loop"
   ]
  },
  {
   "cell_type": "code",
   "execution_count": 9,
   "id": "8f700262",
   "metadata": {},
   "outputs": [
    {
     "name": "stdout",
     "output_type": "stream",
     "text": [
      "Count is: 0\n",
      "Count is: 1\n",
      "Count is: 2\n",
      "Count is: 3\n",
      "Count is: 4\n",
      "Loop finished. Count reached 5\n"
     ]
    }
   ],
   "source": [
    "# Example with else:\n",
    "count = 0\n",
    "max_count = 5\n",
    "while count < max_count:\n",
    "    print(\"Count is:\", count)\n",
    "    count += 1\n",
    "else:\n",
    "    print(\"Loop finished. Count reached\", max_count)\n",
    "# The else block is executed after the loop finishes naturally"
   ]
  },
  {
   "cell_type": "code",
   "execution_count": 10,
   "id": "41fd4e0a",
   "metadata": {},
   "outputs": [
    {
     "name": "stdout",
     "output_type": "stream",
     "text": [
      "Count is: 0\n",
      "Count is: 1\n",
      "Count is: 2\n",
      "Breaking out of the loop\n"
     ]
    }
   ],
   "source": [
    "# Example with break and else:\n",
    "count = 0\n",
    "max_count = 5\n",
    "while count < max_count:\n",
    "    print(\"Count is:\", count)\n",
    "    count += 1\n",
    "    if count == 3:\n",
    "        print(\"Breaking out of the loop\")\n",
    "        break\n",
    "else:\n",
    "    # This block will not be executed as the loop is broken\n",
    "    print(\"Loop finished. Count reached\", max_count)\n",
    "# Output after the break statement will be: \"Breaking out of the loop\""
   ]
  },
  {
   "cell_type": "code",
   "execution_count": null,
   "id": "f008d283",
   "metadata": {},
   "outputs": [],
   "source": []
  }
 ],
 "metadata": {
  "kernelspec": {
   "display_name": "Python 3 (ipykernel)",
   "language": "python",
   "name": "python3"
  },
  "language_info": {
   "codemirror_mode": {
    "name": "ipython",
    "version": 3
   },
   "file_extension": ".py",
   "mimetype": "text/x-python",
   "name": "python",
   "nbconvert_exporter": "python",
   "pygments_lexer": "ipython3",
   "version": "3.11.9"
  }
 },
 "nbformat": 4,
 "nbformat_minor": 5
}
