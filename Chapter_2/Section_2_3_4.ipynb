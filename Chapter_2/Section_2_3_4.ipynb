{
 "cells": [
  {
   "cell_type": "markdown",
   "id": "782e6274",
   "metadata": {},
   "source": [
    "# Chapter 2"
   ]
  },
  {
   "cell_type": "markdown",
   "id": "8f7abc2e",
   "metadata": {},
   "source": [
    "# 2.3.4. Use of control flow tools"
   ]
  },
  {
   "cell_type": "markdown",
   "id": "093ab7aa",
   "metadata": {},
   "source": [
    "The break Statement"
   ]
  },
  {
   "cell_type": "code",
   "execution_count": 1,
   "id": "d1b91d8d",
   "metadata": {},
   "outputs": [
    {
     "name": "stdout",
     "output_type": "stream",
     "text": [
      "Reading 120 is normal\n",
      "Reading 125 is normal\n",
      "Reading 130 is normal\n",
      "Critical reading encountered: 180\n"
     ]
    }
   ],
   "source": [
    "patient_blood_pressure_readings = [120, 125, 130, 180, 110, 115]\n",
    "for reading in patient_blood_pressure_readings:\n",
    "    if reading > 170:\n",
    "        print(f\"Critical reading encountered: {reading}\")\n",
    "        break\n",
    "    print(f\"Reading {reading} is normal\")\n",
    "\n",
    "# Expected Output:\n",
    "# Reading 120 is normal\n",
    "# Reading 125 is normal\n",
    "# Reading 130 is normal\n",
    "# Critical reading encountered: 180"
   ]
  },
  {
   "cell_type": "markdown",
   "id": "e4c55867",
   "metadata": {},
   "source": [
    "The continue Statement"
   ]
  },
  {
   "cell_type": "code",
   "execution_count": 2,
   "id": "6fcc9dec",
   "metadata": {},
   "outputs": [
    {
     "name": "stdout",
     "output_type": "stream",
     "text": [
      "Processing result: 85\n",
      "Processing result: 90\n",
      "Processing result: 95\n",
      "Processing result: 100\n"
     ]
    }
   ],
   "source": [
    "test_results = [85, 90, None, 95, 'invalid', 100]\n",
    "for result in test_results:\n",
    "    if result is None or not isinstance(result, int):\n",
    "        # Skip null or non-integer results\n",
    "        continue\n",
    "    print(f\"Processing result: {result}\")\n",
    "# This will only process and print valid integer results"
   ]
  },
  {
   "cell_type": "markdown",
   "id": "a7f01ded",
   "metadata": {},
   "source": [
    "The pass Statement"
   ]
  },
  {
   "cell_type": "code",
   "execution_count": 3,
   "id": "ea0712e0",
   "metadata": {},
   "outputs": [],
   "source": [
    "# As a Placeholder in a Loop\n",
    "for i in range(5):\n",
    "    # Future logic goes here\n",
    "    pass\n",
    "# This loop does nothing for now but can be filled in later"
   ]
  },
  {
   "cell_type": "code",
   "execution_count": 4,
   "id": "97da55fe",
   "metadata": {},
   "outputs": [],
   "source": [
    "# In Conditional Statements:\n",
    "x = 10\n",
    "if x > 5:\n",
    "    pass  # Placeholder for future logic\n",
    "else:\n",
    "    print(\"x is 5 or less\")\n",
    "# The if block does nothing for now, but can be implemented later"
   ]
  },
  {
   "cell_type": "code",
   "execution_count": 5,
   "id": "c92ccda1",
   "metadata": {},
   "outputs": [
    {
     "name": "stdout",
     "output_type": "stream",
     "text": [
      "x is 5 or less\n"
     ]
    }
   ],
   "source": [
    "x = 3\n",
    "if x > 5:\n",
    "    pass  # Placeholder for future logic\n",
    "else:\n",
    "    print(\"x is 5 or less\")\n",
    "# The if block does nothing for now, but can be implemented later"
   ]
  },
  {
   "cell_type": "markdown",
   "id": "1de3a1fa",
   "metadata": {},
   "source": [
    "Combining with conditional logic"
   ]
  },
  {
   "cell_type": "code",
   "execution_count": 6,
   "id": "5109212c",
   "metadata": {},
   "outputs": [
    {
     "name": "stdout",
     "output_type": "stream",
     "text": [
      "Current count: 1\n",
      "Current count: 2\n",
      "Current count: 3\n",
      "Current count: 4\n",
      "Breaking out of loop at count = 5\n"
     ]
    }
   ],
   "source": [
    "# Example with break in a while loop:\n",
    "count = 0\n",
    "max_value = 10\n",
    "while count < max_value:\n",
    "    count += 1\n",
    "    if count == 5:\n",
    "        print(\"Breaking out of loop at count =\", count)\n",
    "        break\n",
    "    print(\"Current count:\", count)\n",
    "# This loop will exit when count reaches 5"
   ]
  },
  {
   "cell_type": "code",
   "execution_count": 7,
   "id": "1ac4e66a",
   "metadata": {},
   "outputs": [
    {
     "name": "stdout",
     "output_type": "stream",
     "text": [
      "Odd number: 1\n",
      "Odd number: 3\n",
      "Odd number: 5\n",
      "Odd number: 7\n",
      "Odd number: 9\n"
     ]
    }
   ],
   "source": [
    "# Combining for Loop with Conditional Logic\n",
    "numbers = [1, 2, 3, 4, 5, 6, 7, 8, 9, 10]\n",
    "for number in numbers:\n",
    "    if number % 2 == 0:\n",
    "        continue  # Skip the even numbers\n",
    "    print(\"Odd number:\", number)\n",
    "# This loop will print only the odd numbers"
   ]
  },
  {
   "cell_type": "code",
   "execution_count": null,
   "id": "21aee3c0",
   "metadata": {},
   "outputs": [],
   "source": []
  }
 ],
 "metadata": {
  "kernelspec": {
   "display_name": "Python 3 (ipykernel)",
   "language": "python",
   "name": "python3"
  },
  "language_info": {
   "codemirror_mode": {
    "name": "ipython",
    "version": 3
   },
   "file_extension": ".py",
   "mimetype": "text/x-python",
   "name": "python",
   "nbconvert_exporter": "python",
   "pygments_lexer": "ipython3",
   "version": "3.11.9"
  }
 },
 "nbformat": 4,
 "nbformat_minor": 5
}
