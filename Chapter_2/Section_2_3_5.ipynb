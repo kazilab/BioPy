{
 "cells": [
  {
   "cell_type": "markdown",
   "id": "782e6274",
   "metadata": {},
   "source": [
    "# Chapter 2"
   ]
  },
  {
   "cell_type": "markdown",
   "id": "8f7abc2e",
   "metadata": {},
   "source": [
    "# 2.3.5. Looping Structures"
   ]
  },
  {
   "cell_type": "markdown",
   "id": "093ab7aa",
   "metadata": {},
   "source": [
    "A. List Comprehensions"
   ]
  },
  {
   "cell_type": "code",
   "execution_count": null,
   "id": "d1b91d8d",
   "metadata": {},
   "outputs": [],
   "source": [
    "squares = [x**2 for x in range(10)]\n",
    "print(squares)"
   ]
  },
  {
   "cell_type": "code",
   "execution_count": null,
   "id": "28da75b5",
   "metadata": {},
   "outputs": [],
   "source": [
    "evens = [x for x in range(10) if x % 2 == 0]\n",
    "print(evens)"
   ]
  },
  {
   "cell_type": "code",
   "execution_count": null,
   "id": "6fcc9dec",
   "metadata": {},
   "outputs": [],
   "source": [
    "def celsius_to_fahrenheit(c):\n",
    "    return (9/5) * c + 32\n",
    "\n",
    "temperatures_c = [0, 10, 20, 30]\n",
    "temperatures_f = [celsius_to_fahrenheit(c) for c in temperatures_c]\n",
    "print(temperatures_f)"
   ]
  },
  {
   "cell_type": "markdown",
   "id": "a7f01ded",
   "metadata": {},
   "source": [
    "B. Dictionary Comprehensions"
   ]
  },
  {
   "cell_type": "code",
   "execution_count": null,
   "id": "ea0712e0",
   "metadata": {},
   "outputs": [],
   "source": [
    "# Basic Usage:\n",
    "squares = {x: x*x for x in range(6)}\n",
    "print(squares)"
   ]
  },
  {
   "cell_type": "code",
   "execution_count": null,
   "id": "97da55fe",
   "metadata": {},
   "outputs": [],
   "source": [
    "# Conditional Logic:\n",
    "even_squares = {x: x*x for x in range(10) if x % 2 == 0}\n",
    "print(even_squares)"
   ]
  },
  {
   "cell_type": "code",
   "execution_count": null,
   "id": "c92ccda1",
   "metadata": {},
   "outputs": [],
   "source": [
    "# Using Two Iterables:\n",
    "keys = ['a', 'b', 'c']\n",
    "values = [1, 2, 3]\n",
    "dictionary = {k: v for k, v in zip(keys, values)}\n",
    "print(dictionary)"
   ]
  },
  {
   "cell_type": "code",
   "execution_count": null,
   "id": "5109212c",
   "metadata": {},
   "outputs": [],
   "source": [
    "# Creating a Dictionary from a String\n",
    "word = \"Hello\"\n",
    "letter_count = {letter: word.count(letter) for letter in word}\n",
    "print(letter_count)"
   ]
  },
  {
   "cell_type": "markdown",
   "id": "88f0c319",
   "metadata": {},
   "source": [
    "C. Set Comprehensions"
   ]
  },
  {
   "cell_type": "code",
   "execution_count": null,
   "id": "2993739e",
   "metadata": {},
   "outputs": [],
   "source": [
    "# The basic syntax of a set comprehension is: \n",
    "# Create a set of squares for numbers from 0 to 9\n",
    "squares = {x**2 for x in range(10)}\n",
    "print(squares)"
   ]
  },
  {
   "cell_type": "code",
   "execution_count": null,
   "id": "5780febd",
   "metadata": {},
   "outputs": [],
   "source": [
    "# Set Comprehension with Condition:\n",
    "# Create a set of even numbers between 0 and 9\n",
    "even_numbers = {x for x in range(10) if x % 2 == 0}\n",
    "print(even_numbers)"
   ]
  },
  {
   "cell_type": "code",
   "execution_count": null,
   "id": "3ebd19bc",
   "metadata": {},
   "outputs": [],
   "source": [
    "# Set Comprehension with Complex Expression:\n",
    "# Create a set of tuples (number, square of number)\n",
    "number_square = {(x, x**2) for x in range(4)}\n",
    "print(number_square)"
   ]
  },
  {
   "cell_type": "code",
   "execution_count": null,
   "id": "e1f45c4c",
   "metadata": {},
   "outputs": [],
   "source": [
    "# Using Set Comprehension to Remove Duplicates: \n",
    "# Remove duplicates from a list\n",
    "list_with_duplicates = [1, 2, 2, 3, 4, 4, 4, 5]\n",
    "unique_elements = {x for x in list_with_duplicates}\n",
    "print(unique_elements)"
   ]
  },
  {
   "cell_type": "code",
   "execution_count": null,
   "id": "805732ae",
   "metadata": {},
   "outputs": [],
   "source": []
  }
 ],
 "metadata": {
  "kernelspec": {
   "display_name": "Python 3 (ipykernel)",
   "language": "python",
   "name": "python3"
  },
  "language_info": {
   "codemirror_mode": {
    "name": "ipython",
    "version": 3
   },
   "file_extension": ".py",
   "mimetype": "text/x-python",
   "name": "python",
   "nbconvert_exporter": "python",
   "pygments_lexer": "ipython3",
   "version": "3.11.5"
  }
 },
 "nbformat": 4,
 "nbformat_minor": 5
}
