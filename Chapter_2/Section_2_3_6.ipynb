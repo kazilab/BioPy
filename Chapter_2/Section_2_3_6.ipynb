{
 "cells": [
  {
   "cell_type": "markdown",
   "id": "782e6274",
   "metadata": {},
   "source": [
    "# Chapter 2"
   ]
  },
  {
   "attachments": {},
   "cell_type": "markdown",
   "id": "8f7abc2e",
   "metadata": {},
   "source": [
    "# 2.3.6. Error handling in control structures"
   ]
  },
  {
   "attachments": {},
   "cell_type": "markdown",
   "id": "093ab7aa",
   "metadata": {},
   "source": [
    "Using try and except without finally"
   ]
  },
  {
   "cell_type": "code",
   "execution_count": 1,
   "id": "d1b91d8d",
   "metadata": {},
   "outputs": [
    {
     "name": "stdout",
     "output_type": "stream",
     "text": [
      "Trying to convert input to an integer.\n",
      "Enter a number: x\n",
      "That's not a number!\n"
     ]
    }
   ],
   "source": [
    "try:\n",
    "    print(\"Trying to convert input to an integer.\")\n",
    "    number = int(input(\"Enter a number: \"))\n",
    "except ValueError:\n",
    "    print(\"That's not a number!\")"
   ]
  },
  {
   "cell_type": "markdown",
   "id": "18f2e68b",
   "metadata": {},
   "source": [
    "Using try and finally without except"
   ]
  },
  {
   "cell_type": "code",
   "execution_count": 2,
   "id": "6fcc9dec",
   "metadata": {},
   "outputs": [
    {
     "name": "stdout",
     "output_type": "stream",
     "text": [
      "File closed.\n"
     ]
    }
   ],
   "source": [
    "try:\n",
    "    file = open(\"example_data/data.txt\")\n",
    "    data = file.read()\n",
    "finally:\n",
    "    file.close()\n",
    "    print(\"File closed.\")"
   ]
  },
  {
   "cell_type": "markdown",
   "id": "6d1834bf",
   "metadata": {},
   "source": [
    "Using try, except, else, and finally"
   ]
  },
  {
   "cell_type": "code",
   "execution_count": 3,
   "id": "ea0712e0",
   "metadata": {},
   "outputs": [
    {
     "name": "stdout",
     "output_type": "stream",
     "text": [
      "Trying to divide numbers.\n",
      "Division successful: 5.0\n",
      "Execution completed.\n"
     ]
    }
   ],
   "source": [
    "try:\n",
    "    print(\"Trying to divide numbers.\")\n",
    "    result = 10 / 2\n",
    "except ZeroDivisionError:\n",
    "    print(\"Divided by zero.\")\n",
    "else:\n",
    "    print(\"Division successful:\", result)\n",
    "finally:\n",
    "    print(\"Execution completed.\")"
   ]
  },
  {
   "cell_type": "markdown",
   "id": "22f39cbb",
   "metadata": {},
   "source": [
    "Another example with a function"
   ]
  },
  {
   "cell_type": "code",
   "execution_count": 4,
   "id": "c92ccda1",
   "metadata": {},
   "outputs": [
    {
     "name": "stdout",
     "output_type": "stream",
     "text": [
      "The result is 2.0\n",
      "Executing finally clause.\n",
      "Sorry, division by zero is not allowed.\n",
      "Executing finally clause.\n"
     ]
    }
   ],
   "source": [
    "def divide(x, y):\n",
    "    try:\n",
    "        result = x / y\n",
    "    except ZeroDivisionError:\n",
    "        print(\"Sorry, division by zero is not allowed.\")\n",
    "    else:\n",
    "        print(\"The result is\", result)\n",
    "    finally:\n",
    "        print(\"Executing finally clause.\")\n",
    "# Test the function\n",
    "divide(2, 1)  # Normal division\n",
    "divide(2, 0)  # Division by zero"
   ]
  },
  {
   "cell_type": "markdown",
   "id": "0a03f0c2",
   "metadata": {},
   "source": [
    "Handling specific exceptions"
   ]
  },
  {
   "cell_type": "code",
   "execution_count": 5,
   "id": "2993739e",
   "metadata": {},
   "outputs": [
    {
     "name": "stdout",
     "output_type": "stream",
     "text": [
      "The result is: 5.0\n",
      "Error: Division by zero is not allowed.\n",
      "Error: Non-numeric types cannot be divided.\n"
     ]
    }
   ],
   "source": [
    "def divide_numbers(num1, num2):\n",
    "    try:\n",
    "        result = num1 / num2\n",
    "    except ZeroDivisionError:\n",
    "        print(\"Error: Division by zero is not allowed.\")\n",
    "    except TypeError:\n",
    "        print(\"Error: Non-numeric types cannot be divided.\")\n",
    "    else:\n",
    "        print(\"The result is:\", result)\n",
    "# Example usage\n",
    "divide_numbers(10, 2)  # This will execute without any errors\n",
    "divide_numbers(10, 0)  # This will trigger the ZeroDivisionError\n",
    "divide_numbers(\"10\", 2)  # This will trigger the TypeError"
   ]
  },
  {
   "cell_type": "markdown",
   "id": "de43c43f",
   "metadata": {},
   "source": [
    "Multiple exception blocks"
   ]
  },
  {
   "cell_type": "code",
   "execution_count": 6,
   "id": "3ebd19bc",
   "metadata": {},
   "outputs": [
    {
     "name": "stdout",
     "output_type": "stream",
     "text": [
      "15\n",
      "Cannot divide by zero\n",
      "Both operands must be numbers\n",
      "Unsupported operation\n"
     ]
    }
   ],
   "source": [
    "def calculate_operation(a, b, operation):\n",
    "    try:\n",
    "        if operation == \"add\":\n",
    "            return a + b\n",
    "        elif operation == \"subtract\":\n",
    "            return a - b\n",
    "        elif operation == \"multiply\":\n",
    "            return a * b\n",
    "        elif operation == \"divide\":\n",
    "            return a / b\n",
    "        else:\n",
    "            raise ValueError(\"Unsupported operation\")\n",
    "    except ZeroDivisionError:\n",
    "        return \"Cannot divide by zero\"\n",
    "    except TypeError:\n",
    "        return \"Both operands must be numbers\"\n",
    "    except ValueError as ve:\n",
    "        return str(ve)\n",
    "# Example usage\n",
    "print(calculate_operation(10, 5, \"add\"))      # Performs addition\n",
    "print(calculate_operation(10, 0, \"divide\"))   # Handles ZeroDivisionError\n",
    "print(calculate_operation(10, \"five\", \"add\")) # Handles TypeError\n",
    "print(calculate_operation(10, 5, \"mod\"))      # Handles ValueError for unsupported operation"
   ]
  }
 ],
 "metadata": {
  "kernelspec": {
   "display_name": "Python 3 (ipykernel)",
   "language": "python",
   "name": "python3"
  },
  "language_info": {
   "codemirror_mode": {
    "name": "ipython",
    "version": 3
   },
   "file_extension": ".py",
   "mimetype": "text/x-python",
   "name": "python",
   "nbconvert_exporter": "python",
   "pygments_lexer": "ipython3",
   "version": "3.11.9"
  }
 },
 "nbformat": 4,
 "nbformat_minor": 5
}
