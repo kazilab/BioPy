{
 "cells": [
  {
   "cell_type": "markdown",
   "id": "782e6274",
   "metadata": {},
   "source": [
    "# Chapter 3"
   ]
  },
  {
   "cell_type": "markdown",
   "id": "8f7abc2e",
   "metadata": {},
   "source": [
    "# 3.4.1. Reading flat files"
   ]
  },
  {
   "cell_type": "markdown",
   "id": "c6ce4bd0",
   "metadata": {},
   "source": [
    "Using Python's built-in functions"
   ]
  },
  {
   "cell_type": "code",
   "execution_count": 1,
   "id": "d1b91d8d",
   "metadata": {},
   "outputs": [
    {
     "name": "stdout",
     "output_type": "stream",
     "text": [
      "index\tfeature_1\tfeature_2\tfeature_3\tfeature_4\tfeature_5\n",
      "sample_1\t1\t2\t4\t1\t7\n",
      "sample_2\t5\t5\t8\t4\t21\n",
      "sample_3\t7\t4\t11\t5\t27\n",
      "sample_4\t3\t2\t14\t1\t20\n",
      "sample_5\t0\t2\t0\t0\t2\n",
      "sample_6\t6\t6\t7\t5\t24\n",
      "sample_7\t11\t6\t13\t8\t37\n",
      "sample_8\t2\t3\t6\t1\t11\n",
      "sample_9\t5\t4\t8\t4\t21\n",
      "sample_10\t6\t5\t8\t5\t24\n",
      "sample_11\t7\t6\t8\t5\t27\n",
      "sample_12\t8\t5\t11\t5\t30\n",
      "sample_13\t3\t5\t5\t3\t15\n",
      "sample_14\t10\t9\t8\t8\t35\n",
      "sample_15\t13\t13\t7\t12\t45\n",
      "sample_16\t22\t13\t12\t16\t63\n",
      "sample_17\t5\t4\t8\t4\t21\n",
      "sample_18\t6\t5\t9\t4\t24\n",
      "sample_19\t5\t4\t8\t4\t21\n",
      "sample_20\t6\t3\t14\t4\t27\n"
     ]
    }
   ],
   "source": [
    "# Reading a text file line by line\n",
    "with open('example_data/data.txt', 'r') as file:\n",
    "    for line in file:\n",
    "        print(line.strip())  # strip() removes any leading/trailing whitespace"
   ]
  },
  {
   "cell_type": "code",
   "execution_count": 2,
   "id": "9169cdcb",
   "metadata": {},
   "outputs": [
    {
     "name": "stdout",
     "output_type": "stream",
     "text": [
      "['index', 'feature_1', 'feature_2', 'feature_3', 'feature_4', 'feature_5']\n",
      "['sample_1', '1', '2', '4', '1', '7']\n",
      "['sample_2', '5', '5', '8', '4', '21']\n",
      "['sample_3', '7', '4', '11', '5', '27']\n",
      "['sample_4', '3', '2', '14', '1', '20']\n",
      "['sample_5', '0', '2', '0', '0', '2']\n",
      "['sample_6', '6', '6', '7', '5', '24']\n",
      "['sample_7', '11', '6', '13', '8', '37']\n",
      "['sample_8', '2', '3', '6', '1', '11']\n",
      "['sample_9', '5', '4', '8', '4', '21']\n",
      "['sample_10', '6', '5', '8', '5', '24']\n",
      "['sample_11', '7', '6', '8', '5', '27']\n",
      "['sample_12', '8', '5', '11', '5', '30']\n",
      "['sample_13', '3', '5', '5', '3', '15']\n",
      "['sample_14', '10', '9', '8', '8', '35']\n",
      "['sample_15', '13', '13', '7', '12', '45']\n",
      "['sample_16', '22', '13', '12', '16', '63']\n",
      "['sample_17', '5', '4', '8', '4', '21']\n",
      "['sample_18', '6', '5', '9', '4', '24']\n",
      "['sample_19', '5', '4', '8', '4', '21']\n",
      "['sample_20', '6', '3', '14', '4', '27']\n"
     ]
    }
   ],
   "source": [
    "# Reading a CSV file using the csv module\n",
    "import csv\n",
    "\n",
    "with open('example_data/data.csv', 'r') as file:\n",
    "    reader = csv.reader(file, delimiter=',')  # Use semicolon, if it is used as the delimiter)\n",
    "    for row in reader:\n",
    "        print(row)  # Each row is read as a list"
   ]
  },
  {
   "cell_type": "markdown",
   "id": "b929033a",
   "metadata": {},
   "source": [
    "Using Pandas"
   ]
  },
  {
   "cell_type": "code",
   "execution_count": 3,
   "id": "3b37e061",
   "metadata": {},
   "outputs": [
    {
     "name": "stdout",
     "output_type": "stream",
     "text": [
      "Requirement already satisfied: pandas in /Users/julhashkazi/anaconda3/envs/PyBook/lib/python3.11/site-packages (2.2.3)\n",
      "Requirement already satisfied: numpy>=1.23.2 in /Users/julhashkazi/anaconda3/envs/PyBook/lib/python3.11/site-packages (from pandas) (1.26.4)\n",
      "Requirement already satisfied: python-dateutil>=2.8.2 in /Users/julhashkazi/anaconda3/envs/PyBook/lib/python3.11/site-packages (from pandas) (2.9.0.post0)\n",
      "Requirement already satisfied: pytz>=2020.1 in /Users/julhashkazi/anaconda3/envs/PyBook/lib/python3.11/site-packages (from pandas) (2024.2)\n",
      "Requirement already satisfied: tzdata>=2022.7 in /Users/julhashkazi/anaconda3/envs/PyBook/lib/python3.11/site-packages (from pandas) (2024.1)\n",
      "Requirement already satisfied: six>=1.5 in /Users/julhashkazi/anaconda3/envs/PyBook/lib/python3.11/site-packages (from python-dateutil>=2.8.2->pandas) (1.16.0)\n",
      "Note: you may need to restart the kernel to use updated packages.\n"
     ]
    }
   ],
   "source": [
    "# Install pandas\n",
    "%pip install pandas"
   ]
  },
  {
   "cell_type": "code",
   "execution_count": 4,
   "id": "24915823",
   "metadata": {},
   "outputs": [],
   "source": [
    "# import pandas as pd\n",
    "import pandas as pd"
   ]
  },
  {
   "cell_type": "code",
   "execution_count": 5,
   "id": "e2111ae0",
   "metadata": {},
   "outputs": [
    {
     "name": "stdout",
     "output_type": "stream",
     "text": [
      "          feature_1  feature_2  feature_3  feature_4  feature_5\n",
      "index                                                          \n",
      "sample_1          1          2          4          1          7\n",
      "sample_2          5          5          8          4         21\n",
      "sample_3          7          4         11          5         27\n",
      "sample_4          3          2         14          1         20\n",
      "sample_5          0          2          0          0          2\n"
     ]
    }
   ],
   "source": [
    "# Reading a txt or tsv file\n",
    "df = pd.read_csv('example_data/data.txt', sep = '\\t', index_col=0)\n",
    "print(df.head())"
   ]
  },
  {
   "cell_type": "code",
   "execution_count": 6,
   "id": "53f04773",
   "metadata": {},
   "outputs": [
    {
     "name": "stdout",
     "output_type": "stream",
     "text": [
      "          feature_1  feature_2  feature_3  feature_4  feature_5\n",
      "index                                                          \n",
      "sample_1          1          2          4          1          7\n",
      "sample_2          5          5          8          4         21\n",
      "sample_3          7          4         11          5         27\n",
      "sample_4          3          2         14          1         20\n",
      "sample_5          0          2          0          0          2\n"
     ]
    }
   ],
   "source": [
    "# Reading a CSV file\n",
    "df = pd.read_csv('example_data/data.csv', sep = ',', index_col = 0)\n",
    "print(df.head())"
   ]
  },
  {
   "cell_type": "code",
   "execution_count": 7,
   "id": "b049461f",
   "metadata": {},
   "outputs": [
    {
     "name": "stdout",
     "output_type": "stream",
     "text": [
      "          feature_1  feature_2  feature_3  feature_4  feature_5\n",
      "index                                                          \n",
      "sample_1          1          2          4          1          7\n",
      "sample_2          5          5          8          4         21\n",
      "sample_3          7          4         11          5         27\n",
      "sample_4          3          2         14          1         20\n",
      "sample_5          0          2          0          0          2\n"
     ]
    }
   ],
   "source": [
    "# Reading a txt or tsv file using read_table\n",
    "df = pd.read_table('example_data/data.txt', index_col = 0)\n",
    "print(df.head())"
   ]
  },
  {
   "cell_type": "code",
   "execution_count": null,
   "id": "f5acc56d",
   "metadata": {},
   "outputs": [],
   "source": []
  }
 ],
 "metadata": {
  "kernelspec": {
   "display_name": "Python 3 (ipykernel)",
   "language": "python",
   "name": "python3"
  },
  "language_info": {
   "codemirror_mode": {
    "name": "ipython",
    "version": 3
   },
   "file_extension": ".py",
   "mimetype": "text/x-python",
   "name": "python",
   "nbconvert_exporter": "python",
   "pygments_lexer": "ipython3",
   "version": "3.11.9"
  }
 },
 "nbformat": 4,
 "nbformat_minor": 5
}
