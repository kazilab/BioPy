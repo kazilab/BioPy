{
 "cells": [
  {
   "cell_type": "markdown",
   "id": "782e6274",
   "metadata": {},
   "source": [
    "# Chapter 3"
   ]
  },
  {
   "cell_type": "markdown",
   "id": "8f7abc2e",
   "metadata": {},
   "source": [
    "# 3.4.4. Importing medical imaging data"
   ]
  },
  {
   "cell_type": "markdown",
   "id": "96b26ce7",
   "metadata": {},
   "source": [
    "Working with DICOM Files using pydicom"
   ]
  },
  {
   "cell_type": "code",
   "execution_count": null,
   "id": "c5362492",
   "metadata": {},
   "outputs": [],
   "source": [
    "# Install pydicom using pip\n",
    "%pip install pydicom"
   ]
  },
  {
   "cell_type": "code",
   "execution_count": null,
   "id": "4257d447",
   "metadata": {},
   "outputs": [],
   "source": [
    "# Import the necessary library for reading DICOM files\n",
    "import pydicom\n",
    "\n",
    "# Example DICOM image was downloaded from the Cancer Imaging Archive: \n",
    "# https://www.cancerimagingarchive.net/collection/cmb-aml/\n",
    "dicom_file_path = 'example_data/example_image.dcm'\n",
    "\n",
    "# Read the DICOM file into a pydicom dataset object\n",
    "ds = pydicom.dcmread(dicom_file_path)\n",
    "\n",
    "# Check if the dataset contains pixel data (to avoid errors)\n",
    "if hasattr(ds, 'pixel_array'):\n",
    "    # Access the pixel data from the DICOM file and store it in a NumPy array\n",
    "    image_data = ds.pixel_array\n",
    "    print(\"Image shape:\", image_data.shape)  # Display the shape of the image data\n",
    "else:\n",
    "    raise ValueError(\"The DICOM file does not contain pixel data.\")\n",
    "\n",
    "# Access basic metadata (examples)\n",
    "patient_name = ds.get('PatientName', 'N/A')  # Use .get() to avoid errors if the attribute is missing\n",
    "patient_id = ds.get('PatientID', 'N/A')\n",
    "study_date = ds.get('StudyDate', 'N/A')\n",
    "modality = ds.get('Modality', 'N/A')\n",
    "\n",
    "# Print the extracted metadata\n",
    "print(f\"Patient Name: {patient_name}\")\n",
    "print(f\"Patient ID: {patient_id}\")\n",
    "print(f\"Study Date: {study_date}\")\n",
    "print(f\"Modality: {modality}\")\n",
    "\n",
    "# Additional metadata can be accessed similarly using the appropriate DICOM tag names"
   ]
  },
  {
   "cell_type": "code",
   "execution_count": null,
   "id": "9169cdcb",
   "metadata": {},
   "outputs": [],
   "source": [
    "# You may need to install matplotlib, use \"%pip install matplotlib\"\n",
    "import matplotlib.pyplot as plt\n",
    "\n",
    "plt.imshow(image_data, cmap='gray')\n",
    "plt.title(\"DICOM Image\")\n",
    "plt.axis('off')  # Turn off axis labels\n",
    "plt.show()"
   ]
  },
  {
   "cell_type": "markdown",
   "id": "dc8a7a19",
   "metadata": {},
   "source": [
    "Medical image processing with SimpleITK"
   ]
  },
  {
   "cell_type": "code",
   "execution_count": null,
   "id": "986d315d",
   "metadata": {},
   "outputs": [],
   "source": [
    "# Installation\n",
    "%pip install SimpleITK"
   ]
  },
  {
   "cell_type": "code",
   "execution_count": null,
   "id": "cf056ea7",
   "metadata": {},
   "outputs": [],
   "source": [
    "import SimpleITK as sitk\n",
    "import matplotlib.pyplot as plt\n",
    "\n",
    "# Replace 'path/to/medical/image.nii' with the path to your medical image file (e.g., .nii, .mhd)\n",
    "image_path = 'example_data/example_image.nii'\n",
    "image = sitk.ReadImage(image_path)\n",
    "\n",
    "# Apply a Gaussian smoothing filter to the image\n",
    "smoothed_image = sitk.SmoothingRecursiveGaussian(image, sigma=2)\n",
    "\n",
    "# Convert the SimpleITK image to a NumPy array for visualization\n",
    "smoothed_array = sitk.GetArrayFromImage(smoothed_image)\n",
    "\n",
    "# Display the smoothed image using matplotlib\n",
    "# If the image is 3D, select a specific slice for visualization (e.g., the middle slice)\n",
    "if smoothed_array.ndim == 3:  # Check if the image is 3D\n",
    "    middle_slice = smoothed_array[smoothed_array.shape[0] // 2]  # Select the middle slice\n",
    "    plt.imshow(middle_slice, cmap='gray')\n",
    "else:\n",
    "    plt.imshow(smoothed_array, cmap='gray')\n",
    "\n",
    "# Add a title and display the image\n",
    "plt.title(\"Smoothed Image\")\n",
    "plt.axis('off')  # Turn off axis labels\n",
    "plt.show()"
   ]
  },
  {
   "cell_type": "markdown",
   "id": "b3222682",
   "metadata": {},
   "source": [
    "Image processing with OpenCV"
   ]
  },
  {
   "cell_type": "code",
   "execution_count": null,
   "id": "753bbda4",
   "metadata": {},
   "outputs": [],
   "source": [
    "# Installing OpenCV\n",
    "%pip install opencv-python"
   ]
  },
  {
   "cell_type": "code",
   "execution_count": null,
   "id": "efac574d",
   "metadata": {},
   "outputs": [],
   "source": [
    "import cv2\n",
    "\n",
    "# Read an image in grayscale mode\n",
    "image_path = 'example_data/example_image.jpg'\n",
    "image = cv2.imread(image_path, cv2.IMREAD_GRAYSCALE)\n",
    "\n",
    "# Apply a Gaussian blur filter\n",
    "blurred_image = cv2.GaussianBlur(image, (5, 5), 0)\n",
    "\n",
    "# Perform binary thresholding\n",
    "_, thresholded_image = cv2.threshold(blurred_image, 127, 255, cv2.THRESH_BINARY)\n",
    "\n",
    "# Display the processed image\n",
    "cv2.imshow(\"Processed Image\", thresholded_image)\n",
    "cv2.waitKey(0)\n",
    "cv2.destroyAllWindows()"
   ]
  }
 ],
 "metadata": {
  "kernelspec": {
   "display_name": "Python 3 (ipykernel)",
   "language": "python",
   "name": "python3"
  },
  "language_info": {
   "codemirror_mode": {
    "name": "ipython",
    "version": 3
   },
   "file_extension": ".py",
   "mimetype": "text/x-python",
   "name": "python",
   "nbconvert_exporter": "python",
   "pygments_lexer": "ipython3",
   "version": "3.11.9"
  }
 },
 "nbformat": 4,
 "nbformat_minor": 5
}
