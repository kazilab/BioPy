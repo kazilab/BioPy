{
 "cells": [
  {
   "cell_type": "markdown",
   "id": "782e6274",
   "metadata": {},
   "source": [
    "# Chapter 3"
   ]
  },
  {
   "attachments": {},
   "cell_type": "markdown",
   "id": "8f7abc2e",
   "metadata": {},
   "source": [
    "# 3.4.5. Reading genomic data"
   ]
  },
  {
   "cell_type": "code",
   "execution_count": null,
   "id": "c5362492",
   "metadata": {},
   "outputs": [],
   "source": [
    "# Install Biopython using pip\n",
    "%pip install biopython"
   ]
  },
  {
   "cell_type": "code",
   "execution_count": 2,
   "id": "4257d447",
   "metadata": {},
   "outputs": [
    {
     "name": "stdout",
     "output_type": "stream",
     "text": [
      "ID: crab_anapl\n",
      "Sequence: MDITIHNPLIRRPLFSWLAPSRIFDQIFGEHLQESELLPASPSLSPFLMRSPIFRMPSWLETGLSEMRLEKDKFSVNLDVKHFSPEELKVKVLGDMVEIHGKHEERQDEHGFIAREFNRKYRIPADVDPLTITSSLSLDGVLTVSAPRKQSDVPERSIPITREEKPAIAGAQRK\n",
      "\n",
      "ID: crab_bovin\n",
      "Sequence: MDIAIHHPWIRRPFFPFHSPSRLFDQFFGEHLLESDLFPASTSLSPFYLRPPSFLRAPSWIDTGLSEMRLEKDRFSVNLDVKHFSPEELKVKVLGDVIEVHGKHEERQDEHGFISREFHRKYRIPADVDPLAITSSLSSDGVLTVNGPRKQASGPERTIPITREEKPAVTAAPKK\n",
      "\n",
      "ID: crab_chick\n",
      "Sequence: MDITIHNPLVRRPLFSWLTPSRIFDQIFGEHLQESELLPTSPSLSPFLMRSPFFRMPSWLETGLSEMRLEKDKFSVNLDVKHFSPEELKVKVLGDMIEIHGKHEERQDEHGFIAREFSRKYRIPADVDPLTITSSLSLDGVLTVSAPRKQSDVPERSIPITREEKPAIAGSQRK\n",
      "\n",
      "ID: crab_human\n",
      "Sequence: MDIAIHHPWIRRPFFPFHSPSRLFDQFFGEHLLESDLFPTSTSLSPFYLRPPSFLRAPSWFDTGLSEMRLEKDRFSVNLDVKHFSPEELKVKVLGDVIEVHGKHEERQDEHGFISREFHRKYRIPADVDPLTITSSLSSDGVLTVNGPRKQVSGPERTIPITREEKPAVTAAPKK\n",
      "\n",
      "ID: crab_mesau\n",
      "Sequence: MDIAIHHPWIRRPFFPFHSPSRLFDQFFGEHLLESDLFSTATSLSPFYLRPPSFLRAPSWIDTGLSEMRMEKDRFSVNLDVKHFSPEELKVKVLGDVVEVHGKHEERQDEHGFISREFHRKYRIPADVDPLTITSSLSSDGVLTVNGPRKQASGPERTIPITREEKPAVTAAPKK\n",
      "\n",
      "ID: crab_mouse\n",
      "Sequence: MDIAIHHPWIRRPFFPFHSPSRLFDQFFGEHLLESDLFSTATSLSPFYLRPPSFLRAPSWIDTGLSEMRLEKDRFSVNLDVKHFSPEELKVKVLGDVIEVHGKHEERQDEHGFISREFHRKYRIPADVDPLAITSSLSSDGVLTVNGPRKQVSGPERTIPITREEKPAVAAAPKK\n",
      "\n",
      "ID: crab_rabit\n",
      "Sequence: MDIAIHHPWIRRPFFPFHSPSRLFDQFFGEHLLESDLFPTSTSLSPFYLRPPSFLRAPSWIDTGLSEMRLEKDRFSVNLDVKHFSPEELKVKVLGDVIEVHGKHEERQDEHGFISREFHRKYRIPADVDPLTITSSLSSDGVLTVNGPRKQAPGPERTIPITREEKPAVTAAPKK\n",
      "\n",
      "ID: crab_rat\n",
      "Sequence: MDIAIHHPWIRRPFFPFHSPSRLFDQFFGEHLLESDLFSTATSLSPFYLRPPSFLRAPSWIDTGLSEMRMEKDRFSVNLDVKHFSPEELKVKVLGDVIEVHGKHEERQDEHGFISREFHRKYRIPADVDPLTITSSLSSDGVLTVNGPRKQASGPERTIPITREEKPAVTAAPKK\n",
      "\n",
      "ID: crab_squac\n",
      "Sequence: MDIAIQHPWLRRPLFPSSIFPSRIFDQNFGEHFDPDLFPSFSSMLSPFYWRMGAPMARMPSWAQTGLSELRLDKDKFAIHLDVKHFTPEELRVKILGDFIEVQAQHEERQDEHGYVSREFHRKYKVPAGVDPLVITCSLSADGVLTITGPRKVADVPERSVPISRDEKPAVAGPQQK\n",
      "\n"
     ]
    }
   ],
   "source": [
    "# Reading Fasta Files\n",
    "from Bio import SeqIO\n",
    "\n",
    "# Example data was taken from https://www.bioinformatics.nl/tools/crab_fasta.html\n",
    "fasta_file = 'example_data/example.fasta'\n",
    "# Reading sequences from a Fasta file\n",
    "for seq_record in SeqIO.parse(fasta_file, 'fasta'):\n",
    "    print(f\"ID: {seq_record.id}\")\n",
    "    print(f\"Sequence: {seq_record.seq}\\n\")"
   ]
  },
  {
   "cell_type": "code",
   "execution_count": 1,
   "id": "9169cdcb",
   "metadata": {},
   "outputs": [
    {
     "name": "stdout",
     "output_type": "stream",
     "text": [
      "ID: 493d8cb5-bd62-470f-b846-5c7b717d0eb6\n",
      "Sequence: CAGTGCACAGTTCAGTTTGCGGTGGGTGGTGTTTGTGGATCATCATCTACCGTGACCTTGTCAGGGTTTGTGTAGCCTTTCTGTGGTGCTTTGATATTGCCGAAATCGGTAGACTACGGACTTAAAATCATTGATTGTATGAAGTCAATGGGAGTTCAAGAATCCCTCTATCACGAGGAGTAGGCGACGAGCGATAAAAAGGTTACACAAACCCTGAACATAGAT\n",
      "Quality: [7, 3, 3, 4, 4, 3, 3, 5, 3, 3, 5, 6, 12, 4, 5, 10, 14, 5, 4, 5, 4, 4, 9, 4, 9, 12, 6, 10, 5, 3, 6, 4, 5, 5, 3, 5, 3, 5, 6, 4, 5, 4, 2, 3, 9, 3, 3, 11, 6, 7, 11, 16, 24, 23, 23, 23, 29, 25, 26, 10, 5, 18, 11, 14, 9, 26, 8, 10, 24, 14, 18, 6, 8, 11, 3, 9, 9, 9, 10, 16, 4, 6, 10, 19, 22, 25, 27, 26, 3, 3, 7, 18, 15, 12, 7, 7, 9, 13, 13, 20, 21, 13, 12, 19, 26, 23, 28, 14, 17, 17, 13, 18, 6, 7, 12, 6, 21, 12, 16, 22, 13, 28, 28, 34, 34, 20, 12, 3, 9, 3, 4, 10, 28, 18, 19, 23, 6, 3, 5, 4, 2, 3, 5, 3, 5, 7, 2, 2, 9, 2, 5, 8, 3, 23, 32, 28, 23, 11, 13, 3, 3, 3, 20, 20, 27, 27, 20, 34, 29, 12, 7, 17, 3, 11, 6, 6, 4, 5, 3, 3, 5, 4, 3, 9, 19, 20, 16, 14, 4, 2, 15, 7, 3, 6, 12, 21, 25, 17, 9, 5, 8, 6, 5, 11, 9, 12, 9, 10, 11, 18, 14, 32, 30, 29, 19, 19, 11, 10, 11, 5, 8, 4, 5, 3, 4]\n",
      "\n",
      "ID: 6fd0c812-27d7-46ee-8ed2-e3519039f89f\n",
      "Sequence: CGTGTACTTCCGTTATTTCTCGAACAGGTGTTTATGATATACATACCGTGACCTTGTCCATTTGTGTAACCTTACTTGCCTGTCGCTCTATCTTCGGGGATAGAGGGACTTGAGTATCGATTTCACAAATCAACGGTTTAAAGTCATAGCGTCTGCCGATTTCATCATCAGCTTTCCACTTTGAGAAAAAAAGAAGAAGTTATAAAACCTGGACCAAGAGT\n",
      "Quality: [3, 5, 11, 9, 8, 4, 6, 6, 7, 3, 5, 6, 4, 3, 6, 2, 3, 9, 9, 3, 12, 4, 4, 3, 3, 3, 9, 7, 31, 25, 18, 19, 6, 4, 13, 12, 9, 13, 9, 4, 3, 13, 4, 11, 12, 22, 24, 28, 32, 29, 28, 27, 29, 23, 33, 24, 8, 8, 11, 9, 5, 8, 13, 15, 21, 15, 14, 15, 13, 10, 10, 10, 12, 18, 18, 24, 24, 16, 18, 15, 25, 24, 24, 25, 20, 26, 25, 21, 18, 22, 18, 16, 10, 7, 19, 8, 12, 25, 25, 33, 28, 27, 25, 8, 19, 17, 20, 25, 12, 12, 10, 12, 5, 12, 8, 4, 12, 9, 16, 16, 14, 20, 17, 23, 19, 19, 20, 21, 19, 16, 26, 8, 9, 15, 4, 7, 3, 4, 5, 4, 6, 5, 4, 3, 16, 4, 3, 11, 9, 24, 20, 16, 16, 9, 3, 6, 13, 15, 11, 15, 19, 6, 12, 5, 3, 4, 7, 3, 9, 5, 3, 2, 3, 3, 3, 3, 6, 3, 2, 3, 4, 6, 7, 4, 3, 4, 10, 9, 5, 7, 7, 4, 4, 5, 7, 2, 7, 5, 4, 4, 5, 2, 3, 4, 5, 3, 4, 2, 2, 3, 4, 6, 3, 2, 3, 3, 4, 3, 3, 4, 3]\n",
      "\n",
      "ID: ac41ad11-3f2f-4707-9a2f-425586464b9d\n",
      "Sequence: CGGTAGCCTTTAGTTCATTCTGAAGAACAGTTTAACTGATCACCTCTTCACCGTGACCTTGTCAGGGACATTATGGCTTTTTTTCTGTTGGTGCTGATATTGCCGAAATCGGTAGACGCTACGGACTTGCCAAATCCGTTGATTGTTTTAGATGTGGGTTCAAGTCCCTCTATCCCCGAAGATAGAGCGACGAGCAAGTAAAGTTACAAACCTGAACAAATC\n",
      "Quality: [11, 7, 10, 11, 8, 6, 3, 5, 3, 4, 4, 1, 5, 16, 5, 6, 5, 5, 8, 11, 2, 6, 3, 4, 2, 2, 3, 3, 3, 7, 3, 6, 11, 4, 4, 2, 4, 8, 5, 2, 6, 4, 4, 4, 6, 4, 4, 6, 6, 9, 6, 8, 7, 19, 9, 12, 17, 19, 15, 16, 10, 4, 16, 7, 17, 9, 8, 8, 8, 10, 12, 11, 3, 2, 2, 4, 5, 5, 6, 7, 9, 20, 20, 30, 29, 31, 21, 29, 29, 4, 10, 29, 25, 24, 32, 32, 24, 18, 18, 15, 17, 8, 11, 24, 6, 6, 23, 30, 22, 30, 11, 19, 20, 15, 16, 13, 15, 6, 5, 4, 4, 10, 18, 24, 25, 22, 27, 24, 3, 2, 4, 6, 9, 16, 18, 19, 22, 19, 29, 29, 30, 26, 27, 22, 5, 7, 7, 7, 5, 9, 6, 17, 10, 7, 9, 4, 6, 19, 30, 16, 15, 20, 21, 17, 17, 17, 26, 20, 22, 31, 33, 27, 6, 6, 8, 6, 6, 4, 4, 4, 15, 16, 14, 9, 8, 8, 10, 20, 16, 15, 15, 3, 2, 15, 21, 7, 8, 4, 5, 4, 5, 3, 8, 3, 4, 2, 7, 8, 9, 8, 16, 17, 11, 12, 3, 6, 8, 8, 8, 7, 4, 4]\n",
      "\n",
      "ID: ffe2299b-d0be-4fb3-afcf-b73e23a680da\n",
      "Sequence: CAGTGTCGCTGGTTCGATCAGGTACGTGTTTATGGATTATACGCCTACCGTGACCTTGTCGGGTTTGTGTAACCTCTTGCTGCCTATCGCTCTATCTTTGAGGATGAAGGACGAACTATCAAATTTTCACAAATCAGCAGTTTTAAGTCCGTAGCGTCTACCGATTTCGGCAATATCAGCATAACAGAAAAAGGTTACTGGAAGCCTGGACGGTC\n",
      "Quality: [9, 3, 5, 11, 4, 4, 4, 3, 3, 5, 3, 6, 7, 8, 5, 3, 3, 8, 11, 3, 4, 3, 6, 1, 3, 3, 6, 2, 3, 5, 5, 2, 3, 3, 5, 3, 3, 5, 9, 3, 4, 7, 3, 2, 3, 3, 2, 3, 4, 3, 17, 18, 16, 10, 16, 13, 22, 12, 4, 28, 3, 9, 29, 32, 33, 25, 17, 22, 22, 20, 18, 10, 5, 3, 5, 4, 7, 10, 3, 3, 8, 5, 5, 5, 3, 3, 8, 11, 9, 16, 18, 20, 15, 13, 11, 11, 16, 17, 12, 11, 5, 12, 7, 19, 15, 10, 12, 16, 10, 8, 6, 5, 5, 5, 7, 3, 3, 3, 4, 7, 4, 6, 8, 21, 25, 37, 18, 16, 11, 11, 10, 14, 19, 12, 10, 5, 7, 12, 4, 24, 5, 8, 40, 33, 21, 23, 21, 20, 20, 26, 22, 19, 17, 22, 18, 10, 7, 19, 4, 3, 9, 10, 8, 8, 15, 25, 14, 32, 22, 23, 29, 12, 14, 23, 21, 20, 13, 5, 10, 10, 7, 6, 3, 4, 7, 6, 6, 16, 17, 10, 8, 4, 10, 21, 19, 20, 15, 10, 10, 5, 7, 7, 3, 8, 7, 5, 6, 7, 12, 21, 18, 3, 7, 6, 4]\n",
      "\n",
      "ID: d5d48ac7-4cf0-40f3-9852-85004ae4277d\n",
      "Sequence: CAGTGATAATACTTCCGTTCATTTCGGAAGTACGGGTGTTTATGATATCATACTACCGTAGCCTTGTCAGGAGTTTGTGTAACCTTACTTGCCTGTCGCTCATCTTCGGGATGAGGGGACTTGAACCCTCACGATTTATTTGCAAATCGCTAACCTTTTCAATCGTAGCGTCCACTCGTTCAATATCAACTGCGCAAGGAAAGTTGCATAAACCTGGACAGATCT\n",
      "Quality: [6, 2, 4, 4, 4, 4, 4, 2, 3, 4, 3, 4, 5, 6, 3, 7, 12, 23, 10, 11, 2, 3, 4, 7, 16, 2, 4, 4, 4, 3, 2, 2, 7, 5, 8, 7, 27, 21, 17, 21, 22, 15, 14, 15, 7, 4, 2, 3, 7, 5, 5, 4, 5, 6, 3, 4, 5, 4, 3, 3, 4, 6, 6, 5, 8, 7, 3, 16, 9, 12, 4, 5, 17, 5, 7, 22, 10, 23, 12, 17, 12, 13, 4, 8, 4, 10, 11, 8, 8, 8, 9, 9, 7, 13, 10, 7, 10, 4, 13, 13, 6, 9, 21, 23, 23, 8, 8, 2, 7, 23, 22, 16, 4, 4, 5, 11, 18, 25, 19, 11, 11, 10, 11, 8, 13, 13, 16, 12, 12, 16, 13, 13, 10, 7, 11, 16, 8, 6, 8, 8, 8, 2, 5, 8, 14, 12, 8, 21, 3, 2, 2, 2, 3, 3, 4, 5, 6, 5, 4, 5, 3, 4, 5, 15, 19, 16, 9, 19, 20, 21, 3, 3, 16, 2, 2, 6, 6, 8, 3, 8, 11, 2, 6, 15, 9, 8, 26, 5, 5, 5, 5, 6, 4, 4, 5, 2, 4, 4, 4, 5, 9, 5, 4, 3, 5, 3, 3, 2, 3, 5, 10, 4, 21, 19, 22, 18, 20, 17, 10, 5, 7, 4, 3, 3, 3]\n",
      "\n",
      "ID: f7ec9a40-c52d-4b33-82e2-72c1b7340666\n",
      "Sequence: CAGTGTGTGCTTTGATTCCGGTACATCATTGTTTAATTGTTTATGATCACTTCGCCTACCGTGACCTTGTCCGGGTTTGTGTAACCTTTTTATTATTTAGTGCTGATATTGCCGAAATCGGTAGACGCTGCGGACTTAAATCGCGTTGATTGTAATAAATCGTGAGGTTCAGTCCTCTATCCCCGAAGATAGAGGCGGCAGGCAGTAAGGTTACACAAACCTGAACAAATC\n",
      "Quality: [9, 5, 4, 2, 3, 3, 2, 2, 2, 1, 2, 3, 5, 5, 2, 7, 10, 4, 6, 4, 5, 6, 2, 6, 3, 8, 8, 3, 4, 5, 4, 2, 3, 7, 2, 4, 1, 4, 5, 2, 5, 8, 2, 4, 4, 2, 3, 4, 3, 2, 5, 6, 7, 3, 3, 3, 8, 5, 9, 11, 11, 18, 10, 8, 4, 7, 5, 7, 8, 3, 3, 19, 3, 7, 14, 8, 12, 22, 17, 20, 17, 11, 3, 3, 5, 5, 4, 3, 2, 3, 6, 4, 4, 5, 3, 4, 5, 5, 2, 5, 10, 7, 6, 7, 5, 4, 7, 6, 6, 13, 11, 16, 17, 12, 10, 18, 14, 5, 19, 11, 17, 24, 24, 26, 23, 28, 26, 23, 23, 10, 29, 23, 30, 31, 24, 25, 25, 12, 12, 10, 4, 7, 3, 3, 10, 6, 12, 14, 13, 16, 19, 7, 5, 8, 9, 11, 7, 7, 5, 3, 7, 4, 7, 6, 6, 6, 20, 24, 9, 8, 2, 7, 9, 9, 14, 14, 28, 14, 6, 19, 19, 26, 25, 25, 17, 15, 15, 18, 25, 14, 12, 11, 5, 5, 17, 16, 4, 5, 9, 4, 9, 13, 10, 7, 6, 16, 12, 13, 5, 20, 12, 19, 8, 16, 13, 17, 14, 16, 7, 23, 20, 17, 18, 8, 8, 10, 5, 6, 4, 4, 5]\n",
      "\n"
     ]
    }
   ],
   "source": [
    "# Reading Fastq Files\n",
    "from Bio import SeqIO\n",
    "# Example FASTQ file was taken from https://zenodo.org/records/3736457\n",
    "fastq_file = 'example_data/example.fastq'\n",
    "# Reading sequences and quality scores from a Fastq file\n",
    "for seq_record in SeqIO.parse(fastq_file, 'fastq'):\n",
    "    print(f\"ID: {seq_record.id}\")\n",
    "    print(f\"Sequence: {seq_record.seq}\")\n",
    "    print(f\"Quality: {seq_record.letter_annotations['phred_quality']}\\n\")"
   ]
  },
  {
   "cell_type": "code",
   "execution_count": null,
   "id": "30341bc5",
   "metadata": {},
   "outputs": [],
   "source": []
  }
 ],
 "metadata": {
  "kernelspec": {
   "display_name": "Python 3 (ipykernel)",
   "language": "python",
   "name": "python3"
  },
  "language_info": {
   "codemirror_mode": {
    "name": "ipython",
    "version": 3
   },
   "file_extension": ".py",
   "mimetype": "text/x-python",
   "name": "python",
   "nbconvert_exporter": "python",
   "pygments_lexer": "ipython3",
   "version": "3.11.9"
  }
 },
 "nbformat": 4,
 "nbformat_minor": 5
}
