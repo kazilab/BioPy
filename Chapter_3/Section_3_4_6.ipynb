{
 "cells": [
  {
   "cell_type": "markdown",
   "id": "782e6274",
   "metadata": {},
   "source": [
    "# Chapter 3"
   ]
  },
  {
   "attachments": {},
   "cell_type": "markdown",
   "id": "8f7abc2e",
   "metadata": {},
   "source": [
    "# 3.4.6. Reading transcriptomic data"
   ]
  },
  {
   "cell_type": "code",
   "execution_count": null,
   "id": "c5362492",
   "metadata": {},
   "outputs": [],
   "source": [
    "# Install AnnData using pip\n",
    "%pip install anndata"
   ]
  },
  {
   "cell_type": "code",
   "execution_count": 1,
   "id": "4257d447",
   "metadata": {},
   "outputs": [
    {
     "name": "stdout",
     "output_type": "stream",
     "text": [
      "Data matrix shape: (100, 10)\n",
      "Cell types: ['type1' 'type2']\n",
      "Gene names: ['gene0', 'gene1', 'gene2', 'gene3', 'gene4', 'gene5', 'gene6', 'gene7', 'gene8', 'gene9']\n"
     ]
    }
   ],
   "source": [
    "import anndata as ad\n",
    "import numpy as np\n",
    "\n",
    "# Example: Creating an AnnData object with random data\n",
    "data_matrix = np.random.rand(100, 10)  # 100 cells, 10 genes\n",
    "obs_metadata = {'cell_type': ['type1']*50 + ['type2']*50}\n",
    "var_genes = {'gene_name': ['gene'+str(i) for i in range(10)]}\n",
    "\n",
    "# Creating the AnnData object\n",
    "adata = ad.AnnData(X=data_matrix, obs=obs_metadata, var=var_genes)\n",
    "\n",
    "# Accessing data\n",
    "print(\"Data matrix shape:\", adata.X.shape)\n",
    "print(\"Cell types:\", adata.obs['cell_type'].unique())\n",
    "print(\"Gene names:\", adata.var['gene_name'].tolist())\n",
    "\n",
    "# Saving the AnnData object to disk (HDF5 format)\n",
    "adata.write_h5ad('example_data/my_dataset.h5ad')\n",
    "\n",
    "# Loading AnnData object from disk\n",
    "adata_loaded = ad.read_h5ad('example_data/my_dataset.h5ad')"
   ]
  },
  {
   "cell_type": "code",
   "execution_count": null,
   "id": "30341bc5",
   "metadata": {},
   "outputs": [],
   "source": []
  }
 ],
 "metadata": {
  "kernelspec": {
   "display_name": "Python 3 (ipykernel)",
   "language": "python",
   "name": "python3"
  },
  "language_info": {
   "codemirror_mode": {
    "name": "ipython",
    "version": 3
   },
   "file_extension": ".py",
   "mimetype": "text/x-python",
   "name": "python",
   "nbconvert_exporter": "python",
   "pygments_lexer": "ipython3",
   "version": "3.11.9"
  }
 },
 "nbformat": 4,
 "nbformat_minor": 5
}
