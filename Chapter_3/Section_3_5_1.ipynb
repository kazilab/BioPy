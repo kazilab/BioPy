{
 "cells": [
  {
   "cell_type": "markdown",
   "id": "782e6274",
   "metadata": {},
   "source": [
    "# Chapter 3"
   ]
  },
  {
   "attachments": {},
   "cell_type": "markdown",
   "id": "8f7abc2e",
   "metadata": {},
   "source": [
    "# 3.5.1. Exporting to flat files"
   ]
  },
  {
   "attachments": {},
   "cell_type": "markdown",
   "id": "a57fe0b4",
   "metadata": {},
   "source": [
    "Writing to text files"
   ]
  },
  {
   "cell_type": "code",
   "execution_count": null,
   "id": "e8b52f3b",
   "metadata": {},
   "outputs": [],
   "source": [
    "with open(\"output.txt\", \"w\") as file:\n",
    "    file.write(\"Created by Python\")"
   ]
  },
  {
   "attachments": {},
   "cell_type": "markdown",
   "id": "6477c167",
   "metadata": {},
   "source": [
    "Writing lists or lines"
   ]
  },
  {
   "cell_type": "code",
   "execution_count": null,
   "id": "30341bc5",
   "metadata": {},
   "outputs": [],
   "source": [
    "lines = [\"First line\\n\", \"Second line\\n\"]\n",
    "with open(\"output2.txt\", \"w\") as file:\n",
    "    file.writelines(lines)"
   ]
  },
  {
   "attachments": {},
   "cell_type": "markdown",
   "id": "887370a9",
   "metadata": {},
   "source": [
    "With the csv module in Python’s standard library"
   ]
  },
  {
   "cell_type": "code",
   "execution_count": null,
   "id": "01d287c9",
   "metadata": {},
   "outputs": [],
   "source": [
    "import csv\n",
    "\n",
    "data = [[\"Name\", \"Age\"], [\"Jerry\", 30], [\"Tom\", 25]]\n",
    "with open(\"output.csv\", \"w\", newline=\"\") as file:\n",
    "    writer = csv.writer(file)\n",
    "    writer.writerows(data)"
   ]
  },
  {
   "cell_type": "markdown",
   "id": "d738d125",
   "metadata": {},
   "source": [
    "Using Pandas"
   ]
  },
  {
   "cell_type": "code",
   "execution_count": null,
   "id": "71834b11",
   "metadata": {},
   "outputs": [],
   "source": [
    "import pandas as pd\n",
    "\n",
    "data = data = pd.DataFrame([[\"Jerry\", 30], [\"Tom\", 25]], columns=[\"Name\", \"Age\"])\n",
    "data.to_csv('output2.csv', index=False)"
   ]
  },
  {
   "cell_type": "code",
   "execution_count": null,
   "id": "9562dd0a",
   "metadata": {},
   "outputs": [],
   "source": []
  }
 ],
 "metadata": {
  "kernelspec": {
   "display_name": "Python 3 (ipykernel)",
   "language": "python",
   "name": "python3"
  },
  "language_info": {
   "codemirror_mode": {
    "name": "ipython",
    "version": 3
   },
   "file_extension": ".py",
   "mimetype": "text/x-python",
   "name": "python",
   "nbconvert_exporter": "python",
   "pygments_lexer": "ipython3",
   "version": "3.11.9"
  }
 },
 "nbformat": 4,
 "nbformat_minor": 5
}
