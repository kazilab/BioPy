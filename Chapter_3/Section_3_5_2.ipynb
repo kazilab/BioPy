{
 "cells": [
  {
   "cell_type": "markdown",
   "id": "782e6274",
   "metadata": {},
   "source": [
    "# Chapter 3"
   ]
  },
  {
   "cell_type": "markdown",
   "id": "8f7abc2e",
   "metadata": {},
   "source": [
    "# 3.5.2. Exporting hierarchical data"
   ]
  },
  {
   "cell_type": "markdown",
   "id": "a57fe0b4",
   "metadata": {},
   "source": [
    "JSON format with the json library"
   ]
  },
  {
   "cell_type": "code",
   "execution_count": null,
   "id": "e8b52f3b",
   "metadata": {},
   "outputs": [],
   "source": [
    "import json\n",
    "\n",
    "data = {\"name\": \"Jerry\", \"age\": 30}\n",
    "with open(\"output.json\", \"w\") as file:\n",
    "    json.dump(data, file)"
   ]
  },
  {
   "cell_type": "markdown",
   "id": "6477c167",
   "metadata": {},
   "source": [
    "XML format with the xml.etree.ElementTree library"
   ]
  },
  {
   "cell_type": "code",
   "execution_count": null,
   "id": "30341bc5",
   "metadata": {},
   "outputs": [],
   "source": [
    "import xml.etree.ElementTree as ET\n",
    "\n",
    "# Create the root element\n",
    "root = ET.Element(\"Users\")\n",
    "\n",
    "# Add a child element (user) with sub-elements\n",
    "user = ET.SubElement(root, \"User\")\n",
    "name = ET.SubElement(user, \"Name\")\n",
    "name.text = \"Jerry\"\n",
    "age = ET.SubElement(user, \"Age\")\n",
    "age.text = \"30\"\n",
    "\n",
    "# Convert the XML structure to an ElementTree object\n",
    "tree = ET.ElementTree(root)\n",
    "\n",
    "# Save the XML to a file\n",
    "with open(\"output.xml\", \"wb\") as file:\n",
    "    tree.write(file, encoding=\"utf-8\", xml_declaration=True)"
   ]
  },
  {
   "cell_type": "markdown",
   "id": "887370a9",
   "metadata": {},
   "source": [
    "Pickle format with the pickle library"
   ]
  },
  {
   "cell_type": "code",
   "execution_count": null,
   "id": "01d287c9",
   "metadata": {},
   "outputs": [],
   "source": [
    "import pickle\n",
    "\n",
    "data = {\"name\": \"Jerry\", \"age\": 30}\n",
    "with open(\"output.pkl\", \"wb\") as file:\n",
    "    pickle.dump(data, file)"
   ]
  },
  {
   "cell_type": "code",
   "execution_count": null,
   "id": "ee25c769",
   "metadata": {},
   "outputs": [],
   "source": []
  }
 ],
 "metadata": {
  "kernelspec": {
   "display_name": "Python 3 (ipykernel)",
   "language": "python",
   "name": "python3"
  },
  "language_info": {
   "codemirror_mode": {
    "name": "ipython",
    "version": 3
   },
   "file_extension": ".py",
   "mimetype": "text/x-python",
   "name": "python",
   "nbconvert_exporter": "python",
   "pygments_lexer": "ipython3",
   "version": "3.11.9"
  }
 },
 "nbformat": 4,
 "nbformat_minor": 5
}
