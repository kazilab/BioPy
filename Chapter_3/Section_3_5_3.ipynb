{
 "cells": [
  {
   "cell_type": "markdown",
   "id": "782e6274",
   "metadata": {},
   "source": [
    "# Chapter 3"
   ]
  },
  {
   "attachments": {},
   "cell_type": "markdown",
   "id": "8f7abc2e",
   "metadata": {},
   "source": [
    "# 3.5.3. Handling large-scale data export"
   ]
  },
  {
   "attachments": {},
   "cell_type": "markdown",
   "id": "a57fe0b4",
   "metadata": {},
   "source": [
    "Writing data in chunks"
   ]
  },
  {
   "cell_type": "code",
   "execution_count": null,
   "id": "e8b52f3b",
   "metadata": {},
   "outputs": [],
   "source": [
    "import pandas as pd\n",
    "\n",
    "# Define a sample large dataset\n",
    "data = pd.DataFrame({\"ID\": range(1, 100000001), \"Value\": range(1, 100000001)})\n",
    "\n",
    "# Export the dataset in chunks to a CSV file\n",
    "chunk_size = 10000  # Number of rows per chunk\n",
    "for i in range(0, len(data), chunk_size):\n",
    "    data_chunk = data.iloc[i:i+chunk_size]\n",
    "    data_chunk.to_csv(\"large_data.csv\", mode=\"a\", index=False, header=(i == 0))"
   ]
  },
  {
   "attachments": {},
   "cell_type": "markdown",
   "id": "6477c167",
   "metadata": {},
   "source": [
    "Using HDF5 format with the h5py library"
   ]
  },
  {
   "cell_type": "code",
   "execution_count": null,
   "id": "30341bc5",
   "metadata": {},
   "outputs": [],
   "source": [
    "import h5py\n",
    "import numpy as np\n",
    "\n",
    "# Create a large dataset in memory\n",
    "data = np.random.random((10000, 10000))\n",
    "\n",
    "# Export the dataset to HDF5 format\n",
    "with h5py.File(\"large_data.h5\", \"w\") as h5file:\n",
    "    h5file.create_dataset(\"dataset\", data=data, compression=\"gzip\", chunks=(1000, 1000))"
   ]
  }
 ],
 "metadata": {
  "kernelspec": {
   "display_name": "Python 3 (ipykernel)",
   "language": "python",
   "name": "python3"
  },
  "language_info": {
   "codemirror_mode": {
    "name": "ipython",
    "version": 3
   },
   "file_extension": ".py",
   "mimetype": "text/x-python",
   "name": "python",
   "nbconvert_exporter": "python",
   "pygments_lexer": "ipython3",
   "version": "3.11.9"
  }
 },
 "nbformat": 4,
 "nbformat_minor": 5
}
