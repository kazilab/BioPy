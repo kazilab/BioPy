{
 "cells": [
  {
   "cell_type": "markdown",
   "id": "782e6274",
   "metadata": {},
   "source": [
    "# Chapter 3"
   ]
  },
  {
   "attachments": {},
   "cell_type": "markdown",
   "id": "8f7abc2e",
   "metadata": {},
   "source": [
    "# 3.5.4. Exporting processed imaging data"
   ]
  },
  {
   "attachments": {},
   "cell_type": "markdown",
   "id": "a57fe0b4",
   "metadata": {},
   "source": [
    "Using the PIL library for exporting imaging data"
   ]
  },
  {
   "cell_type": "code",
   "execution_count": null,
   "id": "e8b52f3b",
   "metadata": {},
   "outputs": [],
   "source": [
    "from PIL import Image\n",
    "import numpy as np\n",
    "\n",
    "# Example: Simulated grayscale imaging data as a NumPy array\n",
    "image_data = np.random.rand(256, 256) * 255  # 256x256 grayscale image\n",
    "image = Image.fromarray(image_data.astype('uint8'))  # Convert to a PIL Image object\n",
    "\n",
    "# Save as a JPEG file\n",
    "image.save(\"processed_image.jpg\", format=\"JPEG\")"
   ]
  },
  {
   "attachments": {},
   "cell_type": "markdown",
   "id": "6477c167",
   "metadata": {},
   "source": [
    "Using OpenCV for exporting imaging data"
   ]
  },
  {
   "cell_type": "code",
   "execution_count": null,
   "id": "30341bc5",
   "metadata": {},
   "outputs": [],
   "source": [
    "import cv2\n",
    "import numpy as np\n",
    "\n",
    "# Example: Simulated color imaging data as a NumPy array\n",
    "image_data = np.random.rand(256, 256, 3) * 255  # 256x256 RGB image\n",
    "image_data = image_data.astype('uint8')  # Convert to uint8 type required by OpenCV\n",
    "\n",
    "# Save as a PNG file\n",
    "cv2.imwrite(\"processed_image.png\", image_data)"
   ]
  },
  {
   "cell_type": "markdown",
   "id": "c50ddd6c",
   "metadata": {},
   "source": [
    "Using matplotlib for saving image data"
   ]
  },
  {
   "cell_type": "code",
   "execution_count": null,
   "id": "148de5ff",
   "metadata": {},
   "outputs": [],
   "source": [
    "import matplotlib.pyplot as plt\n",
    "import numpy as np\n",
    "\n",
    "# Example: Simulated grayscale imaging data as a NumPy array\n",
    "image_data = np.random.rand(256, 256) * 255  # 256x256 grayscale image\n",
    "image_data = image_data.astype('uint8')  # Convert to uint8 type\n",
    "\n",
    "# Display and save the image using matplotlib\n",
    "plt.imshow(image_data, cmap=\"gray\")  # Display in grayscale\n",
    "plt.axis(\"off\")  # Turn off axis for a cleaner output\n",
    "\n",
    "# Save as a PNG file with matplotlib\n",
    "plt.savefig(\"processed_image_matplotlib.png\", format=\"png\", bbox_inches=\"tight\", pad_inches=0)\n",
    "plt.close()"
   ]
  },
  {
   "cell_type": "code",
   "execution_count": null,
   "id": "96857957",
   "metadata": {},
   "outputs": [],
   "source": []
  }
 ],
 "metadata": {
  "kernelspec": {
   "display_name": "Python 3 (ipykernel)",
   "language": "python",
   "name": "python3"
  },
  "language_info": {
   "codemirror_mode": {
    "name": "ipython",
    "version": 3
   },
   "file_extension": ".py",
   "mimetype": "text/x-python",
   "name": "python",
   "nbconvert_exporter": "python",
   "pygments_lexer": "ipython3",
   "version": "3.11.9"
  }
 },
 "nbformat": 4,
 "nbformat_minor": 5
}
