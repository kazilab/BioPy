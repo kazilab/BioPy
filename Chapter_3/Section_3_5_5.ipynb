{
 "cells": [
  {
   "cell_type": "markdown",
   "id": "782e6274",
   "metadata": {},
   "source": [
    "# Chapter 3"
   ]
  },
  {
   "attachments": {},
   "cell_type": "markdown",
   "id": "8f7abc2e",
   "metadata": {},
   "source": [
    "# 3.5.5. Exporting genomic data"
   ]
  },
  {
   "attachments": {},
   "cell_type": "markdown",
   "id": "a57fe0b4",
   "metadata": {},
   "source": [
    "Exporting sequences to FASTA format"
   ]
  },
  {
   "cell_type": "code",
   "execution_count": null,
   "id": "e8b52f3b",
   "metadata": {},
   "outputs": [],
   "source": [
    "from Bio import SeqIO\n",
    "from Bio.Seq import Seq\n",
    "from Bio.SeqRecord import SeqRecord\n",
    "\n",
    "# Define a sample sequence record\n",
    "sequence_data = SeqRecord(\n",
    "    Seq(\"ATGCGTACGTAGCTAGCTAGCTGACT\"),\n",
    "    id=\"Sequence1\",\n",
    "    description=\"Example DNA sequence\"\n",
    ")\n",
    "\n",
    "# Export the sequence to a FASTA file\n",
    "with open(\"output.fasta\", \"w\") as file:\n",
    "    SeqIO.write(sequence_data, file, \"fasta\")"
   ]
  },
  {
   "attachments": {},
   "cell_type": "markdown",
   "id": "6477c167",
   "metadata": {},
   "source": [
    "Exporting sequences to FASTQ format"
   ]
  },
  {
   "cell_type": "code",
   "execution_count": null,
   "id": "30341bc5",
   "metadata": {},
   "outputs": [],
   "source": [
    "from Bio import SeqIO\n",
    "from Bio.Seq import Seq\n",
    "from Bio.SeqRecord import SeqRecord\n",
    "\n",
    "# Define a sample sequence record with quality scores\n",
    "sequence_data = SeqRecord(\n",
    "    Seq(\"ATGCGTACGTAGCTAGCTAGCTGACT\"),\n",
    "    id=\"Sequence1\",\n",
    "    description=\"Example DNA sequence\",\n",
    "    letter_annotations={\"phred_quality\": [40, 30, 35, 38, 37, 40, 30, 32, 30, 35, 38, 37, 40, 30, 32, 30, 35, 38, 37, 40, 30, 32, 30, 35, 38, 37]}\n",
    ")\n",
    "\n",
    "# Export the sequence to a FASTQ file\n",
    "with open(\"output.fastq\", \"w\") as file:\n",
    "    SeqIO.write(sequence_data, file, \"fastq\")"
   ]
  }
 ],
 "metadata": {
  "kernelspec": {
   "display_name": "Python 3 (ipykernel)",
   "language": "python",
   "name": "python3"
  },
  "language_info": {
   "codemirror_mode": {
    "name": "ipython",
    "version": 3
   },
   "file_extension": ".py",
   "mimetype": "text/x-python",
   "name": "python",
   "nbconvert_exporter": "python",
   "pygments_lexer": "ipython3",
   "version": "3.11.9"
  }
 },
 "nbformat": 4,
 "nbformat_minor": 5
}
