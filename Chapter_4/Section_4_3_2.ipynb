{
 "cells": [
  {
   "cell_type": "markdown",
   "id": "782e6274",
   "metadata": {},
   "source": [
    "# Chapter 4"
   ]
  },
  {
   "cell_type": "markdown",
   "id": "8f7abc2e",
   "metadata": {},
   "source": [
    "# 4.3.2. Identifying missing data"
   ]
  },
  {
   "cell_type": "markdown",
   "id": "c6ce4bd0",
   "metadata": {},
   "source": [
    "Little's MCAR test"
   ]
  },
  {
   "cell_type": "code",
   "execution_count": null,
   "id": "d1b91d8d",
   "metadata": {},
   "outputs": [],
   "source": [
    "# Install XeroGraph using PIP\n",
    "%pip install XeroGraph"
   ]
  },
  {
   "cell_type": "code",
   "execution_count": null,
   "id": "9169cdcb",
   "metadata": {},
   "outputs": [],
   "source": [
    "# Import necessary libraries\n",
    "import pandas as pd\n",
    "from XeroGraph import XeroAnalyzer\n",
    "\n",
    "# Load the dataset\n",
    "data = pd.read_csv('example_data/data.csv', index_col=0)\n",
    "print(data.head(5))\n",
    "\n",
    "# Initialize XeroAnalyzer\n",
    "xg_test = XeroAnalyzer(data)\n",
    "\n",
    "# Perform MCAR test\n",
    "mcar_result = xg_test.mcar()\n",
    "\n",
    "# Print the MCAR test result\n",
    "print(f\"MCAR Test Result: {mcar_result}\")"
   ]
  },
  {
   "cell_type": "code",
   "execution_count": null,
   "id": "064648e5",
   "metadata": {},
   "outputs": [],
   "source": []
  }
 ],
 "metadata": {
  "kernelspec": {
   "display_name": "Python 3 (ipykernel)",
   "language": "python",
   "name": "python3"
  },
  "language_info": {
   "codemirror_mode": {
    "name": "ipython",
    "version": 3
   },
   "file_extension": ".py",
   "mimetype": "text/x-python",
   "name": "python",
   "nbconvert_exporter": "python",
   "pygments_lexer": "ipython3",
   "version": "3.11.9"
  }
 },
 "nbformat": 4,
 "nbformat_minor": 5
}
