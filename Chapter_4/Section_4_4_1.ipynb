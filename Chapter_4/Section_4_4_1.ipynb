{
 "cells": [
  {
   "cell_type": "markdown",
   "id": "782e6274",
   "metadata": {},
   "source": [
    "# Chapter 4"
   ]
  },
  {
   "cell_type": "markdown",
   "id": "8f7abc2e",
   "metadata": {},
   "source": [
    "# 4.4.1. Normalization and standardization"
   ]
  },
  {
   "attachments": {},
   "cell_type": "markdown",
   "id": "c6ce4bd0",
   "metadata": {},
   "source": [
    "Normalization"
   ]
  },
  {
   "cell_type": "markdown",
   "id": "bda933e2",
   "metadata": {},
   "source": [
    "Min-Mx scaling "
   ]
  },
  {
   "cell_type": "code",
   "execution_count": 2,
   "id": "d1b91d8d",
   "metadata": {},
   "outputs": [
    {
     "name": "stdout",
     "output_type": "stream",
     "text": [
      "Original DataFrame:\n",
      "   Age  Income\n",
      "0   25   50000\n",
      "1   45  120000\n",
      "2   30   80000\n",
      "3   60  100000\n",
      "4   35   60000\n",
      "5   75  150000\n",
      "\n",
      "Min-Mx scaling:\n",
      "   Age  Income\n",
      "0  0.0     0.0\n",
      "1  0.4     0.7\n",
      "2  0.1     0.3\n",
      "3  0.7     0.5\n",
      "4  0.2     0.1\n",
      "5  1.0     1.0\n"
     ]
    }
   ],
   "source": [
    "import pandas as pd\n",
    "from sklearn.preprocessing import MinMaxScaler\n",
    "# Sample data\n",
    "data = {\n",
    "    'Age': [25, 45, 30, 60, 35, 75],\n",
    "    'Income': [50000, 120000, 80000, 100000, 60000, 150000]\n",
    "}\n",
    "df = pd.DataFrame(data)\n",
    "print(\"Original DataFrame:\")\n",
    "print(df)\n",
    "# Initialize MinMaxScaler\n",
    "scaler = MinMaxScaler(feature_range=(0, 1))\n",
    "# Fit and transform the data\n",
    "normalized_data = scaler.fit_transform(df .to_numpy())\n",
    "# Creating a new DataFrame for the normalized data\n",
    "normalized_df = pd.DataFrame(normalized_data, columns=df.columns)\n",
    "print(\"\\nMin-Max scaling:\")\n",
    "print(normalized_df)\n"
   ]
  },
  {
   "cell_type": "markdown",
   "id": "10273acc",
   "metadata": {},
   "source": [
    "MaxAbs scaling"
   ]
  },
  {
   "cell_type": "code",
   "execution_count": 4,
   "id": "9169cdcb",
   "metadata": {},
   "outputs": [
    {
     "name": "stdout",
     "output_type": "stream",
     "text": [
      "Original DataFrame:\n",
      "   Prameter 1  Prameter 2\n",
      "0          -5           4\n",
      "1           0         -12\n",
      "2           7           6\n",
      "3           4           3\n",
      "4           1           2\n",
      "5           4          -5\n",
      "\n",
      "MinAbs scaling:\n",
      "   Prameter 1  Prameter 2\n",
      "0   -0.714286    0.333333\n",
      "1    0.000000   -1.000000\n",
      "2    1.000000    0.500000\n",
      "3    0.571429    0.250000\n",
      "4    0.142857    0.166667\n",
      "5    0.571429   -0.416667\n"
     ]
    }
   ],
   "source": [
    "import pandas as pd\n",
    "from sklearn.preprocessing import MaxAbsScaler\n",
    "# Sample data\n",
    "data = {\n",
    "    'Prameter 1': [-5, 0, 7, 4, 1, 4],\n",
    "    'Prameter 2': [4, -12, 6, 3, 2, -5]\n",
    "}\n",
    "df = pd.DataFrame(data)\n",
    "print(\"Original DataFrame:\")\n",
    "print(df)\n",
    "# Initialize MinMaxScaler\n",
    "scaler = MaxAbsScaler()\n",
    "# Fit and transform the data\n",
    "normalized_data = scaler.fit_transform(df .to_numpy())\n",
    "# Creating a new DataFrame for the normalized data\n",
    "normalized_df = pd.DataFrame(normalized_data, columns=df.columns)\n",
    "print(\"\\nMinAbs scaling:\")\n",
    "print(normalized_df)"
   ]
  },
  {
   "cell_type": "markdown",
   "id": "bf3a4083",
   "metadata": {},
   "source": [
    "Standardization "
   ]
  },
  {
   "cell_type": "markdown",
   "id": "e1798a92",
   "metadata": {},
   "source": [
    "Z-score "
   ]
  },
  {
   "cell_type": "code",
   "execution_count": 5,
   "id": "ab72037c",
   "metadata": {},
   "outputs": [
    {
     "name": "stdout",
     "output_type": "stream",
     "text": [
      "Standardized Data:\n",
      " [[-1.61155897 -0.55708601 -1.33576544]\n",
      " [ 0.08481889  0.55708601  1.41209489]\n",
      " [ 0.42409446 -1.29986737 -0.36892569]\n",
      " [ 1.10264561  1.29986737  0.29259624]]\n"
     ]
    }
   ],
   "source": [
    "import numpy as np\n",
    "from sklearn.preprocessing import StandardScaler\n",
    "# Example data\n",
    "data = np.array([[10, 2.7, 3.6],\n",
    "                 [15, 3.0, 9.0],\n",
    "                 [16, 2.5, 5.5],\n",
    "                 [18, 3.2, 6.8]])\n",
    "# Create a StandardScaler object\n",
    "scaler = StandardScaler()\n",
    "# Fit and transform the data\n",
    "standardized_data = scaler.fit_transform(data)\n",
    "print(\"Standardized Data:\\n\", standardized_data)"
   ]
  },
  {
   "cell_type": "markdown",
   "id": "4f7970fd",
   "metadata": {},
   "source": [
    "Robust scaling"
   ]
  },
  {
   "cell_type": "code",
   "execution_count": 6,
   "id": "27055f73",
   "metadata": {},
   "outputs": [
    {
     "name": "stdout",
     "output_type": "stream",
     "text": [
      "Standardized Data:\n",
      " [[-2.         -0.375      -1.09677419]\n",
      " [-0.18181818  0.375       1.22580645]\n",
      " [ 0.18181818 -0.875      -0.27956989]\n",
      " [ 0.90909091  0.875       0.27956989]]\n"
     ]
    }
   ],
   "source": [
    "import numpy as np\n",
    "from sklearn.preprocessing import RobustScaler\n",
    "# Example data\n",
    "data = np.array([[10, 2.7, 3.6],\n",
    "                 [15, 3.0, 9.0],\n",
    "                 [16, 2.5, 5.5],\n",
    "                 [18, 3.2, 6.8]])\n",
    "# Create a StandardScaler object\n",
    "scaler = RobustScaler()\n",
    "# Fit and transform the data\n",
    "standardized_data = scaler.fit_transform(data)\n",
    "print(\"Standardized Data:\\n\", standardized_data)"
   ]
  }
 ],
 "metadata": {
  "kernelspec": {
   "display_name": "Python 3 (ipykernel)",
   "language": "python",
   "name": "python3"
  },
  "language_info": {
   "codemirror_mode": {
    "name": "ipython",
    "version": 3
   },
   "file_extension": ".py",
   "mimetype": "text/x-python",
   "name": "python",
   "nbconvert_exporter": "python",
   "pygments_lexer": "ipython3",
   "version": "3.11.5"
  }
 },
 "nbformat": 4,
 "nbformat_minor": 5
}
