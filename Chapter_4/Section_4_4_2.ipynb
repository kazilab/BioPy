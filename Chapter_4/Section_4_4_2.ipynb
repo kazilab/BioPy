{
 "cells": [
  {
   "cell_type": "markdown",
   "id": "782e6274",
   "metadata": {},
   "source": [
    "# Chapter 4"
   ]
  },
  {
   "cell_type": "markdown",
   "id": "8f7abc2e",
   "metadata": {},
   "source": [
    "# 4.4.2. Encoding categorical variables"
   ]
  },
  {
   "cell_type": "markdown",
   "id": "bda933e2",
   "metadata": {},
   "source": [
    "One-hot encoding"
   ]
  },
  {
   "cell_type": "code",
   "execution_count": null,
   "id": "d1b91d8d",
   "metadata": {},
   "outputs": [],
   "source": [
    "import pandas as pd\n",
    "from sklearn.preprocessing import OneHotEncoder\n",
    "\n",
    "# Example dataset\n",
    "data = pd.DataFrame({\n",
    "    'Color': ['Red', 'Blue', 'Green']\n",
    "})\n",
    "\n",
    "# One-hot encoding\n",
    "one_hot_encoder = OneHotEncoder()\n",
    "one_hot_encoded = one_hot_encoder.fit_transform(data).toarray()\n",
    "\n",
    "# Creating a DataFrame with proper column names\n",
    "one_hot_encoded_df = pd.DataFrame(one_hot_encoded, columns=one_hot_encoder.get_feature_names_out(['Color']))\n",
    "\n",
    "# Display the one-hot encoded DataFrame\n",
    "print(\"One-Hot Encoded Data:\\n\", one_hot_encoded_df)"
   ]
  },
  {
   "cell_type": "markdown",
   "id": "10273acc",
   "metadata": {},
   "source": [
    "Label encoding"
   ]
  },
  {
   "cell_type": "code",
   "execution_count": null,
   "id": "9169cdcb",
   "metadata": {},
   "outputs": [],
   "source": [
    "import pandas as pd\n",
    "from sklearn.preprocessing import LabelEncoder\n",
    "\n",
    "# Example dataset\n",
    "data = pd.DataFrame({\n",
    "    'Country': ['Denmark', 'Germany', 'Sweden']\n",
    "})\n",
    "\n",
    "# Label encoding\n",
    "label_encoder = LabelEncoder()\n",
    "data['Encoded value'] = label_encoder.fit_transform(data['Country'])\n",
    "\n",
    "# Display the label encoded DataFrame\n",
    "print(\"Label Encoded Data:\\n\", data)"
   ]
  },
  {
   "attachments": {},
   "cell_type": "markdown",
   "id": "e1798a92",
   "metadata": {},
   "source": [
    "Ordinal encoding"
   ]
  },
  {
   "cell_type": "code",
   "execution_count": null,
   "id": "ab72037c",
   "metadata": {},
   "outputs": [],
   "source": [
    "import pandas as pd\n",
    "from sklearn.preprocessing import OrdinalEncoder\n",
    "\n",
    "# Example dataset\n",
    "data = pd.DataFrame({\n",
    "    'Educational level': ['High school', 'Bachelor', 'Master’s', 'PhD']\n",
    "})\n",
    "\n",
    "# Defining the order of categories for ordinal encoding\n",
    "education_order = [['High school', 'Bachelor', 'Master’s', 'PhD']]\n",
    "\n",
    "# Applying Ordinal Encoding\n",
    "ordinal_encoder = OrdinalEncoder(categories=education_order)\n",
    "data['Encoded value'] = ordinal_encoder.fit_transform(data[['Educational level']])\n",
    "\n",
    "# Display the ordinal encoded DataFrame\n",
    "print(\"Ordinal Encoded Data:\\n\", data)"
   ]
  },
  {
   "attachments": {},
   "cell_type": "markdown",
   "id": "4f7970fd",
   "metadata": {},
   "source": [
    "Frequency/count encoding"
   ]
  },
  {
   "cell_type": "code",
   "execution_count": null,
   "id": "27055f73",
   "metadata": {},
   "outputs": [],
   "source": [
    "import pandas as pd\n",
    "\n",
    "# Example dataset\n",
    "data = pd.DataFrame({\n",
    "    'Cancer type': ['Breast', 'Bladder', 'Ovary', 'Breast', 'Ovary', 'Breast', 'Bladder', 'Breast', 'Ovary', 'Bladder']\n",
    "})\n",
    "\n",
    "# Frequency encoding: Calculate frequency of each category in the 'Cancer type' column\n",
    "frequency_encoding = data['Cancer type'].value_counts().to_dict()\n",
    "\n",
    "# Map the frequency values back to the 'Cancer type' column\n",
    "data['Frequency Value'] = data['Cancer type'].map(frequency_encoding)\n",
    "\n",
    "# Display the frequency encoded DataFrame\n",
    "print(\"Frequency Encoded Data:\\n\", data)"
   ]
  },
  {
   "cell_type": "code",
   "execution_count": null,
   "id": "701a2601",
   "metadata": {},
   "outputs": [],
   "source": []
  },
  {
   "cell_type": "code",
   "execution_count": null,
   "id": "8a480979",
   "metadata": {},
   "outputs": [],
   "source": [
    "import pandas as pd\n",
    "\n",
    "# Example dataset\n",
    "data = pd.DataFrame({\n",
    "    'Cancer type': ['Breast', 'Bladder', 'Ovary', 'Breast', 'Bladder', 'Ovary', 'Breast'],\n",
    "    'Treatment cost': [65000, 85000, 78000, 75000, 95000, 94000, 85000]\n",
    "})\n",
    "\n",
    "# Calculate the mean Treatment cost for each Cancer type\n",
    "target_encoding = data.groupby('Cancer type')['Treatment cost'].mean().to_dict()\n",
    "\n",
    "# Map the mean values back to the 'Cancer type' column\n",
    "data['Target Encoded Value'] = data['Cancer type'].map(target_encoding)\n",
    "\n",
    "# Display the target encoded DataFrame\n",
    "print(\"Target Encoded Data:\\n\", data)"
   ]
  },
  {
   "cell_type": "code",
   "execution_count": null,
   "id": "df8ba414",
   "metadata": {},
   "outputs": [],
   "source": []
  }
 ],
 "metadata": {
  "kernelspec": {
   "display_name": "Python 3 (ipykernel)",
   "language": "python",
   "name": "python3"
  },
  "language_info": {
   "codemirror_mode": {
    "name": "ipython",
    "version": 3
   },
   "file_extension": ".py",
   "mimetype": "text/x-python",
   "name": "python",
   "nbconvert_exporter": "python",
   "pygments_lexer": "ipython3",
   "version": "3.11.5"
  }
 },
 "nbformat": 4,
 "nbformat_minor": 5
}
