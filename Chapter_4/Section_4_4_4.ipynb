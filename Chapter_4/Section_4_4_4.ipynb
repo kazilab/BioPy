{
 "cells": [
  {
   "cell_type": "markdown",
   "id": "782e6274",
   "metadata": {},
   "source": [
    "# Chapter 4"
   ]
  },
  {
   "attachments": {},
   "cell_type": "markdown",
   "id": "8f7abc2e",
   "metadata": {},
   "source": [
    "# 4.4.4. Feature creation"
   ]
  },
  {
   "cell_type": "markdown",
   "id": "bda933e2",
   "metadata": {},
   "source": [
    "Log transformation"
   ]
  },
  {
   "cell_type": "code",
   "execution_count": 21,
   "id": "d1b91d8d",
   "metadata": {},
   "outputs": [
    {
     "name": "stdout",
     "output_type": "stream",
     "text": [
      "Original feature:\n",
      "0     1\n",
      "1     2\n",
      "2     3\n",
      "3     4\n",
      "4     5\n",
      "5     6\n",
      "6     7\n",
      "7     8\n",
      "8     9\n",
      "9     3\n",
      "10    4\n",
      "11    3\n",
      "12    6\n",
      "13    4\n",
      "14    5\n",
      "15    1\n",
      "16    2\n",
      "17    3\n",
      "18    4\n",
      "19    5\n",
      "20    6\n",
      "21    7\n",
      "22    8\n",
      "23    9\n",
      "24    3\n",
      "25    4\n",
      "26    1\n",
      "27    6\n",
      "28    4\n",
      "29    5\n",
      "Name: feature1, dtype: int64\n",
      "\n",
      "Features after polynomial transformation:\n",
      "      0     1      2\n",
      "0   1.0   1.0    1.0\n",
      "1   2.0   4.0    8.0\n",
      "2   3.0   9.0   27.0\n",
      "3   4.0  16.0   64.0\n",
      "4   5.0  25.0  125.0\n",
      "5   6.0  36.0  216.0\n",
      "6   7.0  49.0  343.0\n",
      "7   8.0  64.0  512.0\n",
      "8   9.0  81.0  729.0\n",
      "9   3.0   9.0   27.0\n",
      "10  4.0  16.0   64.0\n",
      "11  3.0   9.0   27.0\n",
      "12  6.0  36.0  216.0\n",
      "13  4.0  16.0   64.0\n",
      "14  5.0  25.0  125.0\n",
      "15  1.0   1.0    1.0\n",
      "16  2.0   4.0    8.0\n",
      "17  3.0   9.0   27.0\n",
      "18  4.0  16.0   64.0\n",
      "19  5.0  25.0  125.0\n",
      "20  6.0  36.0  216.0\n",
      "21  7.0  49.0  343.0\n",
      "22  8.0  64.0  512.0\n",
      "23  9.0  81.0  729.0\n",
      "24  3.0   9.0   27.0\n",
      "25  4.0  16.0   64.0\n",
      "26  1.0   1.0    1.0\n",
      "27  6.0  36.0  216.0\n",
      "28  4.0  16.0   64.0\n",
      "29  5.0  25.0  125.0\n"
     ]
    }
   ],
   "source": [
    "import pandas as pd\n",
    "from sklearn.preprocessing import PolynomialFeatures\n",
    "\n",
    "# Original feature\n",
    "df = pd.read_csv('example_data/data4.csv', header=0, index_col=0)\n",
    "print(\"Original feature:\")\n",
    "print(df['feature1'])\n",
    "\n",
    "# Create polynomial features up to degree 2\n",
    "poly = PolynomialFeatures(degree=3, include_bias=False)\n",
    "df_poly = pd.DataFrame(poly.fit_transform(df[['feature1']]))\n",
    "\n",
    "print(\"\\nFeatures after polynomial transformation:\")\n",
    "print(df_poly)"
   ]
  }
 ],
 "metadata": {
  "kernelspec": {
   "display_name": "Python 3 (ipykernel)",
   "language": "python",
   "name": "python3"
  },
  "language_info": {
   "codemirror_mode": {
    "name": "ipython",
    "version": 3
   },
   "file_extension": ".py",
   "mimetype": "text/x-python",
   "name": "python",
   "nbconvert_exporter": "python",
   "pygments_lexer": "ipython3",
   "version": "3.11.5"
  }
 },
 "nbformat": 4,
 "nbformat_minor": 5
}
