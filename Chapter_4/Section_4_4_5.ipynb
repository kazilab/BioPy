{
 "cells": [
  {
   "cell_type": "markdown",
   "id": "782e6274",
   "metadata": {},
   "source": [
    "# Chapter 4"
   ]
  },
  {
   "attachments": {},
   "cell_type": "markdown",
   "id": "8f7abc2e",
   "metadata": {},
   "source": [
    "# 4.4.5. Binning and discretization"
   ]
  },
  {
   "cell_type": "markdown",
   "id": "bda933e2",
   "metadata": {},
   "source": [
    "Equal-width binning"
   ]
  },
  {
   "cell_type": "code",
   "execution_count": 1,
   "id": "d1b91d8d",
   "metadata": {},
   "outputs": [
    {
     "name": "stdout",
     "output_type": "stream",
     "text": [
      "      Glucose  Glucose_Bin\n",
      "0  155.281047            3\n",
      "1  128.003144            2\n",
      "2  139.574760            2\n",
      "3  164.817864            3\n",
      "4  157.351160            3\n"
     ]
    }
   ],
   "source": [
    "import numpy as np\n",
    "import pandas as pd\n",
    "\n",
    "# Sample data\n",
    "np.random.seed(0)\n",
    "glucose_levels = np.random.normal(loc=120, scale=20, size=100)\n",
    "glucose_levels = np.clip(glucose_levels, 50, 200)  # Ensure values are within 50-200\n",
    "\n",
    "df = pd.DataFrame({'Glucose': glucose_levels})\n",
    "\n",
    "# Define bin edges\n",
    "bin_edges = np.linspace(50, 200, num=6)  # 5 bins\n",
    "\n",
    "# Assign bins\n",
    "df['Glucose_Bin'] = pd.cut(df['Glucose'], bins=bin_edges, labels=False, include_lowest=True)\n",
    "\n",
    "print(df.head())\n"
   ]
  },
  {
   "cell_type": "markdown",
   "id": "8b63c5f4",
   "metadata": {},
   "source": [
    "Equal-frequency binning"
   ]
  },
  {
   "cell_type": "code",
   "execution_count": 2,
   "id": "642db520",
   "metadata": {},
   "outputs": [
    {
     "name": "stdout",
     "output_type": "stream",
     "text": [
      "      Glucose  Glucose_Bin  Glucose_Bin_EqualFreq\n",
      "0  155.281047            3                      4\n",
      "1  128.003144            2                      3\n",
      "2  139.574760            2                      4\n",
      "3  164.817864            3                      4\n",
      "4  157.351160            3                      4\n"
     ]
    }
   ],
   "source": [
    "# Assign bins using quantiles\n",
    "df['Glucose_Bin_EqualFreq'] = pd.qcut(df['Glucose'], q=5, labels=False)\n",
    "\n",
    "print(df.head())\n"
   ]
  },
  {
   "cell_type": "markdown",
   "id": "9d38e3fb",
   "metadata": {},
   "source": [
    "K-means binning"
   ]
  },
  {
   "cell_type": "code",
   "execution_count": 5,
   "id": "daa82b7c",
   "metadata": {},
   "outputs": [
    {
     "name": "stdout",
     "output_type": "stream",
     "text": [
      "      Value  KMeans_Bin\n",
      "0  0.938536           0\n",
      "1  6.020243           3\n",
      "2  2.633491           1\n",
      "3  1.825885           1\n",
      "4  0.339250           0\n",
      "Cluster Centers (Bin Edges):\n",
      "[0.01014887 1.23546742 2.89844556 5.02610747 7.56704349 9.91365722]\n"
     ]
    }
   ],
   "source": [
    "import numpy as np\n",
    "import pandas as pd\n",
    "from sklearn.preprocessing import KBinsDiscretizer\n",
    "\n",
    "# Generate synthetic data\n",
    "np.random.seed(42)\n",
    "data_size = 500\n",
    "\n",
    "# Create a skewed distribution (e.g., exponential distribution)\n",
    "X = np.random.exponential(scale=2, size=data_size)\n",
    "df = pd.DataFrame({'Value': X})\n",
    "\n",
    "# Apply K-Means binning\n",
    "k = 5  # Number of bins/clusters\n",
    "est = KBinsDiscretizer(n_bins=k, encode='ordinal', strategy='kmeans', random_state=42, subsample=None)\n",
    "\n",
    "# Reshape data for the transformer\n",
    "X_reshaped = df[['Value']]\n",
    "\n",
    "# Fit and transform the data\n",
    "df['KMeans_Bin'] = est.fit_transform(X_reshaped).astype(int)\n",
    "\n",
    "# Display the first few rows\n",
    "print(df.head())\n",
    "\n",
    "# Print the cluster centers (bin edges)\n",
    "print(\"Cluster Centers (Bin Edges):\")\n",
    "print(est.bin_edges_[0])\n"
   ]
  }
 ],
 "metadata": {
  "kernelspec": {
   "display_name": "Python 3 (ipykernel)",
   "language": "python",
   "name": "python3"
  },
  "language_info": {
   "codemirror_mode": {
    "name": "ipython",
    "version": 3
   },
   "file_extension": ".py",
   "mimetype": "text/x-python",
   "name": "python",
   "nbconvert_exporter": "python",
   "pygments_lexer": "ipython3",
   "version": "3.11.5"
  }
 },
 "nbformat": 4,
 "nbformat_minor": 5
}
