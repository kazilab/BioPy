{
 "cells": [
  {
   "cell_type": "markdown",
   "id": "782e6274",
   "metadata": {},
   "source": [
    "# Chapter 4"
   ]
  },
  {
   "cell_type": "markdown",
   "id": "8f7abc2e",
   "metadata": {},
   "source": [
    "# 4.5.2. Statistical methods for outlier detection"
   ]
  },
  {
   "cell_type": "markdown",
   "id": "bda933e2",
   "metadata": {},
   "source": [
    "Z-score method"
   ]
  },
  {
   "cell_type": "code",
   "execution_count": 5,
   "id": "d1b91d8d",
   "metadata": {},
   "outputs": [
    {
     "name": "stdout",
     "output_type": "stream",
     "text": [
      "Indices of outliers: (array([102]),)\n",
      "Outlier values: [3.5]\n",
      "Original data: [-2.20413689e+00  5.20068181e-01 -2.99018962e-01  9.98862010e-02\n",
      "  1.54188983e+00 -7.27103926e-01 -8.02989476e-01 -4.45143083e-01\n",
      "  5.89432017e-01  5.43675904e-01  5.43245958e-01 -2.62180987e-01\n",
      "  1.35236654e-01  5.10832809e-01 -3.27189808e-01  7.88266052e-01\n",
      " -1.13237433e-01  1.67742383e+00  6.00544194e-01  8.57728420e-01\n",
      "  6.36454162e-01 -4.56080094e-01  1.18837926e+00 -1.76611453e-01\n",
      " -1.73119051e+00 -1.49157412e-01  5.42588063e-02 -9.07950700e-01\n",
      "  2.65751693e-01 -3.86090874e-01 -1.58256661e-01 -2.35045528e-01\n",
      "  5.99168324e-01  6.17504875e-02 -1.17484784e-01  1.25850895e-01\n",
      "  1.36965863e-01  6.94487776e-01  1.19509206e+00  8.58457122e-01\n",
      " -1.26777565e+00 -2.46799876e+00  1.89819821e-01  5.79407743e-01\n",
      " -1.83709655e+00  8.50056658e-01  2.13573782e+00 -1.58789928e+00\n",
      "  1.79955742e-01 -1.51490003e+00 -6.62933827e-01 -2.33953744e-01\n",
      " -8.69945133e-01 -1.34044311e+00 -3.15940287e-01  8.32698266e-01\n",
      " -9.18365621e-01  2.24103228e+00 -3.41657367e-01  7.57705154e-02\n",
      "  1.57899215e+00  4.30779215e-01 -4.66266636e-01  8.03577278e-01\n",
      "  1.61595522e-01 -1.10165221e+00 -1.58109676e-01  9.50871153e-01\n",
      " -2.81722829e-01  1.59758153e-02 -3.18464360e-01 -1.21827633e-01\n",
      "  6.64610174e-01  9.01866523e-01 -5.01220114e-01 -4.35568936e-01\n",
      "  2.06453253e-02  1.69412138e+00 -4.51896984e-01 -5.95415441e-01\n",
      "  1.32417483e+00 -5.48367535e-01 -9.76229639e-01  1.19095982e+00\n",
      "  1.55471583e+00 -2.07467555e+00 -7.34889119e-01  2.70052773e-01\n",
      "  2.60381824e-01  1.91653665e+00  5.53984661e-01  1.57737496e+00\n",
      "  1.44577302e-01 -4.44332035e-04  2.48494658e-01 -2.08865679e+00\n",
      " -1.25306232e+00 -7.53792700e-01 -9.43476499e-01  5.92470324e-01\n",
      "  3.00000000e+00 -3.00000000e+00  3.50000000e+00]\n"
     ]
    }
   ],
   "source": [
    "import numpy as np\n",
    "from scipy import stats\n",
    "\n",
    "# Define a function for Z-score-based outlier detection\n",
    "def z_score_method(data, threshold=3):\n",
    "    # Calculate the Z-scores for each data point\n",
    "    z_scores = np.abs(stats.zscore(data))\n",
    "\n",
    "    # Get indices of data points where the Z-score is above the threshold\n",
    "    outlier_indices = np.where(z_scores > threshold)\n",
    "\n",
    "    # Get the actual outlier values\n",
    "    outlier_values = data[outlier_indices]\n",
    "    \n",
    "    return outlier_indices, outlier_values\n",
    "\n",
    "# Generate sample data with some outliers\n",
    "data = np.random.normal(0, 1, 100)  # Generate 100 points from a normal distribution\n",
    "data = np.concatenate([data, [3, -3, 3.5]])  # Adding outliers\n",
    "\n",
    "# Detect outliers using the Z-score method\n",
    "outlier_indices, outlier_values = z_score_method(data)\n",
    "\n",
    "# Print out the results\n",
    "print(\"Indices of outliers:\", outlier_indices)\n",
    "print(\"Outlier values:\", outlier_values)\n",
    "print(\"Original data:\", data)"
   ]
  },
  {
   "cell_type": "markdown",
   "id": "8b63c5f4",
   "metadata": {},
   "source": [
    "Modified Z-score method"
   ]
  },
  {
   "cell_type": "code",
   "execution_count": 6,
   "id": "642db520",
   "metadata": {},
   "outputs": [
    {
     "name": "stdout",
     "output_type": "stream",
     "text": [
      "Indices of outliers: (array([100, 101, 102]),)\n",
      "Outlier values: [ 10. -10.  15.]\n",
      "Original data: [ -1.09187305  -2.49647078   1.07160272  -1.3696749   -0.34589548\n",
      "  -0.46513099  -0.13588145  -0.14822332   0.95472538   0.0778373\n",
      "   0.53609621  -1.28996551   0.64010732  -0.66866136   0.47042079\n",
      "   1.3692551   -1.98506784  -0.6235389    0.53066521   0.05302509\n",
      "   0.29815345  -0.03720337   0.51920101   1.31991008   0.68981383\n",
      "   0.2342628    0.51519218   0.77749124   0.87550384  -0.26426626\n",
      "  -1.16355955  -0.08736659  -0.27522393   1.65043904   0.30425984\n",
      "   1.21084347   2.30800997   0.75518985   0.05084485   0.81079346\n",
      "  -0.1416519   -0.45698688  -0.05584359   0.5117022   -2.45108574\n",
      "   0.06581715  -0.54485074  -1.18997274   1.68611371   0.11931378\n",
      "   0.77571756  -0.83325257   0.78534864   0.77116907   0.72693145\n",
      "   2.23764212   1.99509099  -1.99988268   0.52953905  -0.22776875\n",
      "  -0.78207923   0.16039764  -1.39085391  -1.61631006  -0.95115692\n",
      "   1.60762335  -0.67475213   0.9983521    0.19802853  -1.06764461\n",
      "  -1.11821373  -0.31410744  -0.67123629  -0.32993211  -0.63061118\n",
      "   1.21496503  -0.25434363  -0.37650578   1.57911846  -0.05231316\n",
      "   0.89216457  -1.5446732    1.05527579  -0.27324311   0.73874184\n",
      "   0.1633494    1.3427733    0.7673593    0.62675278   0.98401367\n",
      "   0.40605069   1.31045302   0.84259059  -0.42339848   0.49758046\n",
      "   0.92340017   0.22362256  -0.221207     2.12827009   0.17470049\n",
      "  10.         -10.          15.        ]\n"
     ]
    }
   ],
   "source": [
    "import numpy as np\n",
    "\n",
    "# Define a function for the Modified Z-Score method\n",
    "def modified_z_score_method(data, threshold=3.5):\n",
    "    \"\"\"\n",
    "    Detects outliers using the Modified Z-Score method.\n",
    "\n",
    "    Parameters:\n",
    "    data (array-like): Input array of numerical data.\n",
    "    threshold (float): Threshold value for identifying outliers (default is 3.5).\n",
    "\n",
    "    Returns:\n",
    "    outlier_indices (array-like): Indices of outlier data points.\n",
    "    outlier_values (array-like): Values of the detected outliers.\n",
    "    \"\"\"\n",
    "    # Convert input data to a numpy array if not already in that format\n",
    "    data = np.asarray(data)\n",
    "    \n",
    "    # Calculate the median of the data\n",
    "    median = np.median(data)\n",
    "\n",
    "    # Calculate the Median Absolute Deviation (MAD)\n",
    "    mad = np.median(np.abs(data - median))\n",
    "\n",
    "    # Calculate the modified Z-scores\n",
    "    modified_z_scores = (data - median) / (1.4826 * mad)\n",
    "\n",
    "    # Get indices and values of data points with modified Z-scores greater than the threshold\n",
    "    outlier_indices = np.where(np.abs(modified_z_scores) > threshold)\n",
    "    outlier_values = data[outlier_indices]\n",
    "\n",
    "    return outlier_indices, outlier_values\n",
    "\n",
    "# Example usage with sample data including some outliers\n",
    "data = np.random.normal(0, 1, 100)  # Generate 100 points from a normal distribution\n",
    "data = np.concatenate([data, [10, -10, 15]])  # Adding outliers\n",
    "\n",
    "# Detect outliers using the Modified Z-Score method\n",
    "outlier_indices, outlier_values = modified_z_score_method(data)\n",
    "\n",
    "# Print out the results\n",
    "print(\"Indices of outliers:\", outlier_indices)\n",
    "print(\"Outlier values:\", outlier_values)\n",
    "print(\"Original data:\", data)"
   ]
  },
  {
   "cell_type": "markdown",
   "id": "9d38e3fb",
   "metadata": {},
   "source": [
    "Interquartile Range (IQR) Method"
   ]
  },
  {
   "cell_type": "code",
   "execution_count": 7,
   "id": "daa82b7c",
   "metadata": {},
   "outputs": [
    {
     "name": "stdout",
     "output_type": "stream",
     "text": [
      "Outliers: [ 30 100]\n",
      "Lower Bound: 7.5, Upper Bound: 27.5\n"
     ]
    }
   ],
   "source": [
    "import numpy as np\n",
    "\n",
    "# Define a function for outlier detection using the IQR method\n",
    "def iqr_method(data):\n",
    "    # Calculate Q1 (25th percentile) and Q3 (75th percentile)\n",
    "    Q1 = np.percentile(data, 25)\n",
    "    Q3 = np.percentile(data, 75)\n",
    "    \n",
    "    # Compute the IQR\n",
    "    IQR = Q3 - Q1\n",
    "    \n",
    "    # Determine the lower and upper bounds for outliers\n",
    "    lower_bound = Q1 - 1.5 * IQR\n",
    "    upper_bound = Q3 + 1.5 * IQR\n",
    "    \n",
    "    # Identify outliers\n",
    "    outliers = data[(data < lower_bound) | (data > upper_bound)]\n",
    "    \n",
    "    return outliers, lower_bound, upper_bound\n",
    "\n",
    "# Example data with potential outliers\n",
    "data = np.array([10, 12, 14, 15, 15, 16, 16, 18, 19, 20, 25, 30, 100])  # Outlier at 100\n",
    "\n",
    "# Detect outliers using the IQR method\n",
    "outliers, lower_bound, upper_bound = iqr_method(data)\n",
    "\n",
    "# Output the result\n",
    "print(f\"Outliers: {outliers}\")\n",
    "print(f\"Lower Bound: {lower_bound}, Upper Bound: {upper_bound}\")"
   ]
  },
  {
   "cell_type": "markdown",
   "id": "7f52a3f5",
   "metadata": {},
   "source": [
    "Grubbs' test"
   ]
  },
  {
   "cell_type": "code",
   "execution_count": 9,
   "id": "08502328",
   "metadata": {},
   "outputs": [
    {
     "name": "stdout",
     "output_type": "stream",
     "text": [
      "Grubbs' Test Statistic: 2.4324935805766312\n",
      "Grubbs' Critical Value: 2.1266450871956257\n",
      "Outlier detected: 25\n"
     ]
    }
   ],
   "source": [
    "import numpy as np\n",
    "from scipy import stats\n",
    "\n",
    "# Function to calculate Grubbs' Test statistic and detect outlier\n",
    "def grubbs_test(data, alpha=0.05):\n",
    "    # Compute mean and standard deviation\n",
    "    mean_y = np.mean(data)\n",
    "    std_y = np.std(data, ddof=1)\n",
    "    \n",
    "    # Find the data point furthest from the mean (potential outlier)\n",
    "    deviations = np.abs(data - mean_y)\n",
    "    max_deviation_index = np.argmax(deviations)\n",
    "    G = deviations[max_deviation_index] / std_y\n",
    "    n = len(data)\n",
    "    \n",
    "    # Compute the critical value for Grubbs' test\n",
    "    t_crit = stats.t.ppf(1 - alpha / (2 * n), n - 2)\n",
    "    G_crit = ((n - 1) / np.sqrt(n)) * np.sqrt(t_crit**2 / (n - 2 + t_crit**2))\n",
    "    \n",
    "    # Return the test statistic, critical value, and the potential outlier\n",
    "    return G, G_crit, data[max_deviation_index]\n",
    "\n",
    "# Example data with a potential outlier\n",
    "data = np.array([10, 12, 12, 13, 12, 12, 11, 25])  # '25' might be an outlier\n",
    "\n",
    "# Perform Grubbs' Test\n",
    "G_stat, G_crit, outlier = grubbs_test(data)\n",
    "\n",
    "print(f\"Grubbs' Test Statistic: {G_stat}\")\n",
    "print(f\"Grubbs' Critical Value: {G_crit}\")\n",
    "if G_stat > G_crit:\n",
    "    print(f\"Outlier detected: {outlier}\")\n",
    "else:\n",
    "    print(\"No outliers detected.\")\n"
   ]
  },
  {
   "cell_type": "markdown",
   "id": "cf8be7ae",
   "metadata": {},
   "source": [
    "ESD test"
   ]
  },
  {
   "cell_type": "code",
   "execution_count": 13,
   "id": "a1df3708",
   "metadata": {},
   "outputs": [
    {
     "name": "stdout",
     "output_type": "stream",
     "text": [
      "Outliers: [100, 25]\n",
      "Data without outliers: [10 12 12 13 12 12 11]\n"
     ]
    }
   ],
   "source": [
    "import numpy as np\n",
    "from scipy import stats\n",
    "\n",
    "def esd_test(data, max_outliers, alpha=0.05):\n",
    "    \"\"\"\n",
    "    Perform the ESD test to detect up to max_outliers in a dataset.\n",
    "\n",
    "    Parameters:\n",
    "    data (array-like): The input dataset.\n",
    "    max_outliers (int): Maximum number of outliers to detect.\n",
    "    alpha (float): Significance level for the test.\n",
    "\n",
    "    Returns:\n",
    "    list: Indices of the detected outliers.\n",
    "    \"\"\"\n",
    "    n = len(data)\n",
    "    outliers = []\n",
    "    \n",
    "    for i in range(1, max_outliers + 1):\n",
    "        mean_data = np.mean(data)\n",
    "        std_data = np.std(data, ddof=1)\n",
    "        \n",
    "        # Find the value with the largest deviation from the mean\n",
    "        abs_deviation = np.abs(data - mean_data)\n",
    "        max_deviation_index = np.argmax(abs_deviation)\n",
    "        max_deviation_value = data[max_deviation_index]\n",
    "        \n",
    "        # Calculate the test statistic\n",
    "        test_statistic = abs_deviation[max_deviation_index] / std_data\n",
    "        \n",
    "        # Compute the critical value using the t-distribution\n",
    "        p = 1 - alpha / (2 * (n - i + 1))\n",
    "        t_crit = stats.t.ppf(p, df=n - i - 1)\n",
    "        critical_value = ((n - i) * t_crit) / np.sqrt((n - i - 1 + t_crit**2) * (n - i + 1))\n",
    "        \n",
    "        # Compare the test statistic with the critical value\n",
    "        if test_statistic > critical_value:\n",
    "            outliers.append(max_deviation_value)\n",
    "            # Remove the detected outlier from the data for the next iteration\n",
    "            data = np.delete(data, max_deviation_index)\n",
    "        else:\n",
    "            break\n",
    "    \n",
    "    return outliers, data\n",
    "\n",
    "# Example usage\n",
    "data = np.array([10, 12, 12, 13, 12, 12, 11, 25, 100])  # 25 and 100 are potential outliers\n",
    "\n",
    "# Perform ESD Test for up to 2 outliers\n",
    "outliers, data = esd_test(data, max_outliers=2)\n",
    "\n",
    "print(f\"Outliers: {outliers}\")\n",
    "print(f\"Data without outliers: {data}\")"
   ]
  },
  {
   "cell_type": "code",
   "execution_count": null,
   "id": "b9afe46f",
   "metadata": {},
   "outputs": [],
   "source": []
  }
 ],
 "metadata": {
  "kernelspec": {
   "display_name": "Python 3 (ipykernel)",
   "language": "python",
   "name": "python3"
  },
  "language_info": {
   "codemirror_mode": {
    "name": "ipython",
    "version": 3
   },
   "file_extension": ".py",
   "mimetype": "text/x-python",
   "name": "python",
   "nbconvert_exporter": "python",
   "pygments_lexer": "ipython3",
   "version": "3.11.5"
  }
 },
 "nbformat": 4,
 "nbformat_minor": 5
}
