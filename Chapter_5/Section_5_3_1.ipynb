{
 "cells": [
  {
   "cell_type": "markdown",
   "id": "782e6274",
   "metadata": {},
   "source": [
    "# Chapter 5"
   ]
  },
  {
   "cell_type": "markdown",
   "id": "8f7abc2e",
   "metadata": {},
   "source": [
    "# 5.3.1. Basic data inspection: head, tail, and random samples"
   ]
  },
  {
   "cell_type": "code",
   "execution_count": 1,
   "id": "9169cdcb",
   "metadata": {},
   "outputs": [
    {
     "name": "stdout",
     "output_type": "stream",
     "text": [
      "Display the first few rows:\n",
      "    feature1  feature2  feature3  feature4  feature5\n",
      "0       1.0         4       1.0       4.0       4.0\n",
      "1       2.0         6       2.0       3.0       3.0\n",
      "2       3.0         2       4.0       1.0       4.0\n",
      "3       4.0         4       3.0       2.0       2.0\n",
      "4       5.0         5       6.0       4.0       NaN\n",
      "Display the last few rows:\n",
      "     feature1  feature2  feature3  feature4  feature5\n",
      "25       4.0         4       5.0       2.0       7.0\n",
      "26       1.0         3       0.0       1.0       8.0\n",
      "27       6.0         2       3.0       3.0       9.0\n",
      "28       4.0         2       2.0       2.0       2.0\n",
      "29       5.0         6       1.0       1.0       4.0\n",
      "Display random rows:\n",
      "     feature1  feature2  feature3  feature4  feature5\n",
      "22       8.0         8       6.0       7.0       4.0\n",
      "12       6.0         2       3.0       3.0       9.0\n",
      "8        9.0         9       NaN       8.0       5.0\n",
      "28       4.0         2       2.0       2.0       2.0\n",
      "6        7.0         7       6.0       6.0       2.0\n"
     ]
    }
   ],
   "source": [
    "import pandas as pd\n",
    "# Load dataset\n",
    "df = pd.read_csv('example_data/data.csv', index_col=0)\n",
    "# Display the first few rows\n",
    "print('Display the first few rows:\\n', df.head())\n",
    "# Display the last few rows\n",
    "print('Display the last few rows:\\n', df.tail())\n",
    "# Random sample\n",
    "print('Display random rows:\\n', df.sample(5))"
   ]
  },
  {
   "cell_type": "code",
   "execution_count": null,
   "id": "064648e5",
   "metadata": {},
   "outputs": [],
   "source": []
  }
 ],
 "metadata": {
  "kernelspec": {
   "display_name": "Python 3 (ipykernel)",
   "language": "python",
   "name": "python3"
  },
  "language_info": {
   "codemirror_mode": {
    "name": "ipython",
    "version": 3
   },
   "file_extension": ".py",
   "mimetype": "text/x-python",
   "name": "python",
   "nbconvert_exporter": "python",
   "pygments_lexer": "ipython3",
   "version": "3.11.5"
  }
 },
 "nbformat": 4,
 "nbformat_minor": 5
}
