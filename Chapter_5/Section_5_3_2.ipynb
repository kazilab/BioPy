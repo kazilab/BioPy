{
 "cells": [
  {
   "cell_type": "markdown",
   "id": "782e6274",
   "metadata": {},
   "source": [
    "# Chapter 5"
   ]
  },
  {
   "cell_type": "markdown",
   "id": "8f7abc2e",
   "metadata": {},
   "source": [
    "# 5.3.2. Identifying and handling missing values"
   ]
  },
  {
   "cell_type": "code",
   "execution_count": 1,
   "id": "9169cdcb",
   "metadata": {},
   "outputs": [
    {
     "name": "stdout",
     "output_type": "stream",
     "text": [
      "Display missing values:\n",
      "     feature1  feature2  feature3  feature4  feature5  groups\n",
      "0      False     False     False     False     False   False\n",
      "1      False     False     False     False     False   False\n",
      "2      False     False     False     False     False   False\n",
      "3      False     False     False     False     False   False\n",
      "4      False     False     False     False      True   False\n",
      "5      False     False     False     False     False   False\n",
      "6      False     False     False     False     False   False\n",
      "7      False     False     False     False     False   False\n",
      "8      False     False      True     False     False   False\n",
      "9      False     False     False     False     False   False\n",
      "10     False     False     False     False     False   False\n",
      "11      True     False     False      True     False   False\n",
      "12     False     False     False     False     False   False\n",
      "13     False     False     False     False     False   False\n",
      "14     False     False     False     False     False   False\n",
      "15     False     False     False     False     False   False\n",
      "16     False     False     False     False     False   False\n",
      "17     False     False     False     False     False   False\n",
      "18     False     False     False     False     False   False\n",
      "19     False     False      True     False     False   False\n",
      "20     False     False     False     False     False   False\n",
      "21     False     False     False     False     False   False\n",
      "22     False     False     False     False     False   False\n",
      "23     False     False     False     False     False   False\n",
      "24     False     False     False     False      True   False\n",
      "25     False     False     False     False     False   False\n",
      "26     False     False     False     False     False   False\n",
      "27     False     False     False     False     False   False\n",
      "28     False     False     False     False     False   False\n",
      "29     False     False     False     False     False   False\n",
      "<class 'pandas.core.frame.DataFrame'>\n",
      "Index: 30 entries, 0 to 29\n",
      "Data columns (total 6 columns):\n",
      " #   Column    Non-Null Count  Dtype  \n",
      "---  ------    --------------  -----  \n",
      " 0   feature1  29 non-null     float64\n",
      " 1   feature2  30 non-null     int64  \n",
      " 2   feature3  28 non-null     float64\n",
      " 3   feature4  29 non-null     float64\n",
      " 4   feature5  28 non-null     float64\n",
      " 5   groups    30 non-null     object \n",
      "dtypes: float64(4), int64(1), object(1)\n",
      "memory usage: 1.6+ KB\n",
      "Display data information:\n",
      " None\n"
     ]
    }
   ],
   "source": [
    "import pandas as pd\n",
    "# Load dataset\n",
    "df = pd.read_csv('example_data/data2.csv', index_col=0)\n",
    "# Display missing values\n",
    "print('Display missing values:\\n', df.isnull())\n",
    "# Display data information\n",
    "print('Display data information:\\n', df.info())"
   ]
  },
  {
   "cell_type": "code",
   "execution_count": null,
   "id": "064648e5",
   "metadata": {},
   "outputs": [],
   "source": []
  }
 ],
 "metadata": {
  "kernelspec": {
   "display_name": "Python 3 (ipykernel)",
   "language": "python",
   "name": "python3"
  },
  "language_info": {
   "codemirror_mode": {
    "name": "ipython",
    "version": 3
   },
   "file_extension": ".py",
   "mimetype": "text/x-python",
   "name": "python",
   "nbconvert_exporter": "python",
   "pygments_lexer": "ipython3",
   "version": "3.11.5"
  }
 },
 "nbformat": 4,
 "nbformat_minor": 5
}
