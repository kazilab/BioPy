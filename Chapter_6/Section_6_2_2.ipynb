{
 "cells": [
  {
   "cell_type": "markdown",
   "id": "782e6274",
   "metadata": {},
   "source": [
    "# Chapter 6"
   ]
  },
  {
   "cell_type": "markdown",
   "id": "8f7abc2e",
   "metadata": {},
   "source": [
    "# 6.2.2. Scatter Plots"
   ]
  },
  {
   "cell_type": "code",
   "execution_count": null,
   "id": "a819296d",
   "metadata": {},
   "outputs": [],
   "source": [
    "import matplotlib.pyplot as plt\n",
    "import numpy as np\n",
    "# Generating sample data\n",
    "x = np.random.rand(50)\n",
    "y = x + np.random.normal(0, 0.1, 50) # Adding some noise\n",
    "# Creating the scatter plot\n",
    "plt.scatter(x, y, alpha=0.7)\n",
    "plt.title('Scatter Plot of Sample Data')\n",
    "plt.xlabel('X Value')\n",
    "plt.ylabel('Y Value')\n",
    "plt.show()"
   ]
  },
  {
   "cell_type": "code",
   "execution_count": null,
   "id": "ea4d6648",
   "metadata": {},
   "outputs": [],
   "source": [
    "import matplotlib.pyplot as plt\n",
    "# Sample data: two different gene expressions\n",
    "gene_exp1 = np.random.normal(60, 10, 100)  # Mock data\n",
    "gene_exp2 = gene_exp1 + np.random.normal(0, 5, 100)  # Mock data\n",
    "plt.scatter(gene_exp1, gene_exp2, alpha=0.7)\n",
    "plt.title('Gene Expression Correlation')\n",
    "plt.xlabel('Gene 1 Expression Level')\n",
    "plt.ylabel('Gene 2 Expression Level')\n",
    "plt.show()"
   ]
  },
  {
   "cell_type": "code",
   "execution_count": null,
   "id": "8946320e",
   "metadata": {},
   "outputs": [],
   "source": [
    "# Example using the Seaborn library:\n",
    "import seaborn as sns\n",
    "import matplotlib.pyplot as plt\n",
    "import pandas as pd\n",
    "import numpy as np\n",
    "# Generating sample data\n",
    "np.random.seed(0)\n",
    "data = pd.DataFrame(data=np.random.rand(50, 4), columns=['A', 'B', 'C', 'D'])\n",
    "# Creating the pair plot\n",
    "pair_plot = sns.pairplot(data)\n",
    "\n",
    "# Save the figure\n",
    "pair_plot.savefig(\"pairplot.png\")\n",
    "plt.show()"
   ]
  }
 ],
 "metadata": {
  "kernelspec": {
   "display_name": "Python 3 (ipykernel)",
   "language": "python",
   "name": "python3"
  },
  "language_info": {
   "codemirror_mode": {
    "name": "ipython",
    "version": 3
   },
   "file_extension": ".py",
   "mimetype": "text/x-python",
   "name": "python",
   "nbconvert_exporter": "python",
   "pygments_lexer": "ipython3",
   "version": "3.11.5"
  }
 },
 "nbformat": 4,
 "nbformat_minor": 5
}
