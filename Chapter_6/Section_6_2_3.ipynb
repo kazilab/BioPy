{
 "cells": [
  {
   "cell_type": "markdown",
   "id": "782e6274",
   "metadata": {},
   "source": [
    "# Chapter 6"
   ]
  },
  {
   "cell_type": "markdown",
   "id": "8f7abc2e",
   "metadata": {},
   "source": [
    "# 6.2.3. Box Plots"
   ]
  },
  {
   "cell_type": "code",
   "execution_count": null,
   "id": "a819296d",
   "metadata": {},
   "outputs": [],
   "source": [
    "import matplotlib.pyplot as plt\n",
    "import numpy as np\n",
    "\n",
    "# Set a random seed for reproducibility\n",
    "np.random.seed(0)\n",
    "\n",
    "# Generating sample data for 15 groups arranged randomly\n",
    "data = [np.random.normal(np.random.randint(70, 130), \n",
    "                         np.random.randint(5, 30), 200) for _ in range(10)]\n",
    "\n",
    "# Creating the box plot with 15 groups\n",
    "plt.boxplot(data, labels=[f'Gr-{i+1}' for i in range(15)])\n",
    "plt.title('Box Plot of Sample Data')\n",
    "plt.ylabel('Values')\n",
    "plt.show()"
   ]
  }
 ],
 "metadata": {
  "kernelspec": {
   "display_name": "Python 3 (ipykernel)",
   "language": "python",
   "name": "python3"
  },
  "language_info": {
   "codemirror_mode": {
    "name": "ipython",
    "version": 3
   },
   "file_extension": ".py",
   "mimetype": "text/x-python",
   "name": "python",
   "nbconvert_exporter": "python",
   "pygments_lexer": "ipython3",
   "version": "3.11.5"
  }
 },
 "nbformat": 4,
 "nbformat_minor": 5
}
