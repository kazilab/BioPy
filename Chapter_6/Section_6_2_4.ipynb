{
 "cells": [
  {
   "cell_type": "markdown",
   "id": "782e6274",
   "metadata": {},
   "source": [
    "# Chapter 6"
   ]
  },
  {
   "cell_type": "markdown",
   "id": "8f7abc2e",
   "metadata": {},
   "source": [
    "# 6.2.4. Line Graphs"
   ]
  },
  {
   "cell_type": "code",
   "execution_count": null,
   "id": "a819296d",
   "metadata": {},
   "outputs": [],
   "source": [
    "import matplotlib.pyplot as plt\n",
    "import numpy as np\n",
    "days = range(1, 11)  # Sample time series data for multiple lines\n",
    "values1 = [2, 3, 4, 3.5, 4, 4.5, 5, 6, 7, 8] \n",
    "values2 = np.random.rand(10) * 8 \n",
    "values3 = np.random.rand(10) * 8 \n",
    "# Creating multiple line graphs\n",
    "plt.plot(days, values1, marker='o', label='Series 1')\n",
    "plt.plot(days, values2, marker='s', label='Series 2')\n",
    "plt.plot(days, values3, marker='^', label='Series 3')\n",
    "# Adding titles and labels\n",
    "plt.title('Trend Over Time')\n",
    "plt.xlabel('Days')\n",
    "plt.ylabel('Value')\n",
    "plt.legend() # Adding a legend\n",
    "plt.show() # Show the plot"
   ]
  },
  {
   "cell_type": "code",
   "execution_count": null,
   "id": "4e908b87",
   "metadata": {},
   "outputs": [],
   "source": [
    "# Another example\n",
    "import matplotlib.pyplot as plt\n",
    "# Sample data: patient's tumor marker levels over time\n",
    "time = np.arange(0, 12, 1)  # Months\n",
    "tumor_markers = np.random.normal(30, 5, 12)  # Mock data\n",
    "plt.plot(time, tumor_markers, marker='o', color='green')\n",
    "plt.title('Tumor Marker Levels Over Time')\n",
    "plt.xlabel('Time (Months)')\n",
    "plt.ylabel('Marker Level')\n",
    "plt.show()"
   ]
  },
  {
   "cell_type": "code",
   "execution_count": null,
   "id": "7cc583ff",
   "metadata": {},
   "outputs": [],
   "source": []
  }
 ],
 "metadata": {
  "kernelspec": {
   "display_name": "Python 3 (ipykernel)",
   "language": "python",
   "name": "python3"
  },
  "language_info": {
   "codemirror_mode": {
    "name": "ipython",
    "version": 3
   },
   "file_extension": ".py",
   "mimetype": "text/x-python",
   "name": "python",
   "nbconvert_exporter": "python",
   "pygments_lexer": "ipython3",
   "version": "3.11.5"
  }
 },
 "nbformat": 4,
 "nbformat_minor": 5
}
