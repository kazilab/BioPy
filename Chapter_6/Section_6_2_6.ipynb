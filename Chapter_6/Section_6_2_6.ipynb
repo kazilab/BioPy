{
 "cells": [
  {
   "cell_type": "markdown",
   "id": "782e6274",
   "metadata": {},
   "source": [
    "# Chapter 6"
   ]
  },
  {
   "cell_type": "markdown",
   "id": "8f7abc2e",
   "metadata": {},
   "source": [
    "# 6.2.6. Bar Charts"
   ]
  },
  {
   "cell_type": "code",
   "execution_count": null,
   "id": "a819296d",
   "metadata": {},
   "outputs": [],
   "source": [
    "import matplotlib.pyplot as plt\n",
    "import numpy as np\n",
    "# Sample data with replicates for each group\n",
    "data = {\n",
    "    'Group A': [22, 23, 24],\n",
    "    'Group B': [43, 45, 47],\n",
    "    'Group C': [54, 56, 58],\n",
    "    'Group D': [34, 35, 36],\n",
    "    'Group E': [58, 60, 62],\n",
    "    'Group F': [40, 42, 44],\n",
    "    'Group G': [53, 55, 57],\n",
    "    'Group H': [46, 48, 50]\n",
    "}\n",
    "# Calculating means and SEMs for each group\n",
    "means = {group: np.mean(values) for group, values in data.items()}\n",
    "sems = {group: np.std(values, ddof=1) / np.sqrt(len(values)) for group, values in data.items()}\n",
    "# Creating the bar chart with error bars (SEM)\n",
    "plt.bar(means.keys(), means.values(), yerr=sems.values(), color='tab:blue', alpha=0.7, capsize=5)\n",
    "plt.title('Bar Chart with SEM of Sample Data')\n",
    "plt.xlabel('Category')\n",
    "plt.ylabel('Value')\n",
    "plt.show()"
   ]
  },
  {
   "cell_type": "code",
   "execution_count": null,
   "id": "8946320e",
   "metadata": {},
   "outputs": [],
   "source": []
  }
 ],
 "metadata": {
  "kernelspec": {
   "display_name": "Python 3 (ipykernel)",
   "language": "python",
   "name": "python3"
  },
  "language_info": {
   "codemirror_mode": {
    "name": "ipython",
    "version": 3
   },
   "file_extension": ".py",
   "mimetype": "text/x-python",
   "name": "python",
   "nbconvert_exporter": "python",
   "pygments_lexer": "ipython3",
   "version": "3.11.5"
  }
 },
 "nbformat": 4,
 "nbformat_minor": 5
}
