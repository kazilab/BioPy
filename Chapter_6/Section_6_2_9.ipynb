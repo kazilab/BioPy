{
 "cells": [
  {
   "cell_type": "markdown",
   "id": "782e6274",
   "metadata": {},
   "source": [
    "# Chapter 6"
   ]
  },
  {
   "cell_type": "markdown",
   "id": "8f7abc2e",
   "metadata": {},
   "source": [
    "# 6.2.9. Principal Component Analysis (PCA) Plots"
   ]
  },
  {
   "cell_type": "code",
   "execution_count": null,
   "id": "a819296d",
   "metadata": {},
   "outputs": [],
   "source": [
    "import numpy as np\n",
    "from sklearn.decomposition import PCA\n",
    "import matplotlib.pyplot as plt\n",
    "# Generating some random high-dimensional data\n",
    "np.random.seed(0)\n",
    "data = np.random.rand(100, 10)  # 100 samples with 10 features each\n",
    "# Performing PCA\n",
    "pca = PCA(n_components=2)\n",
    "data_transformed = pca.fit_transform(data)\n",
    "# Plotting the results\n",
    "plt.scatter(data_transformed[:, 0], data_transformed[:, 1])\n",
    "plt.title('PCA of Sample Data')\n",
    "plt.xlabel('Principal Component 1')\n",
    "plt.ylabel('Principal Component 2')\n",
    "plt.show()"
   ]
  }
 ],
 "metadata": {
  "kernelspec": {
   "display_name": "Python 3 (ipykernel)",
   "language": "python",
   "name": "python3"
  },
  "language_info": {
   "codemirror_mode": {
    "name": "ipython",
    "version": 3
   },
   "file_extension": ".py",
   "mimetype": "text/x-python",
   "name": "python",
   "nbconvert_exporter": "python",
   "pygments_lexer": "ipython3",
   "version": "3.11.5"
  }
 },
 "nbformat": 4,
 "nbformat_minor": 5
}
