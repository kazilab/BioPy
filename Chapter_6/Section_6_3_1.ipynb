{
 "cells": [
  {
   "cell_type": "markdown",
   "id": "782e6274",
   "metadata": {},
   "source": [
    "# Chapter 6"
   ]
  },
  {
   "cell_type": "markdown",
   "id": "8f7abc2e",
   "metadata": {},
   "source": [
    "# 6.3.1. Identifying missing data"
   ]
  },
  {
   "cell_type": "markdown",
   "id": "503d8b90",
   "metadata": {},
   "source": [
    "### Little's MCAR test"
   ]
  },
  {
   "cell_type": "code",
   "execution_count": null,
   "id": "8946320e",
   "metadata": {},
   "outputs": [],
   "source": [
    "# Install XeroGraph using PIP\n",
    "!pip install XeroGraph"
   ]
  },
  {
   "cell_type": "code",
   "execution_count": 1,
   "id": "9f5dc4c8",
   "metadata": {},
   "outputs": [],
   "source": [
    "# After installation import XeroAnalyzer\n",
    "from XeroGraph import XeroAnalyzer"
   ]
  },
  {
   "cell_type": "code",
   "execution_count": null,
   "id": "7dea572a",
   "metadata": {},
   "outputs": [],
   "source": [
    "# Import data using pandas\n",
    "import pandas as pd\n",
    "data = pd.read_csv('data.csv', index_col=0)\n",
    "print(data.head(5))"
   ]
  },
  {
   "cell_type": "code",
   "execution_count": 2,
   "id": "61ef9552",
   "metadata": {},
   "outputs": [
    {
     "name": "stdout",
     "output_type": "stream",
     "text": [
      "   feature1  feature2  feature3  feature4  feature5\n",
      "0       1.0         4       1.0       4.0       4.0\n",
      "1       2.0         6       2.0       3.0       3.0\n",
      "2       3.0         2       4.0       1.0       4.0\n",
      "3       4.0         4       3.0       2.0       2.0\n",
      "4       5.0         5       6.0       4.0       NaN\n"
     ]
    }
   ],
   "source": [
    "# alternatively use example data\n",
    "import pandas as pd\n",
    "data = pd.DataFrame({\n",
    "    'feature1': [1, 2, 3, 4, 5, 6, 7, 8, 9, 3, 4, None, 6, 4, 5, 1, None, 3, 4, 5, 6, 7, 8, 9, 3, 4, 1, 6, None, 5],\n",
    "    'feature2': [4, 6, 2, 4, 5, 6, 7, 8, 9, 2, 4, 3, 2, 2, 6, 4, 6, 2, 4, 5, 6, 7, 8, 9, 2, 4, 3, 2, 2, 6],\n",
    "    'feature3': [1, 2, 4, 3, 6, 2, 6, 6, None, 1, 5, 0, 3, 2, 1, 1, 2, 4, 3, None, 2, 6, 6, 1, 1, 5, 0, 3, 2, 1],\n",
    "    'feature4': [4, 3, 1, 2, 4, 5, 6, 7, 8, 9, 2, None, 3, 2, 1, 4, 3, 1, 2, 4, 5, 6, 7, 8, 9, 2, 1, 3, 2, 1],\n",
    "    'feature5': [4, 3, 4, 2, None, 6, 2, 4, 5, 6, 7, 8, 9, 2, 4, 4, 3, 4, 2, 1, 6, 2, 4, 5, None, 7, 8, 9, 2, 4]\n",
    "    \n",
    "})\n",
    "print(data.head(5))"
   ]
  },
  {
   "cell_type": "code",
   "execution_count": 3,
   "id": "acbe4552",
   "metadata": {},
   "outputs": [
    {
     "name": "stdout",
     "output_type": "stream",
     "text": [
      "The data is not Missing Completely at Random (MCAR).\n",
      "MCAR Test Result: {'chi_square_stat': 9.853490968801314, 'df': 4, 'p_value': 0.0429692625102445}\n"
     ]
    }
   ],
   "source": [
    "# Initialize XeroAnalyzer\n",
    "xg_test = XeroAnalyzer(data)\n",
    "# perform MCAR test\n",
    "mcar_result = xg_test.mcar()\n",
    "print(f\"MCAR Test Result: {mcar_result}\")"
   ]
  },
  {
   "cell_type": "code",
   "execution_count": null,
   "id": "2cfbeb60",
   "metadata": {},
   "outputs": [],
   "source": []
  }
 ],
 "metadata": {
  "kernelspec": {
   "display_name": "Python 3 (ipykernel)",
   "language": "python",
   "name": "python3"
  },
  "language_info": {
   "codemirror_mode": {
    "name": "ipython",
    "version": 3
   },
   "file_extension": ".py",
   "mimetype": "text/x-python",
   "name": "python",
   "nbconvert_exporter": "python",
   "pygments_lexer": "ipython3",
   "version": "3.11.5"
  }
 },
 "nbformat": 4,
 "nbformat_minor": 5
}
