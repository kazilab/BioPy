{
 "cells": [
  {
   "cell_type": "markdown",
   "id": "782e6274",
   "metadata": {},
   "source": [
    "# Chapter 7"
   ]
  },
  {
   "cell_type": "markdown",
   "id": "8f7abc2e",
   "metadata": {},
   "source": [
    "# 7.2.3. Hypothesis Testing"
   ]
  },
  {
   "cell_type": "code",
   "execution_count": 2,
   "id": "c06e9718",
   "metadata": {},
   "outputs": [
    {
     "name": "stdout",
     "output_type": "stream",
     "text": [
      "T-statistic: -0.18967234816995523\n",
      "P-value: 0.8499581918892353\n",
      "Fail to reject the null hypothesis: There is no significant difference between the groups.\n"
     ]
    }
   ],
   "source": [
    "import numpy as np\n",
    "from scipy import stats\n",
    "# Generating random sample data\n",
    "# Let’s say Group A represents a control group and Group B represent a treatment group\n",
    "np.random.seed(0)\n",
    "group_A = np.random.normal(100, 10, 50)  # Control group\n",
    "group_B = np.random.normal(102, 10, 50)  # Treatment group\n",
    "# Step 1: Formulate the hypotheses\n",
    "# H0: µA = µB (the means are equal)\n",
    "# H1: µA ≠ µB (the means are not equal)\n",
    "# Step 2: Select a significance level\n",
    "alpha = 0.05\n",
    "# Step 3: Calculate the test statistic\n",
    "t_statistic, p_value = stats.ttest_ind(group_A, group_B)\n",
    "# Step 4: Make a decision\n",
    "print(f'T-statistic: {t_statistic}')\n",
    "print(f'P-value: {p_value}')\n",
    "if p_value < alpha:\n",
    "    print(\"Reject the null hypothesis: There is a significant difference between the groups.\")\n",
    "else:\n",
    "    print(\"Fail to reject the null hypothesis: There is no significant difference between the groups.\")"
   ]
  },
  {
   "cell_type": "code",
   "execution_count": null,
   "id": "9f13c010",
   "metadata": {},
   "outputs": [],
   "source": []
  }
 ],
 "metadata": {
  "kernelspec": {
   "display_name": "Python 3 (ipykernel)",
   "language": "python",
   "name": "python3"
  },
  "language_info": {
   "codemirror_mode": {
    "name": "ipython",
    "version": 3
   },
   "file_extension": ".py",
   "mimetype": "text/x-python",
   "name": "python",
   "nbconvert_exporter": "python",
   "pygments_lexer": "ipython3",
   "version": "3.11.5"
  }
 },
 "nbformat": 4,
 "nbformat_minor": 5
}
