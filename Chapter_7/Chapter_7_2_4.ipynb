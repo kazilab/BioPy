{
 "cells": [
  {
   "cell_type": "markdown",
   "id": "782e6274",
   "metadata": {},
   "source": [
    "# Chapter 7"
   ]
  },
  {
   "cell_type": "markdown",
   "id": "8f7abc2e",
   "metadata": {},
   "source": [
    "# 7.2.4. Confidence Intervals"
   ]
  },
  {
   "cell_type": "code",
   "execution_count": 1,
   "id": "c06e9718",
   "metadata": {},
   "outputs": [
    {
     "name": "stdout",
     "output_type": "stream",
     "text": [
      "The 95% confidence interval for the mean effect of the drug is: (9.576444462989787, 10.782403630217118)\n"
     ]
    }
   ],
   "source": [
    "import numpy as np\n",
    "import scipy.stats as stats\n",
    "\n",
    "# Generating a synthetic dataset: effects of a drug on blood pressure reduction\n",
    "np.random.seed(0)\n",
    "sample_size = 100\n",
    "drug_effect = np.random.normal(10, 3, sample_size)  # mean effect is 10, with a standard deviation of 3\n",
    "\n",
    "# Calculate the sample mean and standard error of the mean (SEM)\n",
    "sample_mean = np.mean(drug_effect)\n",
    "sem = stats.sem(drug_effect)\n",
    "\n",
    "# Calculate the 95% confidence interval\n",
    "confidence_level = 0.95\n",
    "ci = stats.t.interval(confidence_level, df=sample_size-1, loc=sample_mean, scale=sem)\n",
    "\n",
    "print(f\"The 95% confidence interval for the mean effect of the drug is: {ci}\")"
   ]
  },
  {
   "cell_type": "code",
   "execution_count": null,
   "id": "9f13c010",
   "metadata": {},
   "outputs": [],
   "source": []
  }
 ],
 "metadata": {
  "kernelspec": {
   "display_name": "Python 3 (ipykernel)",
   "language": "python",
   "name": "python3"
  },
  "language_info": {
   "codemirror_mode": {
    "name": "ipython",
    "version": 3
   },
   "file_extension": ".py",
   "mimetype": "text/x-python",
   "name": "python",
   "nbconvert_exporter": "python",
   "pygments_lexer": "ipython3",
   "version": "3.11.5"
  }
 },
 "nbformat": 4,
 "nbformat_minor": 5
}
