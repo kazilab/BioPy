{
 "cells": [
  {
   "cell_type": "markdown",
   "id": "782e6274",
   "metadata": {},
   "source": [
    "# Chapter 7"
   ]
  },
  {
   "cell_type": "markdown",
   "id": "8f7abc2e",
   "metadata": {},
   "source": [
    "# 7.3.2. Identifying Patterns and Anomalies"
   ]
  },
  {
   "cell_type": "code",
   "execution_count": null,
   "id": "06fc7bc4",
   "metadata": {},
   "outputs": [],
   "source": [
    "import numpy as np\n",
    "import pandas as pd\n",
    "from scipy.stats import zscore\n",
    "from sklearn.decomposition import PCA\n",
    "from sklearn.cluster import KMeans\n",
    "import seaborn as sns\n",
    "import matplotlib.pyplot as plt\n",
    "\n",
    "# Example data\n",
    "data = pd.read_csv('example_data/data.csv')\n",
    "\n",
    "# Correlation Analysis\n",
    "correlation_matrix = data.corr()\n",
    "sns.heatmap(correlation_matrix, annot=True)\n",
    "plt.title('Correlation Analysis')\n",
    "plt.show()\n",
    "\n",
    "# Cluster Analysis\n",
    "kmeans = KMeans(n_clusters=3)\n",
    "clusters = kmeans.fit_predict(data)\n",
    "data['Cluster'] = clusters\n",
    "sns.pairplot(data, hue='Cluster')\n",
    "plt.title('Cluster analysis')\n",
    "plt.show()\n",
    "\n",
    "# Principal Component Analysis (PCA)\n",
    "pca = PCA(n_components=2)\n",
    "principal_components = pca.fit_transform(data.drop('Cluster', axis=1))\n",
    "pca_df = pd.DataFrame(data = principal_components, columns = ['PC1', 'PC2'])\n",
    "sns.scatterplot(x='PC1', y='PC2', data=pca_df)\n",
    "plt.title('PCA Result')\n",
    "plt.show()\n",
    "\n",
    "# Anomaly Detection using Z-scores\n",
    "z_scores = np.abs(zscore(data.drop('Cluster', axis=1)))\n",
    "threshold = 3\n",
    "outliers = np.where(z_scores > threshold)\n",
    "outlier_data = data.iloc[outliers[0]]\n",
    "plt.scatter(data.index, data['PLK1'])\n",
    "plt.scatter(outlier_data.index, outlier_data['PLK1'], color='r')\n",
    "plt.title('Anomaly Detection')\n",
    "plt.show()"
   ]
  },
  {
   "cell_type": "code",
   "execution_count": null,
   "id": "41cd6c61",
   "metadata": {},
   "outputs": [],
   "source": []
  }
 ],
 "metadata": {
  "kernelspec": {
   "display_name": "Python 3 (ipykernel)",
   "language": "python",
   "name": "python3"
  },
  "language_info": {
   "codemirror_mode": {
    "name": "ipython",
    "version": 3
   },
   "file_extension": ".py",
   "mimetype": "text/x-python",
   "name": "python",
   "nbconvert_exporter": "python",
   "pygments_lexer": "ipython3",
   "version": "3.11.5"
  }
 },
 "nbformat": 4,
 "nbformat_minor": 5
}
