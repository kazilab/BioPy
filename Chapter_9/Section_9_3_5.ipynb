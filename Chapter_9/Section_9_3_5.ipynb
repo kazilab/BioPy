{
 "cells": [
  {
   "cell_type": "markdown",
   "id": "3f00271d",
   "metadata": {},
   "source": [
    "# Chapter 9"
   ]
  },
  {
   "cell_type": "markdown",
   "id": "22bbb7ec",
   "metadata": {},
   "source": [
    "## 9.3. Python libraries for image analysis"
   ]
  },
  {
   "cell_type": "markdown",
   "id": "1aa896aa",
   "metadata": {},
   "source": [
    "### 9.3.5. Napari in biomedical image processing"
   ]
  },
  {
   "cell_type": "code",
   "execution_count": null,
   "id": "e43019ce",
   "metadata": {},
   "outputs": [],
   "source": [
    "import napari\n",
    "from skimage import io, filters\n",
    "import numpy as np\n",
    "\n",
    "# Load a multi-dimensional biomedical image (replace with actual image path)\n",
    "image = io.imread('example_data/ihc.png')\n",
    "\n",
    "# Apply some basic image processing using scikit-image (e.g., Gaussian filtering)\n",
    "smoothed_image = filters.gaussian(image, sigma=1)\n",
    "\n",
    "# Create a Napari viewer\n",
    "viewer = napari.Viewer()\n",
    "\n",
    "# Add the original image and the processed (smoothed) image as layers\n",
    "viewer.add_image(image, name='Original Image')\n",
    "viewer.add_image(smoothed_image, name='Smoothed Image')\n",
    "\n",
    "# Start Napari interactive viewer\n",
    "napari.run()"
   ]
  },
  {
   "cell_type": "code",
   "execution_count": null,
   "id": "b314cf1b",
   "metadata": {},
   "outputs": [],
   "source": []
  }
 ],
 "metadata": {
  "kernelspec": {
   "display_name": "Python 3 (ipykernel)",
   "language": "python",
   "name": "python3"
  },
  "language_info": {
   "codemirror_mode": {
    "name": "ipython",
    "version": 3
   },
   "file_extension": ".py",
   "mimetype": "text/x-python",
   "name": "python",
   "nbconvert_exporter": "python",
   "pygments_lexer": "ipython3",
   "version": "3.11.9"
  }
 },
 "nbformat": 4,
 "nbformat_minor": 5
}
